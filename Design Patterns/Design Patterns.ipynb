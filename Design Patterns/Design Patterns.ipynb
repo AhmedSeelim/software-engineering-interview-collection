{
 "cells": [
  {
   "cell_type": "markdown",
   "id": "38671f30-cb0a-4236-83a0-b13cd3dcaafd",
   "metadata": {},
   "source": [
    "# __Notebook Index__ \n",
    "\n",
    "## Design Patterns Overview\n",
    "\n",
    "## Creational Design Patterns\n",
    "- [Factory Method](#factory-method)\n",
    "- [Abstract Factory Method](#abstract-factory-method)\n",
    "- [Builder Method](#builder-method)\n",
    "- [Prototype Method](#prototype-method)\n",
    "- [Singleton Method](#singleton-method)\n",
    "\n",
    "## Structural Design Patterns\r\n",
    "- [Adapter Method](#adapter-method)\r\n",
    "- [Bridge Method](#bridge-method)\r\n",
    "- [Composite Method](#composite-method)\r\n",
    "- [Decorator Method](#decorator-method##)\r\n",
    "\r\n",
    "# Behavioral Design Patterns\r\n",
    "- [Chain of Responsibility Method](#chain-of-responsibility-method)\r\n",
    "- [Observer Method](#observer-method)\r\n",
    "- [State Method](#state-method)\r\n",
    "- [Strategy Method](#strategymethod)\r\n",
    "\n",
    "\n"
   ]
  },
  {
   "cell_type": "markdown",
   "id": "4b63a0b8-249c-494e-9086-6ccd23b1cc7b",
   "metadata": {},
   "source": [
    "------------------------------------------------------------------"
   ]
  },
  {
   "cell_type": "markdown",
   "id": "07905e5b-bb94-4379-9496-b48525e9392c",
   "metadata": {},
   "source": [
    "# Design Patterns Overview"
   ]
  },
  {
   "cell_type": "markdown",
   "id": "1776e469-daf2-4576-bc7b-d9fbc35d681b",
   "metadata": {},
   "source": [
    "__Design Patterns provide the general repeatable solution to a commonly occurring problem in software design.__ usually represent some of the best practices adopted by experienced object-oriented software developers."
   ]
  },
  {
   "cell_type": "markdown",
   "id": "9408196b-0f12-4c09-bdc3-5bba28d490ab",
   "metadata": {},
   "source": [
    "*not consider the Design Patterns as the finished design that can be directly converted into code. They are only __templates__ that describe how to solve a particular problem with great efficiency."
   ]
  },
  {
   "cell_type": "markdown",
   "id": "e5f0e24e-b99c-4755-aba0-b7437beacd9a",
   "metadata": {},
   "source": [
    "## Classification of Design Patterns\r\n"
   ]
  },
  {
   "cell_type": "markdown",
   "id": "823584c8-ae57-471f-aeb4-910ee4d4efc0",
   "metadata": {},
   "source": [
    "<div align=\"center\" style=\" font-size: 80%; text-align: center; margin: 0 auto\">\n",
    "<img src=\"Design-Patterns-Catalog.png\"  style=\"display: block; margin-left: auto; margin-right: auto;\";/>\n",
    "</div>"
   ]
  },
  {
   "cell_type": "markdown",
   "id": "465d9fec-cf6c-40ba-b2b3-733ea624b0ed",
   "metadata": {},
   "source": [
    "## by Purpose :"
   ]
  },
  {
   "cell_type": "markdown",
   "id": "289e05e5-0c32-4f4d-bbfd-c6b1e363a370",
   "metadata": {},
   "source": [
    "### 1- Creational Design Pattern:\r\n"
   ]
  },
  {
   "cell_type": "markdown",
   "id": "32d59f51-07bd-47cb-bc03-c58f7364f906",
   "metadata": {},
   "source": [
    "__provides essential information related to the Class instantiation or the object instantiation (instance creation) in a well-defined way.__"
   ]
  },
  {
   "cell_type": "markdown",
   "id": "8e6042bc-e3fc-4333-ae3c-098712ef3b4a",
   "metadata": {},
   "source": [
    "* class-creation patterns use inheritance effectively in the instantiation process,\n",
    "* object-creation patterns use delegation effectively to get the job done."
   ]
  },
  {
   "cell_type": "markdown",
   "id": "1e589d9d-d8bf-493c-9476-26268b4c92b5",
   "metadata": {},
   "source": [
    "### 2-Structural Design Pattern:\r\n"
   ]
  },
  {
   "cell_type": "markdown",
   "id": "e3629f0a-10ef-43c6-b1bb-b35a08f25fc0",
   "metadata": {},
   "source": [
    "__provide mechanisms to organize class and objects for larger structures and provide new functionality while keeping these structures flexible and efficient.__"
   ]
  },
  {
   "cell_type": "markdown",
   "id": "a43bd166-5ae7-4b9b-a2b4-b245d80baf30",
   "metadata": {},
   "source": [
    "### 3-Behavioral Design Pattern:\r\n"
   ]
  },
  {
   "cell_type": "markdown",
   "id": "16818af8-93eb-4b0b-a79d-853b76a6b724",
   "metadata": {},
   "source": [
    "__deal with communication patterns between objects and concerned with algorithms and the assignment of responsibilities between objects.__"
   ]
  },
  {
   "cell_type": "markdown",
   "id": "fd3104ef-4b80-4168-8487-179f553ab6b5",
   "metadata": {},
   "source": [
    "## by Scope :"
   ]
  },
  {
   "cell_type": "markdown",
   "id": "2b82322e-51a7-416a-94b2-f0e04307cfde",
   "metadata": {},
   "source": [
    "__Class Patterns:__ focus on relationships between classes and concerned with defining the structure of classes and how they interact with each other."
   ]
  },
  {
   "cell_type": "markdown",
   "id": "330ab260-7e94-41f8-8a97-e2046f854470",
   "metadata": {},
   "source": [
    "__Object Patterns:__ focus on object composition and collaboration and deal with how objects interact and work together to achieve a specific behavior.\r\n",
    "\r\n"
   ]
  },
  {
   "cell_type": "markdown",
   "id": "4e917761-1d29-46e3-a054-3974cb518a1a",
   "metadata": {},
   "source": [
    "## Advantages of using Design Patterns"
   ]
  },
  {
   "cell_type": "markdown",
   "id": "5d5af70f-0045-46b9-9295-040a74750003",
   "metadata": {},
   "source": [
    "<!DOCTYPE html>\r\n",
    "<html lang=\"en\">\r\n",
    "<head>\r\n",
    "    <meta charset=\"UTF-8\">\r\n",
    "    <meta name=\"viewport\" content=\"width=device-width, initial-scale=1.0\">\r\n",
    "    <tterns</title>\r\n",
    "</head>\r\n",
    "<body>\r\n",
    "    <ul>\r\n",
    "        <li><strong>Reusability:</strong> By using Inheritance, they help in making the code reusable and hence we can use them in multiple projects.</li>\r\n",
    "        <li><strong>Transparent:</strong> It improves the transparency of the code for all the developers who are going to use it in the future.</li>\r\n",
    "        <li><strong>Established Solution:</strong> We can blindly believe in the solution provided by Design Patterns as they are well-proved and testified at critical stages.</li>\r\n",
    "        <li><strong>Established Communication:</strong> Design patterns make communication between designers more efficient. Software professionals can immediately picture the high-level design in their heads when they refer to the name of the pattern used to solve a particular issue when discussing system design.</li>\r\n",
    "    </ul>\r\n",
    "</body>\r\n",
    "</html>\r\n"
   ]
  },
  {
   "cell_type": "markdown",
   "id": "939524a0-f983-4104-babd-dc6faaf99ba5",
   "metadata": {},
   "source": [
    "----------"
   ]
  },
  {
   "cell_type": "markdown",
   "id": "20fae19e-599e-4c2c-bb7e-a88d313aa115",
   "metadata": {},
   "source": [
    "# Creational Design Pattern"
   ]
  },
  {
   "cell_type": "markdown",
   "id": "3909dce3-3913-4eb6-82f0-9bce146ef4bd",
   "metadata": {},
   "source": [
    "<a id=\"factory-method\"></a>\n",
    "## Factory Method"
   ]
  },
  {
   "cell_type": "markdown",
   "id": "f689037a-5894-4e0d-813a-2a760c0713f0",
   "metadata": {},
   "source": [
    "used in object-oriented programming. It provides an interface for creating objects in a superclass, but allows subclasses to alter the type of objects that will be created. This pattern defines an interface for creating an object, but delay the instantiation of the actual object to subclasses."
   ]
  },
  {
   "cell_type": "markdown",
   "id": "a3424ec6-582f-4ce5-b0b5-27e42c86ea5b",
   "metadata": {},
   "source": [
    "__Problems we face without Factory Method:__"
   ]
  },
  {
   "cell_type": "markdown",
   "id": "3623ed32-6c68-4ea5-a4eb-c1cebdf3f423",
   "metadata": {},
   "source": [
    "Suppose we have created an app whose main purpose is to translate one language into another and currently our app works with 10 languages only. Now our app has become widely popular among people but the demand has grown suddenly to include 5 more languages. \r\n",
    "It’s a piece of great news! only for the owner not for the developers. They have to change the whole code because now most part of the code is coupled with the existing languages only and that’s why developers have to make changes to the entire codebase which is really a difficult task to do.\r\n",
    "Let’s look at the code for the problem which we may face without using the factory method."
   ]
  },
  {
   "cell_type": "code",
   "execution_count": 7,
   "id": "da98c143-eacb-4ffe-aade-bb2b0b987cd0",
   "metadata": {},
   "outputs": [
    {
     "name": "stdout",
     "output_type": "stream",
     "text": [
      "voiture\n",
      "car\n",
      "coche\n",
      "bicyclette\n",
      "bike\n",
      "bicicleta\n",
      "cyclette\n",
      "cycle\n",
      "ciclo\n"
     ]
    }
   ],
   "source": [
    "# Python Code for Object Oriented Concepts without using Factory method \n",
    "\n",
    "class FrenchLocalizer:\n",
    "\n",
    "\t\"\"\" it simply returns the french version \"\"\"\n",
    "\n",
    "\tdef __init__(self):\n",
    "\n",
    "\t\tself.translations = {\"car\": \"voiture\", \"bike\": \"bicyclette\",\n",
    "\t\t\t\t\t\t\t\"cycle\":\"cyclette\"}\n",
    "\n",
    "\tdef localize(self, msg):\n",
    "\n",
    "\t\t\"\"\"change the message using translations\"\"\"\n",
    "\t\treturn self.translations.get(msg, msg)\n",
    "\n",
    "class SpanishLocalizer:\n",
    "\t\"\"\"it simply returns the spanish version\"\"\"\n",
    "\n",
    "\tdef __init__(self):\n",
    "\n",
    "\t\tself.translations = {\"car\": \"coche\", \"bike\": \"bicicleta\",\n",
    "\t\t\t\t\t\t\t\"cycle\":\"ciclo\"}\n",
    "\n",
    "\tdef localize(self, msg):\n",
    "\n",
    "\t\t\"\"\"change the message using translations\"\"\"\n",
    "\t\treturn self.translations.get(msg, msg)\n",
    "\n",
    "class EnglishLocalizer:\n",
    "\t\"\"\"Simply return the same message\"\"\"\n",
    "\n",
    "\tdef localize(self, msg):\n",
    "\t\treturn msg\n",
    "\n",
    "if __name__ == \"__main__\":\n",
    "\n",
    "\t# main method to call others\n",
    "\tf = FrenchLocalizer()\n",
    "\te = EnglishLocalizer()\n",
    "\ts = SpanishLocalizer()\n",
    "\n",
    "\t# list of strings\n",
    "\tmessage = [\"car\", \"bike\", \"cycle\"]\n",
    "\n",
    "\tfor msg in message:\n",
    "\t\tprint(f.localize(msg))\n",
    "\t\tprint(e.localize(msg))\n",
    "\t\tprint(s.localize(msg))\n"
   ]
  },
  {
   "cell_type": "markdown",
   "id": "301fe663-a64f-4e03-9d71-1f2315eecf37",
   "metadata": {},
   "source": [
    "__Solution by Factory Method:__\r\n",
    "Its solution is to replace the straightforward object construction calls with calls to the special factory method. Actually, there will be no difference in the object creation but they are being called within the factory method."
   ]
  },
  {
   "cell_type": "markdown",
   "id": "70926a83-3480-4104-bcbf-ecfff5a698c9",
   "metadata": {},
   "source": [
    "<div align=\"center\" style=\" font-size: 80%; text-align: center; margin: 0 auto\">\n",
    "<img src=\"solution_factory-_diagram.png\"  style=\"display: block; margin-left: auto; margin-right: auto;\";/>\n",
    "</div>"
   ]
  },
  {
   "cell_type": "code",
   "execution_count": 8,
   "id": "561b640b-da34-4a86-a731-7305671c2979",
   "metadata": {},
   "outputs": [
    {
     "name": "stdout",
     "output_type": "stream",
     "text": [
      "voiture\n",
      "car\n",
      "coche\n",
      "bicyclette\n",
      "bike\n",
      "bicicleta\n",
      "cyclette\n",
      "cycle\n",
      "ciclo\n"
     ]
    }
   ],
   "source": [
    "# Python Code for factory method \n",
    "# it comes under the creational \n",
    "# Design Pattern\n",
    "\n",
    "class FrenchLocalizer:\n",
    "\n",
    "\t\"\"\" it simply returns the french version \"\"\"\n",
    "\n",
    "\tdef __init__(self):\n",
    "\n",
    "\t\tself.translations = {\"car\": \"voiture\", \"bike\": \"bicyclette\",\n",
    "\t\t\t\t\t\t\t\"cycle\":\"cyclette\"}\n",
    "\n",
    "\tdef localize(self, msg):\n",
    "\n",
    "\t\t\"\"\"change the message using translations\"\"\"\n",
    "\t\treturn self.translations.get(msg, msg)\n",
    "\n",
    "class SpanishLocalizer:\n",
    "\t\"\"\"it simply returns the spanish version\"\"\"\n",
    "\n",
    "\tdef __init__(self):\n",
    "\t\tself.translations = {\"car\": \"coche\", \"bike\": \"bicicleta\",\n",
    "\t\t\t\t\t\t\t\"cycle\":\"ciclo\"}\n",
    "\n",
    "\tdef localize(self, msg):\n",
    "\n",
    "\t\t\"\"\"change the message using translations\"\"\"\n",
    "\t\treturn self.translations.get(msg, msg)\n",
    "\n",
    "class EnglishLocalizer:\n",
    "\t\"\"\"Simply return the same message\"\"\"\n",
    "\n",
    "\tdef localize(self, msg):\n",
    "\t\treturn msg\n",
    "\n",
    "def Factory(language =\"English\"):\n",
    "\n",
    "\t\"\"\"Factory Method\"\"\"\n",
    "\tlocalizers = {\n",
    "\t\t\"French\": FrenchLocalizer,\n",
    "\t\t\"English\": EnglishLocalizer,\n",
    "\t\t\"Spanish\": SpanishLocalizer,\n",
    "\t}\n",
    "\n",
    "\treturn localizers[language]()\n",
    "\n",
    "if __name__ == \"__main__\":\n",
    "\n",
    "\tf = Factory(\"French\")\n",
    "\te = Factory(\"English\")\n",
    "\ts = Factory(\"Spanish\")\n",
    "\n",
    "\tmessage = [\"car\", \"bike\", \"cycle\"]\n",
    "\n",
    "\tfor msg in message:\n",
    "\t\tprint(f.localize(msg))\n",
    "\t\tprint(e.localize(msg))\n",
    "\t\tprint(s.localize(msg))\n"
   ]
  },
  {
   "cell_type": "markdown",
   "id": "e44cc8e2-3487-4e7e-b017-dd1be17790ce",
   "metadata": {},
   "source": [
    "__Advantages of using Factory method:__\r\n",
    "We can easily add new types of products without disturbing the existing client cod , tight coupling is being avoided between the products and the creator classes and object                                                             iles."
   ]
  },
  {
   "cell_type": "markdown",
   "id": "a28fc5c7-c4c0-443c-b08d-20724969090c",
   "metadata": {},
   "source": [
    "__Disadvantages of using Factory method:__\n",
    "To create a particular concrete product object, the client might have to sub-class the creator class\n",
    ",You end up with a huge number of small files i.e, cluttering the files."
   ]
  },
  {
   "cell_type": "markdown",
   "id": "a31f8749-8731-4381-994d-a46ced3bae47",
   "metadata": {},
   "source": [
    "----"
   ]
  },
  {
   "cell_type": "markdown",
   "id": "4e89391e-4245-4277-b0f3-4a5edac0811e",
   "metadata": {},
   "source": [
    "<a id=\"abstract-factory-method\"></a>\n",
    "## Abstract Factory Method\n"
   ]
  },
  {
   "cell_type": "markdown",
   "id": "e23069cf-6e9d-47d8-9c4c-2c9bff6a0aa9",
   "metadata": {},
   "source": [
    "This pattern provides an interface for creating families of related or dependent objects without specifying their concrete classes. It's used to create a set of related objects, ensuring that they are compatible and follow a common theme. This pattern is useful when there are multiple families of related products, and the system needs to be independent of how these products are created."
   ]
  },
  {
   "cell_type": "markdown",
   "id": "a4748544-4e9c-4956-b114-2984aa006c73",
   "metadata": {},
   "source": [
    "__Problem we face without Abstract Factory Method:__"
   ]
  },
  {
   "cell_type": "markdown",
   "id": "3797ef78-94e3-454e-bccf-47862eef558e",
   "metadata": {},
   "source": [
    "Imagine you want to join one of the elite batches of GeeksforGeeks. So, you will go there and ask about the Courses available, their Fee structure, their timings, and other important things. They will simply look at their system and will give you all the information you required. Looks simple? Think about the developers how they make the system so organized and how their website is so lubricative.\n",
    "\n",
    "Developers will make unique classes for each course which will contain its properties like Fee structure, timings, and other things. But how they will call them and how will they instantiate their objects?\n",
    "\n",
    "Here arises the problem, suppose initially there are only 3-4 courses available at GeeksforGeeks, but later they added 5 new courses. \n",
    "So, we have to manually instantiate their objects which is not a good thing according to the developer’s side. "
   ]
  },
  {
   "cell_type": "markdown",
   "id": "03330d6f-90fc-4f9b-a435-2f46439e0b25",
   "metadata": {},
   "source": [
    "__Diagrammatic representation of Problems without using Abstract Factory Method__\n",
    "<div align=\"center\" style=\" font-size: 80%; text-align: center; margin: 0 auto\">\n",
    "<img src=\"abstractfactory.png\"  style=\"display: block; margin-left: auto; margin-right: auto;\";/>\n",
    "</div>"
   ]
  },
  {
   "cell_type": "code",
   "execution_count": 9,
   "id": "09f0aed8-d899-4c28-b4db-36f13963992b",
   "metadata": {},
   "outputs": [
    {
     "name": "stdout",
     "output_type": "stream",
     "text": [
      "Name of the course is SDE and its price is 15000\n",
      "Name of the course is DSA and its price is 11000\n",
      "Name of the course is STL and its price is 8000\n"
     ]
    }
   ],
   "source": [
    "# Python Code for object oriented concepts without using the Abstract factory method in class\n",
    "\n",
    "class DSA:\n",
    "\n",
    "\t\"\"\" Class for Data Structure and Algorithms \"\"\"\n",
    "\n",
    "\tdef price(self):\n",
    "\t\treturn 11000\n",
    "\n",
    "\tdef __str__(self):\n",
    "\t\treturn \"DSA\"\n",
    "\n",
    "class STL:\n",
    "\n",
    "\t\"\"\"Class for Standard Template Library\"\"\"\n",
    "\n",
    "\tdef price(self):\n",
    "\t\treturn 8000\n",
    "\n",
    "\tdef __str__(self):\n",
    "\t\treturn \"STL\"\n",
    "\n",
    "class SDE:\n",
    "\n",
    "\t\"\"\"Class for Software Development Engineer\"\"\"\n",
    "\n",
    "\tdef price(self):\n",
    "\t\treturn 15000\n",
    "\n",
    "\tdef __str__(self):\n",
    "\t\treturn 'SDE'\n",
    "\n",
    "# main method\n",
    "if __name__ == \"__main__\":\n",
    "\n",
    "\tsde = SDE() # object for SDE class\n",
    "\tdsa = DSA() # object for DSA class\n",
    "\tstl = STL() # object for STL class\n",
    "\n",
    "\tprint(f'Name of the course is {sde} and its price is {sde.price()}')\n",
    "\tprint(f'Name of the course is {dsa} and its price is {dsa.price()}')\n",
    "\tprint(f'Name of the course is {stl} and its price is {stl.price()}')\n"
   ]
  },
  {
   "cell_type": "markdown",
   "id": "f549de6b-c5b5-4f30-b66d-fc6087edb476",
   "metadata": {},
   "source": [
    "                                      "
   ]
  },
  {
   "cell_type": "markdown",
   "id": "4dd12373-58d5-4f6d-b621-2cb91bf9f81b",
   "metadata": {},
   "source": [
    "\n",
    "__Solution by using Abstract Factory Method:__\n",
    "\n",
    "Its solution is to replace the straightforward object construction calls with calls to the special abstract factory method. Actually, there will be no difference in the object creation but they are being called within the factory method. \r\n",
    "Now we will create a unique class whose name is Course_At_GFG which will handle all the object instantiation automatically. Now, we don’t have to worry about how many courses we are adding after some tim\r\n",
    "\r\n"
   ]
  },
  {
   "cell_type": "markdown",
   "id": "004bbd37-2208-423e-9d80-6a72a4ec72e7",
   "metadata": {},
   "source": [
    "<div align=\"center\" style=\" font-size: 80%; text-align: center; margin: 0 auto\">\n",
    "<img src=\"solution_abstarct_factory.png\"  style=\"display: block; margin-left: auto; margin-right: auto;\";/>\n",
    "</div>"
   ]
  },
  {
   "cell_type": "code",
   "execution_count": 10,
   "id": "91b80a30-7a94-42b8-baf7-7bc08907926f",
   "metadata": {},
   "outputs": [
    {
     "name": "stdout",
     "output_type": "stream",
     "text": [
      "We have a course named STL\n",
      "its price is 8000\n",
      "We have a course named STL\n",
      "its price is 8000\n",
      "We have a course named DSA\n",
      "its price is 11000\n",
      "We have a course named STL\n",
      "its price is 8000\n",
      "We have a course named DSA\n",
      "its price is 11000\n"
     ]
    }
   ],
   "source": [
    "# Python Code for object\n",
    "# oriented concepts using\n",
    "# the abstract factory\n",
    "# design pattern\n",
    "\n",
    "import random\n",
    "\n",
    "class Course_At_GFG:\n",
    "\n",
    "\t\"\"\" GeeksforGeeks portal for courses \"\"\"\n",
    "\n",
    "\tdef __init__(self, courses_factory = None):\n",
    "\t\t\"\"\"course factory is out abstract factory\"\"\"\n",
    "\n",
    "\t\tself.course_factory = courses_factory\n",
    "\n",
    "\tdef show_course(self):\n",
    "\n",
    "\t\t\"\"\"creates and shows courses using the abstract factory\"\"\"\n",
    "\n",
    "\t\tcourse = self.course_factory()\n",
    "\n",
    "\t\tprint(f'We have a course named {course}')\n",
    "\t\tprint(f'its price is {course.Fee()}')\n",
    "\n",
    "\n",
    "class DSA:\n",
    "\n",
    "\t\"\"\"Class for Data Structure and Algorithms\"\"\"\n",
    "\n",
    "\tdef Fee(self):\n",
    "\t\treturn 11000\n",
    "\n",
    "\tdef __str__(self):\n",
    "\t\treturn \"DSA\"\n",
    "\n",
    "class STL:\n",
    "\n",
    "\t\"\"\"Class for Standard Template Library\"\"\"\n",
    "\n",
    "\tdef Fee(self):\n",
    "\t\treturn 8000\n",
    "\n",
    "\tdef __str__(self):\n",
    "\t\treturn \"STL\"\n",
    "\n",
    "class SDE:\n",
    "\n",
    "\t\"\"\"Class for Software Development Engineer\"\"\"\n",
    "\n",
    "\tdef Fee(self):\n",
    "\t\treturn 15000\n",
    "\n",
    "\tdef __str__(self):\n",
    "\t\treturn 'SDE'\n",
    "\n",
    "def random_course():\n",
    "\n",
    "\t\"\"\"A random class for choosing the course\"\"\"\n",
    "\n",
    "\treturn random.choice([SDE, STL, DSA])()\n",
    "\n",
    "\n",
    "if __name__ == \"__main__\":\n",
    "\n",
    "\tcourse = Course_At_GFG(random_course)\n",
    "\n",
    "\tfor i in range(5):\n",
    "\t\tcourse.show_course()\n"
   ]
  },
  {
   "cell_type": "markdown",
   "id": "f23fb2c1-446f-415c-9cbd-8535f8d711c8",
   "metadata": {},
   "source": [
    "__Advantages of using Abstract Factory method:__\r\n",
    "This pattern is particularly useful when the client doesn’t know exactly what type to create. \r\n",
    "\r\n",
    "It is easy to introduce new variants of the products without breaking the existing client code.\r\n",
    "Products which we are getting from the factory are surely compatible with each other."
   ]
  },
  {
   "cell_type": "markdown",
   "id": "c67d1c09-3004-421e-b722-236ce57eee70",
   "metadata": {},
   "source": [
    "__Disadvantages of using Abstract Factory method:__\n",
    "Our simple code may become complicated due to the existence of a lot of classes.\n",
    "We end up with a huge number of small files i.e, cluttering of files."
   ]
  },
  {
   "cell_type": "markdown",
   "id": "6848de0b-c233-4e93-b533-b519ddc4f6d0",
   "metadata": {},
   "source": [
    "___________"
   ]
  },
  {
   "cell_type": "markdown",
   "id": "a73a094c-7196-4f30-a394-6b5b51653870",
   "metadata": {},
   "source": [
    "<a id=\"builder-method\"></a>\n",
    "## Builder Method "
   ]
  },
  {
   "cell_type": "markdown",
   "id": "7db5da72-a2e0-46f3-a663-151a6233ff4a",
   "metadata": {},
   "source": [
    "used to construct complex objects step by step. It allows the construction of different types and representations of an object using the same construction process. The key idea behind the Builder pattern is to __separate the construction of a complex object from its representation__, so that the same construction process can create different representations."
   ]
  },
  {
   "cell_type": "markdown",
   "id": "772a308d-4da0-4678-b156-5c3d6b03e8cc",
   "metadata": {},
   "source": [
    "__UML Diagram of Builder Design Pattern__\n",
    "<div align=\"center\" style=\" font-size: 80%; text-align: center; margin: 0 auto\">\n",
    "<img src=\"Builder-Method-2.png\"  style=\"display: block; margin-left: auto; margin-right: auto;\";/>\n",
    "</div>"
   ]
  },
  {
   "cell_type": "markdown",
   "id": "b3c55bd9-a851-4987-ba38-1938ebbab1bc",
   "metadata": {},
   "source": [
    "__Problem without using the Builder Method:__\n",
    "\n",
    "Imagine you want to join one of the elite batches of GeeksforGeeks. So, you will go there and ask about the Fee structure, timings available, and batches about the course you want to join. After looking at the system, they will tell you about the courses, their Fee structures, timings available and batches. That’s it! (No! we are not done yet because we are good developers).\n",
    "Our main purpose is to design the system flexible, reliable, organized and lubricative. what Unexperienced developers will do is that they will create a separate and unique class for each and every course provided by GeeksforGeeks. Then they will create separate object instantiation for each and every class although which is not required every time. The main problem will arise when GeeksforGeeks will start new courses and developers have to add new classes as well because their code is not much flexible."
   ]
  },
  {
   "cell_type": "markdown",
   "id": "4ce845c2-5aee-403f-910b-43bd8421dc7a",
   "metadata": {},
   "source": [
    "<div align=\"center\" style=\" font-size: 80%; text-align: center; margin: 0 auto\">\n",
    "<img src=\"problem-builder-Method-2.png\"  style=\"display: block; margin-left: auto; margin-right: auto;\";/>\n",
    "</div>"
   ]
  },
  {
   "cell_type": "code",
   "execution_count": 11,
   "id": "f1aca43f-13db-4141-8ca0-ba89aa31f50f",
   "metadata": {},
   "outputs": [
    {
     "name": "stdout",
     "output_type": "stream",
     "text": [
      "Name of Course: SDE and its Fee: 10000\n",
      "Name of Course: STL and its Fee: 5000\n",
      "Name of Course: DSA and its Fee: 8000\n"
     ]
    }
   ],
   "source": [
    "#code is written without using the Builder Method\n",
    "\n",
    "\n",
    "class DSA:\n",
    "    \"\"\"Class for Data Structures and Algorithms\"\"\"\n",
    "\n",
    "    def __init__(self):\n",
    "        self.fee = 8000\n",
    "        self.available_batches()\n",
    "\n",
    "    def available_batches(self):\n",
    "        self.batches = 5\n",
    "\n",
    "    def __str__(self):\n",
    "        return \"DSA\"\n",
    "\n",
    "\n",
    "class SDE:\n",
    "    \"\"\"Class for Software Development Engineer\"\"\"\n",
    "\n",
    "    def __init__(self):\n",
    "        self.fee = 10000\n",
    "        self.available_batches()\n",
    "\n",
    "    def available_batches(self):\n",
    "        self.batches = 4\n",
    "\n",
    "    def __str__(self):\n",
    "        return \"SDE\"\n",
    "\n",
    "\n",
    "class STL:\n",
    "    \"\"\"Class for Standard Template Library of C++\"\"\"\n",
    "\n",
    "    def __init__(self):\n",
    "        self.fee = 5000\n",
    "        self.available_batches()\n",
    "\n",
    "    def available_batches(self):\n",
    "        self.batches = 7\n",
    "\n",
    "    def __str__(self):\n",
    "        return \"STL\"\n",
    "\n",
    "\n",
    "if __name__ == \"__main__\":\n",
    "    sde = SDE()  # object for SDE\n",
    "    dsa = DSA()  # object for DSA\n",
    "    stl = STL()  # object for STL\n",
    "\n",
    "    print(f'Name of Course: {sde} and its Fee: {sde.fee}')\n",
    "    print(f'Name of Course: {stl} and its Fee: {stl.fee}')\n",
    "    print(f'Name of Course: {dsa} and its Fee: {dsa.fee}')\n"
   ]
  },
  {
   "cell_type": "markdown",
   "id": "709d8214-3909-44c9-bce5-8608597def17",
   "metadata": {},
   "source": [
    "__Solution by Builder Method:__\n",
    "\r\n",
    "Our final end product should be any course from GeeksforGeeks. It might be either SDE, STL or DSA. We have to go through many steps before choosing a particular course such as finding details about the courses, syllabus, fee structure, timings, and batches. Here using the same process we can select different courses available at GeeksforGeeks. That’s the benefit of using the builder Pattern."
   ]
  },
  {
   "cell_type": "markdown",
   "id": "e3a19e48-0c1b-498f-aec8-3c59e34e3493",
   "metadata": {},
   "source": [
    "<div align=\"center\" style=\" font-size: 80%; text-align: center; margin: 0 auto\">\n",
    "<img src=\"solution-Builder-method.png\"  style=\"display: block; margin-left: auto; margin-right: auto;\";/>\n",
    "</div>"
   ]
  },
  {
   "cell_type": "code",
   "execution_count": 12,
   "id": "323daf03-eb7c-44db-963a-9e7d34f9b006",
   "metadata": {},
   "outputs": [
    {
     "name": "stdout",
     "output_type": "stream",
     "text": [
      "Fee : 7000 | available_batches: 6\n"
     ]
    }
   ],
   "source": [
    "# Abstract course\n",
    "class Course:\n",
    "\n",
    "\tdef __init__(self):\n",
    "\t\tself.Fee()\n",
    "\t\tself.available_batches()\n",
    "\n",
    "\tdef Fee(self):\n",
    "\t\traise NotImplementedError\n",
    "\n",
    "\tdef available_batches(self):\n",
    "\t\traise NotImplementedError\n",
    "\n",
    "\tdef __repr__(self):\n",
    "\t\treturn 'Fee : {0.fee} | Batches Available : {0.batches}'.format(self)\n",
    "\n",
    "# concrete course\n",
    "class DSA(Course):\n",
    "\n",
    "\t\"\"\"Class for Data Structures and Algorithms\"\"\"\n",
    "\n",
    "\tdef Fee(self):\n",
    "\t\tself.fee = 8000\n",
    "\n",
    "\tdef available_batches(self):\n",
    "\t\tself.batches = 5\n",
    "\n",
    "\tdef __str__(self):\n",
    "\t\treturn \"DSA\"\n",
    "\n",
    "# concrete course\n",
    "class SDE(Course):\n",
    "\n",
    "\t\"\"\"Class for Software Development Engineer\"\"\"\n",
    "\n",
    "\tdef Fee(self):\n",
    "\t\tself.fee = 10000\n",
    "\n",
    "\tdef available_batches(self):\n",
    "\t\tself.batches = 4\n",
    "\n",
    "\tdef __str__(self):\n",
    "\t\treturn \"SDE\"\n",
    "\n",
    "# concrete course\n",
    "class STL(Course):\n",
    "\n",
    "\t\"\"\"Class for Standard Template Library\"\"\"\n",
    "\n",
    "\tdef Fee(self):\n",
    "\t\tself.fee = 5000\n",
    "\n",
    "\tdef available_batches(self):\n",
    "\t\tself.batches = 7\n",
    "\n",
    "\tdef __str__(self):\n",
    "\t\treturn \"STL\"\n",
    "\n",
    "# Complex Course\n",
    "class ComplexCourse:\n",
    "\n",
    "\tdef __repr__(self):\n",
    "\t\treturn 'Fee : {0.fee} | available_batches: {0.batches}'.format(self)\n",
    "\n",
    "# Complex course\n",
    "class Complexcourse(ComplexCourse):\n",
    "\n",
    "\tdef Fee(self):\n",
    "\t\tself.fee = 7000\n",
    "\n",
    "\tdef available_batches(self):\n",
    "\t\tself.batches = 6\n",
    "\n",
    "# construct course\n",
    "def construct_course(cls):\n",
    "\n",
    "\tcourse = cls()\n",
    "\tcourse.Fee()\n",
    "\tcourse.available_batches()\n",
    "\n",
    "\treturn course # return the course object\n",
    "\n",
    "# main method\n",
    "if __name__ == \"__main__\":\n",
    "\n",
    "\tdsa = DSA() # object for DSA course\n",
    "\tsde = SDE() # object for SDE course\n",
    "\tstl = STL() # object for STL course\n",
    "\n",
    "\tcomplex_course = construct_course(Complexcourse)\n",
    "\tprint(complex_course)\n"
   ]
  },
  {
   "cell_type": "markdown",
   "id": "39150fcf-5253-4845-8dbd-4423f7de46fd",
   "metadata": {},
   "source": [
    "__Advantages of using Builder Method:__\r\n",
    "Reusability: While making the various representations of the products, we can use the same construction code for other representations as well.\r\n",
    "Single Responsibility Principle: We can separate out both the business logic as well as the complex construction code from each other.\r\n",
    "Construction of the object: Here we construct our object step by step, defer construction steps or run steps recursively."
   ]
  },
  {
   "cell_type": "markdown",
   "id": "a0a8b57b-2fe6-4a35-b6cb-ebc8808c0d5f",
   "metadata": {},
   "source": [
    "__Disadvantages of using Builder method:__\n",
    "Code complexity increases: The complexity of our code increases, because the builder pattern requires creating multiple new classes.\n",
    "Mutability: It requires the builder class to be mutable\n",
    "Initialization: Data members of the class are not guaranteed to be initialized."
   ]
  },
  {
   "cell_type": "markdown",
   "id": "4d28b5f9-d4e0-40ea-bc9b-abb5e8993449",
   "metadata": {},
   "source": [
    "------------------------"
   ]
  },
  {
   "cell_type": "markdown",
   "id": "8b375739-cea1-44f6-bebd-64b01b8072a5",
   "metadata": {},
   "source": [
    "<a id=\"prototype-method\"></a>\n",
    "## Prototype Method"
   ]
  },
  {
   "cell_type": "markdown",
   "id": "cd03cd24-093d-4216-9d2e-c88c2c079304",
   "metadata": {},
   "source": [
    "used to create objects based on a template of an existing object through cloning. Instead of creating new instances of objects using constructors, the Prototype pattern creates new objects by copying an existing object, known as the prototype."
   ]
  },
  {
   "cell_type": "markdown",
   "id": "e955ce41-61b7-48dc-a0fc-2a747ecb12ea",
   "metadata": {},
   "source": [
    "__Problems we face without Prototype Method__\n",
    "Suppose we have a Shape class that produces different shapes such as circle, rectangle, square, etc and we already have an object of it. Now we want to create the exact copy of this object. How an ordinary developer will go? \n",
    "He/She will create a new object of the same class and will apply all the functionalities of the original objects and copy their values. But we can not copy each and every field of the original object as some may be private and protected and are not available from the outside of the object itself. \n",
    "Problems are not over here! you also become dependent on the code of other class which is certainly not a good practice in Software Development.\n",
    "\n",
    "For better understanding, let’s understand the example of Courses At GeeksforGeeks that provides courses like SDE, DSA, STL, etc. Creating objects for similar courses, again and again, is not a good task to utilize the resources in a better way."
   ]
  },
  {
   "cell_type": "markdown",
   "id": "e32b8fcd-a71b-4b77-99b9-dac8d96b06ae",
   "metadata": {},
   "source": [
    "<div align=\"center\" style=\" font-size: 80%; text-align: center; margin: 0 auto\">\n",
    "<img src=\"problem-builder-Method-2 (1).png\"  style=\"display: block; margin-left: auto; margin-right: auto;\";/>\n",
    "</div>"
   ]
  },
  {
   "cell_type": "code",
   "execution_count": 13,
   "id": "ae61afbc-1d0a-42fd-bdb9-2717187580a1",
   "metadata": {},
   "outputs": [
    {
     "name": "stdout",
     "output_type": "stream",
     "text": [
      "Name of Course: SDE and its type: Software Development Engineer\n",
      "Name of Course: STL and its type: Standard Template Library\n",
      "Name of Course: DSA and its type: Data Structures and Algorithms\n"
     ]
    }
   ],
   "source": [
    "# code is written without using Prototype Method\n",
    "\n",
    "# concrete course\n",
    "class DSA():\n",
    "\t\"\"\"Class for Data Structures and Algorithms\"\"\"\n",
    "\n",
    "\tdef Type(self):\n",
    "\t\treturn \"Data Structures and Algorithms\"\n",
    "\n",
    "\tdef __str__(self):\n",
    "\t\treturn \"DSA\"\n",
    "\n",
    "\n",
    "# concrete course\n",
    "class SDE():\n",
    "\t\"\"\"Class for Software development Engineer\"\"\"\n",
    "\n",
    "\tdef Type(self):\n",
    "\t\treturn \"Software Development Engineer\"\n",
    "\n",
    "\tdef __str__(self):\n",
    "\t\treturn \"SDE\"\n",
    "\n",
    "\n",
    "# concrete course\n",
    "class STL():\n",
    "\t\"\"\"class for Standard Template Library of C++\"\"\"\n",
    "\n",
    "\tdef Type(self):\n",
    "\t\treturn \"Standard Template Library\"\n",
    "\n",
    "\tdef __str__(self):\n",
    "\t\treturn \"STL\"\n",
    "\n",
    "\n",
    "# main method\n",
    "if __name__ == \"__main__\":\n",
    "\tsde = SDE() # object for SDE\n",
    "\tdsa = DSA() # object for DSA\n",
    "\tstl = STL() # object for STL\n",
    "\n",
    "\tprint(f'Name of Course: {sde} and its type: {sde.Type()}')\n",
    "\tprint(f'Name of Course: {stl} and its type: {stl.Type()}')\n",
    "\tprint(f'Name of Course: {dsa} and its type: {dsa.Type()}')\n"
   ]
  },
  {
   "cell_type": "markdown",
   "id": "fc9ac67a-8a43-4216-b3f9-b38dc9f0a6e3",
   "metadata": {},
   "source": [
    "**Solution by Prototype Method:**\n",
    "To deal with such problems, we use the Prototype method. We would create separate classes for Courses_At_GFG and Course_At_GFG_Cache which will help us in creating the exact copy of already existing object with the same field properties. This method delegates the cloning process to the actual objects that are being cloned. Here we declare a common interface or class which supports object cloning which allows us to clone the object without coupling our code to the class of that method. \n",
    "An object that supports cloning is called as Prototype."
   ]
  },
  {
   "cell_type": "markdown",
   "id": "d6dc9ab7-e9d7-4604-bddb-d7cc845cc658",
   "metadata": {},
   "source": [
    "<div align=\"center\" style=\" font-size: 80%; text-align: center; margin: 0 auto\">\n",
    "<img src=\"prototype-method.png\"  style=\"display: block; margin-left: auto; margin-right: auto;\";/>\n",
    "</div>"
   ]
  },
  {
   "cell_type": "markdown",
   "id": "dc67dd74-4d80-4a00-802d-b046b962125f",
   "metadata": {},
   "source": [
    "**Advantages**\n",
    "Less number of SubClasses : All the other Creational Design Patterns provides a lot of new subClasses which are definitely not easy to handle when we are working on a large project. But using Prototype Design Pattern, we get rid of this.\n",
    "Provides varying values to new objects: All the highly dynamic systems allows you to define new behavior through object composition by specifying values for an object’s variables and not by defining new classes.\n",
    "Provides varying structure to new objects: Generally all the applications build objects from parts and subparts. For convenience, such applications often allows you instantiate complex, user-defined structures to use a specific subcircuit again and again."
   ]
  },
  {
   "cell_type": "markdown",
   "id": "e66376a6-ccf4-44f5-8a88-c359af95dc8c",
   "metadata": {},
   "source": [
    "**Disadvantages**\r\n",
    "Abstraction: It helps in achieving the abstraction by hiding the concrete implementation details of the class.\r\n",
    "Waste of resources at lower level: It might be proved as the overkill of resources for a project that uses very few objects"
   ]
  },
  {
   "cell_type": "markdown",
   "id": "ef83cedb-86d3-44ee-aa93-85a9e630e925",
   "metadata": {},
   "source": [
    "*********************"
   ]
  },
  {
   "cell_type": "markdown",
   "id": "76592fea-cb69-45c2-ab92-186d19768ea0",
   "metadata": {},
   "source": [
    "<a id=\"singleton-method\"></a>\n",
    "## Singleton Method"
   ]
  },
  {
   "cell_type": "markdown",
   "id": "fe33ce18-8236-42e2-a5ee-3803dbd84ac6",
   "metadata": {},
   "source": [
    "__is a design pattern that restricts the instantiation of a class to one object.__"
   ]
  },
  {
   "cell_type": "markdown",
   "id": "f7993e37-7d9b-41b8-8ecf-7abccfe203ad",
   "metadata": {},
   "source": [
    "Singleton Design Pattern can be understood by a very simple example of Database connectivity. When each object creates a unique Database Connection to the Database, it will highly affect the cost and expenses of the project. So, it is always better to make a single connection rather than making extra irrelevant connections which can be easily done by Singleton Design Pattern."
   ]
  },
  {
   "cell_type": "markdown",
   "id": "a2aa316a-4609-4ca6-9911-c76e40f3825c",
   "metadata": {},
   "source": [
    "<div align=\"center\" style=\" font-size: 80%; text-align: center; margin: 0 auto\">\n",
    "<img src=\"Singleton_classifier.png\"  style=\"display: block; margin-left: auto; margin-right: auto;\";/>\n",
    "</div>"
   ]
  },
  {
   "cell_type": "markdown",
   "id": "29d195c9-34a2-49cc-ac35-3d7982a4c2bc",
   "metadata": {},
   "source": [
    "__Method 1: Monostate/Borg Singleton Design pattern__\r\n",
    "Singleton behavior can be implemented by Borg’s pattern but instead of having only one instance of the class, there are multiple instances that share the same state. Here we don’t focus on the sharing of the instance identity instead we focus on the sharing state."
   ]
  },
  {
   "cell_type": "code",
   "execution_count": 14,
   "id": "cb17ebff-25fd-4c1b-be18-f744b96a8471",
   "metadata": {},
   "outputs": [
    {
     "name": "stdout",
     "output_type": "stream",
     "text": [
      "Algorithms\n",
      "Algorithms\n",
      "Geeks\n",
      "Geeks\n",
      "Geeks\n"
     ]
    }
   ],
   "source": [
    "# Singleton Borg pattern\n",
    "class Borg:\n",
    "\n",
    "\t# state shared by each instance\n",
    "\t__shared_state = dict()\n",
    "\n",
    "\t# constructor method\n",
    "\tdef __init__(self):\n",
    "\n",
    "\t\tself.__dict__ = self.__shared_state\n",
    "\t\tself.state = 'GeeksforGeeks'\n",
    "\n",
    "\tdef __str__(self):\n",
    "\n",
    "\t\treturn self.state\n",
    "\n",
    "\n",
    "# main method\n",
    "if __name__ == \"__main__\":\n",
    "\n",
    "\tperson1 = Borg() # object of class Borg\n",
    "\tperson2 = Borg() # object of class Borg\n",
    "\tperson3 = Borg() # object of class Borg\n",
    "\n",
    "\tperson1.state = 'DataStructures' # person1 changed the state\n",
    "\tperson2.state = 'Algorithms'\t # person2 changed the state\n",
    "\n",
    "\tprint(person1) # output --> Algorithms\n",
    "\tprint(person2) # output --> Algorithms\n",
    "\n",
    "\tperson3.state = 'Geeks' # person3 changed the\n",
    "\t# the shared state\n",
    "\n",
    "\tprint(person1) # output --> Geeks\n",
    "\tprint(person2) # output --> Geeks\n",
    "\tprint(person3) # output --> Geeks\n"
   ]
  },
  {
   "cell_type": "markdown",
   "id": "382996c3-1ced-423e-a3f2-b4dcc6f40bea",
   "metadata": {},
   "source": [
    "<div align=\"center\" style=\" font-size: 80%; text-align: center; margin: 0 auto\">\n",
    "<img src=\"Singleton-pattern.png\"  style=\"display: block; margin-left: auto; margin-right: auto;\";/>\n",
    "</div>"
   ]
  },
  {
   "cell_type": "markdown",
   "id": "d6c8aee0-bb7a-4a7a-8e19-a37b7bdb91a1",
   "metadata": {},
   "source": [
    "                                                 "
   ]
  },
  {
   "cell_type": "markdown",
   "id": "54ae6855-5cd3-430b-8f61-31ebffe86cab",
   "metadata": {},
   "source": [
    "__Double Checked Locking Singleton Design pattern__ \n",
    "\n",
    "It is easy to notice that once an object is created, the synchronization of the threading is no longer useful because now the object will never be equal to None and any sequence of operations will lead to consistent results. \n",
    "So, when the object will be equal to None, then only we will acquire the Lock on the getInstance method."
   ]
  },
  {
   "cell_type": "code",
   "execution_count": 15,
   "id": "0095ed1d-9a07-468f-8d5e-d68fd1f049d3",
   "metadata": {},
   "outputs": [
    {
     "name": "stdout",
     "output_type": "stream",
     "text": [
      "A1 :  <__main__.X object at 0x000002614E5A18D0>\n",
      "A2 :  <__main__.X object at 0x000002614E5A18D0>\n",
      "B1 :  <__main__.Y object at 0x000002614E5E3990>\n",
      "B2 :  <__main__.Y object at 0x000002614E5E3990>\n"
     ]
    }
   ],
   "source": [
    "# Double Checked Locking singleton pattern\n",
    "import threading\n",
    "\n",
    "\n",
    "class SingletonDoubleChecked(object):\n",
    "\n",
    "\t# resources shared by each and every\n",
    "\t# instance\n",
    "\n",
    "\t__singleton_lock = threading.Lock()\n",
    "\t__singleton_instance = None\n",
    "\n",
    "\t# define the classmethod\n",
    "\t@classmethod\n",
    "\tdef instance(cls):\n",
    "\n",
    "\t\t# check for the singleton instance\n",
    "\t\tif not cls.__singleton_instance:\n",
    "\t\t\twith cls.__singleton_lock:\n",
    "\t\t\t\tif not cls.__singleton_instance:\n",
    "\t\t\t\t\tcls.__singleton_instance = cls()\n",
    "\n",
    "\t\t# return the singleton instance\n",
    "\t\treturn cls.__singleton_instance\n",
    "\n",
    "\n",
    "# main method\n",
    "if __name__ == '__main__':\n",
    "\n",
    "\t# create class X\n",
    "\tclass X(SingletonDoubleChecked):\n",
    "\t\tpass\n",
    "\n",
    "\t# create class Y\n",
    "\tclass Y(SingletonDoubleChecked):\n",
    "\t\tpass\n",
    "\n",
    "\tA1, A2 = X.instance(), X.instance()\n",
    "\tB1, B2 = Y.instance(), Y.instance()\n",
    "\n",
    "\tassert A1 is not B1\n",
    "\tassert A1 is A2\n",
    "\tassert B1 is B2\n",
    "\n",
    "\tprint('A1 : ', A1)\n",
    "\tprint('A2 : ', A2)\n",
    "\tprint('B1 : ', B1)\n",
    "\tprint('B2 : ', B2)\n"
   ]
  },
  {
   "cell_type": "markdown",
   "id": "3989cd34-0e8b-4aef-bb0b-ee89d9b45193",
   "metadata": {},
   "source": [
    "                                   "
   ]
  },
  {
   "cell_type": "markdown",
   "id": "10b2106b-10df-4723-8580-a025c3508648",
   "metadata": {},
   "source": [
    "__Creating a singleton in Python__\n",
    "\r\n",
    "In the classic implementation of the Singleton Design pattern, we simply use the static method for creating the getInstance method which has the ability to return the shared resource. We also make use of the so-called Virtual private Constructor to raise the exception against it although it is not much required."
   ]
  },
  {
   "cell_type": "code",
   "execution_count": 16,
   "id": "495d99ad-94ea-4ce4-844d-4841c19b1604",
   "metadata": {},
   "outputs": [
    {
     "name": "stdout",
     "output_type": "stream",
     "text": [
      "<__main__.Singleton object at 0x000002614E5E3D10>\n",
      "<__main__.Singleton object at 0x000002614E5E3D10>\n"
     ]
    }
   ],
   "source": [
    "# classic implementation of Singleton Design pattern\n",
    "class Singleton:\n",
    "\n",
    "\t__shared_instance = 'GeeksforGeeks'\n",
    "\n",
    "\t@staticmethod\n",
    "\tdef getInstance():\n",
    "\t\t\"\"\"Static Access Method\"\"\"\n",
    "\t\tif Singleton.__shared_instance == 'GeeksforGeeks':\n",
    "\t\t\tSingleton()\n",
    "\t\treturn Singleton.__shared_instance\n",
    "\n",
    "\tdef __init__(self):\n",
    "\t\t\"\"\"virtual private constructor\"\"\"\n",
    "\t\tif Singleton.__shared_instance != 'GeeksforGeeks':\n",
    "\t\t\traise Exception(\"This class is a singleton class !\")\n",
    "\t\telse:\n",
    "\t\t\tSingleton.__shared_instance = self\n",
    "\n",
    "\n",
    "# main method\n",
    "if __name__ == \"__main__\":\n",
    "\n",
    "\t# create object of Singleton Class\n",
    "\tobj = Singleton()\n",
    "\tprint(obj)\n",
    "\n",
    "\t# pick the instance of the class\n",
    "\tobj = Singleton.getInstance()\n",
    "\tprint(obj)\n"
   ]
  },
  {
   "cell_type": "markdown",
   "id": "f8bfe200-09ab-404b-9205-b077e378b3b7",
   "metadata": {},
   "source": [
    "__Advantages of using the Singleton Method:__             \n",
    "Initializations: An object created by the Singleton method is initialized only when it is requested for the first time.           \n",
    "Access to the object: We got global access to the instance of the object.    \n",
    "Count of instances: In singleton, method classes can’t have more than one instance"
   ]
  },
  {
   "cell_type": "markdown",
   "id": "374d1062-222e-4e1c-b07e-dc9623de71b9",
   "metadata": {},
   "source": [
    "__Disadvantages of using the Singleton Method:__          \n",
    "Multithread Environment: It’s not easy to use the singleton method in a multithread environment, because we have to take care that the multithread wouldn’t create a singleton object several times.         \n",
    "Single responsibility principle: As the Singleton method is solving two problems at a single time, it doesn’t follow the single responsibility principle.                   \n",
    "Unit testing process: As they introduce the global state to the application, it makes the unit testing very hard.          "
   ]
  },
  {
   "cell_type": "markdown",
   "id": "18e12d63-4824-4eb0-be26-597056d81088",
   "metadata": {},
   "source": [
    "                                                    "
   ]
  },
  {
   "cell_type": "markdown",
   "id": "9e659e48-5239-4800-8fd9-79d32805cdf3",
   "metadata": {},
   "source": [
    "---------------------------------"
   ]
  },
  {
   "cell_type": "markdown",
   "id": "11c770ec-5fbc-45cc-ad50-36c03e807ad3",
   "metadata": {},
   "source": [
    "                        "
   ]
  },
  {
   "cell_type": "markdown",
   "id": "b48fd535-5a54-4de6-8bba-d958bd4c2f58",
   "metadata": {},
   "source": [
    "# Structural Design Patterns"
   ]
  },
  {
   "cell_type": "markdown",
   "id": "ae21722d-e70f-4f57-b8b6-7d7e46403a15",
   "metadata": {},
   "source": [
    "<a id=\"adapter-method\"></a>\n",
    "## Adapter Method"
   ]
  },
  {
   "cell_type": "markdown",
   "id": "09db3753-6f28-41bc-a1fe-7bbfe162a561",
   "metadata": {},
   "source": [
    "structural design pattern that allows objects with incompatible interfaces to collaborate. It acts as a bridge between two incompatible interfaces, converting the interface of one class into another interface that a client expects. This pattern enables objects to work together that couldn't otherwise due to incompatible interfaces."
   ]
  },
  {
   "cell_type": "markdown",
   "id": "e35a3882-631d-4922-8919-d72e1bcebb09",
   "metadata": {},
   "source": [
    "**Problem without using the Adapter Method**           \r\n",
    "Imagine you are creating an application that shows the data about all different types of vehicles present. It takes the data from APIs of different vehicle organizations in XML format and then displays the information. But suppose at some time you want to upgrade your application with a Machine Learning algorithms that work beautifully on the data and fetch the important data only. But there is a problem, it takes data in JSON format only. It will be a really poor approach to make changes in Machine Learning Algorithm so that it will take data in XML format.\r\n",
    "\r\n"
   ]
  },
  {
   "cell_type": "markdown",
   "id": "ce6c9ab6-82f3-4463-916b-e4b78d9c285d",
   "metadata": {},
   "source": [
    "<div align=\"center\" style=\" font-size: 80%; text-align: center; margin: 0 auto\">\n",
    "<img src=\"Problem-Adapter-Method.png\"  style=\"display: block; margin-left: auto; margin-right: auto;\";/>\n",
    "</div>"
   ]
  },
  {
   "cell_type": "markdown",
   "id": "41e374a9-0279-4c07-85d4-ba2a1e402b6a",
   "metadata": {},
   "source": [
    "**Solution using Adapter Method**                                \r\n",
    "For solving the problem we defined above, We can use Adapter Method that helps by creating an Adapter object. To use an adapter in our code               :Client should make a request to the adapter by calling a method on it using the target interface.\r\n",
    "Using the Adaptee interface, the Adapter should translate that request on the adaptee.\r\n",
    "Result of the call is received the client and he/she is unaware of the presence of the Adapter’s presence.                     ence."
   ]
  },
  {
   "cell_type": "code",
   "execution_count": 17,
   "id": "8ae3909a-c50c-42d3-8176-baa880973ffd",
   "metadata": {},
   "outputs": [
    {
     "name": "stdout",
     "output_type": "stream",
     "text": [
      "A MotorCycle is a TwoWheeler vehicle\n",
      "A Truck is a EightWheeler vehicle\n",
      "A Car is a FourWheeler vehicle\n"
     ]
    }
   ],
   "source": [
    "# Dog - Cycle\n",
    "# human - Truck\n",
    "# car - Car\n",
    "\n",
    "class MotorCycle:\n",
    "    \"\"\"Class for MotorCycle\"\"\"\n",
    "    def __init__(self):\n",
    "        self.name = \"MotorCycle\"\n",
    "    def TwoWheeler(self):\n",
    "        return \"TwoWheeler\"\n",
    "\n",
    "class Truck:\n",
    "    \"\"\"Class for Truck\"\"\"\n",
    "    def __init__(self):\n",
    "        self.name = \"Truck\"\n",
    "    def EightWheeler(self):\n",
    "        return \"EightWheeler\"\n",
    "\n",
    "class Car:\n",
    "    \"\"\"Class for Car\"\"\"\n",
    "    def __init__(self):\n",
    "        self.name = \"Car\"\n",
    "    def FourWheeler(self):\n",
    "        return \"FourWheeler\"\n",
    "\n",
    "class Adapter:\n",
    "    \"\"\"\n",
    "    Adapts an object by replacing methods.\n",
    "    Usage:\n",
    "    motorCycle = MotorCycle()\n",
    "    motorCycle = Adapter(motorCycle, wheels = motorCycle.TwoWheeler)\n",
    "    \"\"\"\n",
    "    def __init__(self, obj, **adapted_methods):\n",
    "        \"\"\"We set the adapted methods in the object's dict\"\"\"\n",
    "        self.obj = obj\n",
    "        self.__dict__.update(adapted_methods)\n",
    "    def __getattr__(self, attr):\n",
    "        \"\"\"All non-adapted calls are passed to the object\"\"\"\n",
    "        return getattr(self.obj, attr)\n",
    "    def original_dict(self):\n",
    "        \"\"\"Print original object dict\"\"\"\n",
    "        return self.obj.__dict__\n",
    "\n",
    "\"\"\" main method \"\"\"\n",
    "if __name__ == \"__main__\":\n",
    "    \"\"\"list to store objects\"\"\"\n",
    "    objects = []\n",
    "    motorCycle = MotorCycle()\n",
    "    objects.append(Adapter(motorCycle, wheels=motorCycle.TwoWheeler))\n",
    "    truck = Truck()\n",
    "    objects.append(Adapter(truck, wheels=truck.EightWheeler))\n",
    "    car = Car()\n",
    "    objects.append(Adapter(car, wheels=car.FourWheeler))\n",
    "    for obj in objects:\n",
    "        print(\"A {0} is a {1} vehicle\".format(obj.name, obj.wheels()))\n",
    "\n"
   ]
  },
  {
   "cell_type": "markdown",
   "id": "f2e4822f-a9ee-4efa-a18b-3aa3f54709c1",
   "metadata": {},
   "source": [
    "**Advantages**              \n",
    "Principle of Single Responsibility: We can achieve the principle of Single responsibility with Adapter Method because here we can separate the concrete code from the primary logic of the client.\n",
    "Flexibility: Adapter Method helps in achieving the flexibility and reusability of the code.\n",
    "Less complicated class: Our client class is not complicated by having to use a different interface and can use polymorphism to swap between different implementations of adapters.\n",
    "Open/Closed principle: We can introduce the new adapter classes into the code without violating the Open/Closed principle."
   ]
  },
  {
   "cell_type": "markdown",
   "id": "5b0f2eb9-1b6a-4879-b15a-2eb63fb6154f",
   "metadata": {},
   "source": [
    "**Disadvantages**               \n",
    "Complexity of the Code: As we have introduced the set of new classes, objects and interfaces, the complexity of or code definitely rises.\n",
    "Adaptability: Most of the times, we require many adaptations with the adaptee chain to reach the compatibility what we want."
   ]
  },
  {
   "cell_type": "markdown",
   "id": "735a763a-a296-4602-a97c-e1e784bba55a",
   "metadata": {},
   "source": [
    "**Applicability**                            \n",
    "To make classes and interfaces compatible : Adapter method is always used when we are in need to make certain classes compatible to communicate.\n",
    "Relatable to Inheritance: When we want to reuse some piece of code i.e., classes and interfaces that lack some functionalities, it can be done using the Adapter Method"
   ]
  },
  {
   "cell_type": "markdown",
   "id": "540f4ef5-a107-4f45-be9e-a11d4e17a1d0",
   "metadata": {},
   "source": [
    "----------------------------------------------"
   ]
  },
  {
   "cell_type": "markdown",
   "id": "522b1106-feb5-49e2-afd6-d939083dbfeb",
   "metadata": {},
   "source": [
    "<a id=\"bridge-method\"></a>\n",
    "## Bridge Method "
   ]
  },
  {
   "cell_type": "markdown",
   "id": "736cdf78-01bb-4446-8ab5-8558a8a4a9b2",
   "metadata": {},
   "source": [
    " Structural Design Pattern that allows us to separate the Implementation Specific Abstractions and Implementation Independent Abstractions from each other and can be developed considering as single entities."
   ]
  },
  {
   "cell_type": "markdown",
   "id": "4318b01d-4c39-424a-8d2a-45318b5fd068",
   "metadata": {},
   "source": [
    "<div align=\"center\" style=\" font-size: 80%; text-align: center; margin: 0 auto\">\n",
    "<img src=\"bridges.jpg\"  style=\"display: block; margin-left: auto; margin-right: auto;\";/>\n",
    "</div>"
   ]
  },
  {
   "cell_type": "markdown",
   "id": "53425ade-5bae-462b-a06e-31fad26b7be5",
   "metadata": {},
   "source": [
    "**Elements of Bridge Design Pattern**                  \r\n",
    "Abstraction: It is the core of the Bridge Design Pattern and it provides the reference to the implementer.\r\n",
    "Refined Abstraction: It extends the abstraction to a new level where it takes the finer details one level above and hides the finer element from the implementers.\r\n",
    "Implementer: It defines the interface for implementation classes. This interface does not need to correspond directly to the abstraction interface and can be very different.\r\n",
    "Concrete Implementation: Through the concrete implementation, it implements the above implementer."
   ]
  },
  {
   "cell_type": "markdown",
   "id": "6ccb6155-4c8a-4879-aed5-3cccd029dbef",
   "metadata": {},
   "source": [
    "**Problem without using Bridge Method**           \n",
    "Consider the following class Cuboid which has three attributes named length, breadth, and height and three methods named ProducewithAPI1(), ProduceWithAPI2(), and expand(). \n",
    "Out of these, producing methods are implementation-specific as we have two production APIs, and one method i.e., expand() method is implementation-independent. \n",
    "\n",
    "Till now we have only two implementation-specific methods and one implementation-independent method but when the quantity will rise (of course in a large-scale project) things will become messy for the developers to handle."
   ]
  },
  {
   "cell_type": "markdown",
   "id": "84e75e14-67ab-4b88-a2c2-2d3ba90b0006",
   "metadata": {},
   "source": [
    "<div align=\"center\" style=\" font-size: 80%; text-align: center; margin: 0 auto\">\n",
    "<img src=\"Problem-Bridge_Method.png\"  style=\"display: block; margin-left: auto; margin-right: auto;\";/>\n",
    "</div>"
   ]
  },
  {
   "cell_type": "code",
   "execution_count": 18,
   "id": "5c08cc6d-9a0a-40cd-8402-9a9785482f04",
   "metadata": {},
   "outputs": [
    {
     "name": "stdout",
     "output_type": "stream",
     "text": [
      "API1 is producing Cuboid with length = 1,  Breadth = 2 and Height = 3\n",
      "API2 is producing Cuboid with length = 19,  Breadth = 20 and Height = 21\n"
     ]
    }
   ],
   "source": [
    "\"\"\" Code without using the bridge method\n",
    "\tWe have a class with three attributes\n",
    "\tnamed as length, breadth, and height and\n",
    "\tthree methods named as ProduceWithAPI1(),\n",
    "\tProduceWithAPI2(), and expand(). Out of these\n",
    "\tproducing methods are implementation-specific\n",
    "\tas we have two production APIs\"\"\"\n",
    "\n",
    "class Cuboid:\n",
    "\n",
    "\tclass ProducingAPI1:\n",
    "\n",
    "\t\t\"\"\"Implementation Specific Implementation\"\"\"\n",
    "\n",
    "\t\tdef produceCuboid(self, length, breadth, height):\n",
    "\n",
    "\t\t\tprint(f'API1 is producing Cuboid with length = {length}, '\n",
    "\t\t\t\tf' Breadth = {breadth} and Height = {height}')\n",
    "\n",
    "\tclass ProducingAPI2:\n",
    "\t\t\"\"\"Implementation Specific Implementation\"\"\"\n",
    "\n",
    "\t\tdef produceCuboid(self, length, breadth, height):\n",
    "\t\t\tprint(f'API2 is producing Cuboid with length = {length}, '\n",
    "\t\t\t\tf' Breadth = {breadth} and Height = {height}')\n",
    "\n",
    "\n",
    "\tdef __init__(self, length, breadth, height):\n",
    "\n",
    "\t\t\"\"\"Initialize the necessary attributes\"\"\"\n",
    "\n",
    "\t\tself._length = length\n",
    "\t\tself._breadth = breadth\n",
    "\t\tself._height = height\n",
    "\n",
    "\tdef produceWithAPI1(self):\n",
    "\n",
    "\t\t\"\"\"Implementation specific Abstraction\"\"\"\n",
    "\n",
    "\t\tobjectAPIone = self.ProducingAPI1()\n",
    "\t\tobjectAPIone.produceCuboid(self._length, self._breadth, self._height)\n",
    "\n",
    "\tdef producewithAPI2(self):\n",
    "\n",
    "\t\t\"\"\"Implementation specific Abstraction\"\"\"\n",
    "\n",
    "\t\tobjectAPItwo = self.ProducingAPI2()\n",
    "\t\tobjectAPItwo.produceCuboid(self._length, self._breadth, self._height)\n",
    "\n",
    "\tdef expand(self, times):\n",
    "\n",
    "\t\t\"\"\"Implementation independent Abstraction\"\"\"\n",
    "\n",
    "\t\tself._length = self._length * times\n",
    "\t\tself._breadth = self._breadth * times\n",
    "\t\tself._height = self._height * times\n",
    "\n",
    "# Instantiate a Cuboid\n",
    "cuboid1 = Cuboid(1, 2, 3)\n",
    "\n",
    "# Draw it using APIone\n",
    "cuboid1.produceWithAPI1()\n",
    "\n",
    "# Instantiate another Cuboid\n",
    "cuboid2 = Cuboid(19, 20, 21)\n",
    "\n",
    "# Draw it using APItwo\n",
    "cuboid2.producewithAPI2()\n"
   ]
  },
  {
   "cell_type": "markdown",
   "id": "6ae791ed-7163-43fb-bbd6-41ae93f9cc14",
   "metadata": {},
   "source": [
    "**Solution using Bridge method**               \n",
    "Now let’s look at the solution for the above problem. The bridge Method is one of the best solutions for such kinds of problems. Our main purpose is to separate the codes of implementation-specific abstractions and implementation-independent abstractions."
   ]
  },
  {
   "cell_type": "markdown",
   "id": "42c81680-17f9-4048-920e-d3be9806fb81",
   "metadata": {},
   "source": [
    "<div align=\"center\" style=\" font-size: 80%; text-align: center; margin: 0 auto\">\n",
    "<img src=\"Solution-Bridge-Method.png\"  style=\"display: block; margin-left: auto; margin-right: auto;\";/>\n",
    "</div>"
   ]
  },
  {
   "cell_type": "code",
   "execution_count": 19,
   "id": "38e719f0-0b3d-4649-806e-70664a8a1794",
   "metadata": {},
   "outputs": [
    {
     "name": "stdout",
     "output_type": "stream",
     "text": [
      "API1 is producing Cuboid with length = 1,  Breadth = 2 and Height = 3\n",
      "API2 is producing Cuboid with length = 19,  Breadth = 19 and Height = 19\n"
     ]
    }
   ],
   "source": [
    "\"\"\"Code implemented with Bridge Method.\n",
    "We have a Cuboid class having three attributes\n",
    "named as length, breadth, and height and three\n",
    "methods named as produceWithAPIOne(), produceWithAPItwo(),\n",
    "and expand(). Our purpose is to separate out implementation\n",
    "specific abstraction from implementation-independent\n",
    "abstraction\"\"\"\n",
    "\n",
    "class ProducingAPI1:\n",
    "\n",
    "\t\"\"\"Implementation specific Abstraction\"\"\"\n",
    "\n",
    "\tdef produceCuboid(self, length, breadth, height):\n",
    "\n",
    "\t\tprint(f'API1 is producing Cuboid with length = {length}, '\n",
    "\t\t\tf' Breadth = {breadth} and Height = {height}')\n",
    "\n",
    "class ProducingAPI2:\n",
    "\n",
    "\t\"\"\"Implementation specific Abstraction\"\"\"\n",
    "\n",
    "\tdef produceCuboid(self, length, breadth, height):\n",
    "\n",
    "\t\tprint(f'API2 is producing Cuboid with length = {length}, '\n",
    "\t\t\tf' Breadth = {breadth} and Height = {height}')\n",
    "\n",
    "class Cuboid:\n",
    "\n",
    "\tdef __init__(self, length, breadth, height, producingAPI):\n",
    "\n",
    "\t\t\"\"\"Initialize the necessary attributes\n",
    "\t\tImplementation independent Abstraction\"\"\"\n",
    "\n",
    "\t\tself._length = length\n",
    "\t\tself._breadth = breadth\n",
    "\t\tself._height = height\n",
    "\n",
    "\t\tself._producingAPI = producingAPI\n",
    "\n",
    "\tdef produce(self):\n",
    "\n",
    "\t\t\"\"\"Implementation specific Abstraction\"\"\"\n",
    "\n",
    "\t\tself._producingAPI.produceCuboid(self._length, self._breadth, self._height)\n",
    "\n",
    "\tdef expand(self, times):\n",
    "\n",
    "\t\t\"\"\"Implementation independent Abstraction\"\"\"\n",
    "\n",
    "\t\tself._length = self._length * times\n",
    "\t\tself._breadth = self._breadth * times\n",
    "\t\tself._height = self._height * times\n",
    "\n",
    "\n",
    "\"\"\"Instantiate a cuboid and pass to it an\n",
    "object of ProducingAPIone\"\"\"\n",
    "\n",
    "cuboid1 = Cuboid(1, 2, 3, ProducingAPI1())\n",
    "cuboid1.produce()\n",
    "\n",
    "cuboid2 = Cuboid(19, 19, 19, ProducingAPI2())\n",
    "cuboid2.produce()\n"
   ]
  },
  {
   "cell_type": "markdown",
   "id": "aafbe7ab-baaa-4488-9e4b-4a8a196508af",
   "metadata": {},
   "source": [
    "**Advantages**                    \r\n",
    "Single Responsibility Principle: The bridge method clearly follows the Single Responsibility principle as it decouples an abstraction from its implementation so that the two can vary independently.\r\n",
    "Open/Closed Principle: It does not violate the Open/Closed principle because at any time we can introduce the new abstractions and implementations independently from each other\r\n",
    "Platform independent feature: Bridge Method can be easily used for implementing the platform-independent features."
   ]
  },
  {
   "cell_type": "markdown",
   "id": "aa6a29c4-ed20-4c18-bc6e-382f46121ab1",
   "metadata": {},
   "source": [
    "**Disadvantages**                       \r\n",
    "Complexity: Our code might become complex after applying the Bridge method because we are intruding on new abstraction classes and interfaces.\r\n",
    "Double Indirection: The bridge method might have a slight negative impact on the performance because the abstraction needs to pass messages along with the implementation for the operation to get executed.\r\n",
    "Interfaces with only a single implementation: If we have only limited interfaces, then it doesn’t sweat a breath but if you have an exploded set of interfaces with minimal or only one implementation it becomes hard to manage"
   ]
  },
  {
   "cell_type": "markdown",
   "id": "c7e40876-e420-4836-9967-8cab73d495d5",
   "metadata": {},
   "source": [
    "**Applicability**                     \n",
    "Run-time Binding: Generally Bridge method is used to provide the run-time binding of the implementation, here run-time binding refers to what we can call a method at run-time instead of compile-time.\n",
    "Mapping classes: The bridge method is used to map the orthogonal class hierarchies\n",
    "UI Environment: A real-life application of the Bridge method is used in the definition of shapes in a UI Environment"
   ]
  },
  {
   "cell_type": "markdown",
   "id": "940945ec-5b67-488b-b1a9-e957921dcd21",
   "metadata": {},
   "source": [
    "-------------------------------------------------------"
   ]
  },
  {
   "cell_type": "markdown",
   "id": "e3d2f8a0-5579-48d2-83af-408651a2bdef",
   "metadata": {},
   "source": [
    "<a id=\"composite-method\"></a>\n",
    "## Composite Method"
   ]
  },
  {
   "cell_type": "markdown",
   "id": "cc00db97-1391-491f-a688-4c868d24400c",
   "metadata": {},
   "source": [
    "Structural Design Pattern which describes a group of objects that is treated the same way as a single instance of the same type of the objects. The purpose of the Composite Method is to Compose objects into Tree type structures to represent the whole-partial hierarchies.\r\n",
    "\r\n",
    "One of the main advantages of using the Composite Method is that first, it allows you to compose the objects into the Tree Structure and then work with these structures as an individual object or an entity."
   ]
  },
  {
   "cell_type": "markdown",
   "id": "02faa608-2676-44ae-85c4-675bf396161b",
   "metadata": {},
   "source": [
    "\n",
    "<div align=\"center\" style=\" font-size: 80%; text-align: center; margin: 0 auto\">\n",
    "<img src=\"Composite-Structure.png\"  style=\"display: block; margin-left: auto; margin-right: auto;\";/>\n",
    "</div>"
   ]
  },
  {
   "cell_type": "markdown",
   "id": "f3325726-96f9-4469-945d-86985f3ddf1e",
   "metadata": {},
   "source": [
    "\n",
    "\n",
    "##### The Composite Pattern has four participants :\n",
    "<div align=\"center\" style=\" font-size: 80%; text-align: center; margin: 0 auto\">\n",
    "<img src=\"Participants-Composite-Method.png\"  style=\"display: block; margin-left: auto; margin-right: auto;\";/>\n",
    "</div>"
   ]
  },
  {
   "cell_type": "markdown",
   "id": "6db74da3-74c3-4e76-b282-b7398422ae89",
   "metadata": {},
   "source": [
    "Component: Component helps in implementing the default behavior for the interface common to all classes as appropriate. It declares the interface of the objects in the composition and for accessing and managing its child components.   \n",
    "\r\n",
    "Leaf: It defines the behavior for primitive objects in the composition. It represents the leaf object in the composition                               ce."
   ]
  },
  {
   "cell_type": "markdown",
   "id": "2d3c71ff-279d-425c-a144-0a7dacca33a1",
   "metadata": {},
   "source": [
    "       \n",
    "Composite: It stores the child component and implements child related operations in the component interface.      \n",
    "\n",
    "Client: It is used to manipulate the objects in the composition through the component interface."
   ]
  },
  {
   "cell_type": "markdown",
   "id": "ae4a20ae-31b1-4db7-8227-4a9e2519474e",
   "metadata": {},
   "source": [
    "**Problem without using Composite Method**                   \n",
    "Imagine we are studying an organizational structure which consists of General Managers, Managers, and Developers. A General Manager may have many Managers working under him and a Manager may have many developers under him.\n",
    "Suppose, you have to determine the total salary of all the employees. So, How would you determine that ?\n",
    "\n",
    "An ordinary developer will definitely try the direct approach, go over each employee and calculate the total salary. Looks easy? not so when it comes to implementation. Because we have to know the classes of all the employees General Manager, Manager, and Developers.\n",
    "It seems even an impossible task to calculate through a direct approach in Tree-based structure.Problem without using Composite Method\n",
    "Imagine we are studying an organizational structure which consists of General Managers, Managers, and Developers. A General Manager may have many Managers working under him and a Manager may have many developers under him.\n",
    "Suppose, you have to determine the total salary of all the employees. So, How would you determine that ?\n",
    "\n",
    "An ordinary developer will definitely try the direct approach, go over each employee and calculate the total salary. Looks easy? not so when it comes to implementation. Because we have to know the classes of all the employees General Manager, Manager, and Developers.\n",
    "It seems even an impossible task to calculate through a direct approach in Tree-based structure."
   ]
  },
  {
   "cell_type": "markdown",
   "id": "c20788e9-1e4d-42e4-8d1f-f34a761980f8",
   "metadata": {},
   "source": [
    "**Solution using Composite Method**\n",
    "One of the best solutions to the above-described problem is using Composite Method by working with a common interface that declares a method for calculating the total salary.\n",
    "We will generally use the Composite Method whenever we have “composites that contain components, each of which could be a composite”"
   ]
  },
  {
   "cell_type": "markdown",
   "id": "0fc81dc4-3fef-47b4-8cef-323ee9c937a8",
   "metadata": {},
   "source": [
    "<div align=\"center\" style=\" font-size: 80%; text-align: center; margin: 0 auto\">\n",
    "<img src=\"Composite-Running-Example.png\"  style=\"display: block; margin-left: auto; margin-right: auto;\";/>\n",
    "</div>"
   ]
  },
  {
   "cell_type": "code",
   "execution_count": 20,
   "id": "96cdd521-7dd1-4018-81ae-4fb4a62f3e03",
   "metadata": {},
   "outputs": [
    {
     "name": "stdout",
     "output_type": "stream",
     "text": [
      "GeneralManager\n",
      "\tManager1\n",
      "\t\tDeveloper11\n",
      "\t\tDeveloper12\n",
      "\tManager2\n",
      "\t\tDeveloper22\n",
      "\t\tDeveloper22\n"
     ]
    }
   ],
   "source": [
    "\"\"\"Here we attempt to make an organizational hierarchy with sub-organization, \n",
    "which may have subsequent sub-organizations, such as: \n",
    "GeneralManager\t\t\t\t\t\t\t\t [Composite] \n",
    "\tManager1\t\t\t\t\t\t\t\t [Composite] \n",
    "\t\t\tDeveloper11\t\t\t\t\t [Leaf] \n",
    "\t\t\tDeveloper12\t\t\t\t\t [Leaf] \n",
    "\tManager2\t\t\t\t\t\t\t\t [Composite] \n",
    "\t\t\tDeveloper21\t\t\t\t\t [Leaf] \n",
    "\t\t\tDeveloper22\t\t\t\t\t [Leaf]\"\"\"\n",
    "\n",
    "class LeafElement: \n",
    "\n",
    "\t'''Class representing objects at the bottom or Leaf of the hierarchy tree.'''\n",
    "\n",
    "\tdef __init__(self, *args): \n",
    "\n",
    "\t\t''''Takes the first positional argument and assigns to member variable \"position\".'''\n",
    "\t\tself.position = args[0] \n",
    "\n",
    "\tdef showDetails(self): \n",
    "\n",
    "\t\t'''Prints the position of the child element.'''\n",
    "\t\tprint(\"\\t\", end =\"\") \n",
    "\t\tprint(self.position) \n",
    "\n",
    "\n",
    "class CompositeElement: \n",
    "\n",
    "\t'''Class representing objects at any level of the hierarchy \n",
    "\ttree except for the bottom or leaf level. Maintains the child \n",
    "\tobjects by adding and removing them from the tree structure.'''\n",
    "\n",
    "\tdef __init__(self, *args): \n",
    "\n",
    "\t\t'''Takes the first positional argument and assigns to member \n",
    "\t\tvariable \"position\". Initializes a list of children elements.'''\n",
    "\t\tself.position = args[0] \n",
    "\t\tself.children = [] \n",
    "\n",
    "\tdef add(self, child): \n",
    "\n",
    "\t\t'''Adds the supplied child element to the list of children \n",
    "\t\telements \"children\".'''\n",
    "\t\tself.children.append(child) \n",
    "\n",
    "\tdef remove(self, child): \n",
    "\n",
    "\t\t'''Removes the supplied child element from the list of \n",
    "\t\tchildren elements \"children\".'''\n",
    "\t\tself.children.remove(child) \n",
    "\n",
    "\tdef showDetails(self): \n",
    "\n",
    "\t\t'''Prints the details of the component element first. Then, \n",
    "\t\titerates over each of its children, prints their details by \n",
    "\t\tcalling their showDetails() method.'''\n",
    "\t\tprint(self.position) \n",
    "\t\tfor child in self.children: \n",
    "\t\t\tprint(\"\\t\", end =\"\") \n",
    "\t\t\tchild.showDetails() \n",
    "\n",
    "\n",
    "\"\"\"main method\"\"\"\n",
    "\n",
    "if __name__ == \"__main__\": \n",
    "\n",
    "\ttopLevelMenu = CompositeElement(\"GeneralManager\") \n",
    "\tsubMenuItem1 = CompositeElement(\"Manager1\") \n",
    "\tsubMenuItem2 = CompositeElement(\"Manager2\") \n",
    "\tsubMenuItem11 = LeafElement(\"Developer11\") \n",
    "\tsubMenuItem12 = LeafElement(\"Developer12\") \n",
    "\tsubMenuItem21 = LeafElement(\"Developer21\") \n",
    "\tsubMenuItem22 = LeafElement(\"Developer22\") \n",
    "\tsubMenuItem1.add(subMenuItem11) \n",
    "\tsubMenuItem1.add(subMenuItem12) \n",
    "\tsubMenuItem2.add(subMenuItem22) \n",
    "\tsubMenuItem2.add(subMenuItem22) \n",
    "\n",
    "\ttopLevelMenu.add(subMenuItem1) \n",
    "\ttopLevelMenu.add(subMenuItem2) \n",
    "\ttopLevelMenu.showDetails() \n"
   ]
  },
  {
   "cell_type": "markdown",
   "id": "adc2c364-d250-4613-9cd3-68389c35d825",
   "metadata": {},
   "source": [
    "----------------------------------------------"
   ]
  },
  {
   "cell_type": "markdown",
   "id": "9a1dc54c-7817-43f0-b40a-da045b940d73",
   "metadata": {},
   "source": [
    "<a id=\"decorator-method\"></a>\n",
    "## Decorator Method"
   ]
  },
  {
   "cell_type": "markdown",
   "id": "288e4ca3-b84d-4787-9522-362d1f954c87",
   "metadata": {},
   "source": [
    " is a Structural Design Pattern which allows you to dynamically attach new behaviors to objects without changing their implementation by placing these objects inside the wrapper objects that contains the behaviors. \n",
    "It is much easier to implement Decorator Method in Python because of its built-in feature. It is not equivalent to the Inheritance because the new feature is added only to that particular object, not to the entire subclass."
   ]
  },
  {
   "cell_type": "markdown",
   "id": "df425d99-5509-41d7-995e-2f284e2af2e9",
   "metadata": {},
   "source": [
    "__Problem Without Using Decorator Method__                 \r\n",
    "Imagine We are working with a formatting tool that provides features likes Bold the text and Underlines the text. But after some time, our formatting tools got famous among the targeted audience and on taking the feedback we got that our audience wants more features in the application such as making the text Italic and many other features. \r\n",
    "Looks Simple? It’s not the easy task to implement this or to extend our classes to add more functionalities without disturbing the existing client code because we have to maintain the Single Responsibility Principle."
   ]
  },
  {
   "cell_type": "markdown",
   "id": "aee37d89-90d4-4980-a9be-f0492ff67ed7",
   "metadata": {},
   "source": [
    "__Solution Using Decorator Method__                  \r\n",
    "Now let’s look at the solution that we have to avoid such conditions. Initially, we have only WrittenText but we have to apply filters like BOLD, ITALIC, UNDERLINE. So, we will create separate wrapper classes for each function like BoldWrapperClass, ItalicWrapperClass, and UnderlineWrapperclass.\r\n",
    " "
   ]
  },
  {
   "cell_type": "markdown",
   "id": "6b82d635-d155-4ffc-aa10-7b6c8cc95f76",
   "metadata": {},
   "source": [
    "<div align=\"center\" style=\" font-size: 80%; text-align: center; margin: 0 auto\">\n",
    "<img src=\"Decorator-1.png\"  style=\"display: block; margin-left: auto; margin-right: auto;\";/>\n",
    "</div>"
   ]
  },
  {
   "cell_type": "markdown",
   "id": "8f3e1cc2-f619-4927-8d3c-bafbc4c5cb60",
   "metadata": {},
   "source": [
    "First, we will call BoldWrapperclass over the Written text which ultimately converts the text into BOLD letters"
   ]
  },
  {
   "cell_type": "markdown",
   "id": "7335d4c0-4b65-452a-bfdb-ea6a7f73a645",
   "metadata": {},
   "source": [
    "<div align=\"center\" style=\" font-size: 80%; text-align: center; margin: 0 auto\">\n",
    "<img src=\"Decorator-2.png\"  style=\"display: block; margin-left: auto; margin-right: auto;\";/>\n",
    "</div>"
   ]
  },
  {
   "cell_type": "markdown",
   "id": "81de7d97-0534-44c4-845f-68c98895f9f2",
   "metadata": {},
   "source": [
    "Then we will apply the ItalicWrapperClass and UnderlineWrapperClass over the Bold text which will give us the result what we want."
   ]
  },
  {
   "cell_type": "markdown",
   "id": "18c0a1ed-9b0b-4643-b445-23eb21d9361e",
   "metadata": {},
   "source": [
    "<div align=\"center\" style=\" font-size: 80%; text-align: center; margin: 0 auto\">\n",
    "<img src=\"Decorator-3.png\"  style=\"display: block; margin-left: auto; margin-right: auto;\";/>\n",
    "</div>"
   ]
  },
  {
   "cell_type": "code",
   "execution_count": 21,
   "id": "f742df4a-eaa1-41b7-831d-5eef9eb76b8b",
   "metadata": {},
   "outputs": [
    {
     "name": "stdout",
     "output_type": "stream",
     "text": [
      "before : text\n",
      "after : <i><u><b>text</b></u></i>\n"
     ]
    }
   ],
   "source": [
    "class WrittenText:\n",
    "\n",
    "\t\"\"\"Represents a Written text \"\"\"\n",
    "\n",
    "\tdef __init__(self, text):\n",
    "\t\tself._text = text\n",
    "\n",
    "\tdef render(self):\n",
    "\t\treturn self._text\n",
    "\n",
    "class UnderlineWrapper(WrittenText):\n",
    "\n",
    "\t\"\"\"Wraps a tag in <u>\"\"\"\n",
    "\n",
    "\tdef __init__(self, wrapped):\n",
    "\t\tself._wrapped = wrapped\n",
    "\n",
    "\tdef render(self):\n",
    "\t\treturn \"<u>{}</u>\".format(self._wrapped.render())\n",
    "\n",
    "class ItalicWrapper(WrittenText):\n",
    "\n",
    "\t\"\"\"Wraps a tag in <i>\"\"\"\n",
    "\n",
    "\tdef __init__(self, wrapped):\n",
    "\t\tself._wrapped = wrapped\n",
    "\n",
    "\tdef render(self):\n",
    "\t\treturn \"<i>{}</i>\".format(self._wrapped.render())\n",
    "\n",
    "class BoldWrapper(WrittenText):\n",
    "\n",
    "\t\"\"\"Wraps a tag in <b>\"\"\"\n",
    "\n",
    "\tdef __init__(self, wrapped):\n",
    "\t\tself._wrapped = wrapped\n",
    "\n",
    "\tdef render(self):\n",
    "\t\treturn \"<b>{}</b>\".format(self._wrapped.render())\n",
    "\n",
    "\"\"\" main method \"\"\"\n",
    "\n",
    "if __name__ == '__main__':\n",
    "\n",
    "\tbefore_gfg = WrittenText(\"text\")\n",
    "\tafter_gfg = ItalicWrapper(UnderlineWrapper(BoldWrapper(before_gfg)))\n",
    "\n",
    "\tprint(\"before :\", before_gfg.render())\n",
    "\tprint(\"after :\", after_gfg.render())\n"
   ]
  },
  {
   "cell_type": "markdown",
   "id": "f71e7bdd-5b10-41e0-a7b0-a57d5841c35a",
   "metadata": {},
   "source": [
    "---------------------------------"
   ]
  },
  {
   "cell_type": "markdown",
   "id": "2243c06c-8c91-4b11-80f6-4d9d94e66e9b",
   "metadata": {},
   "source": [
    "## Facade Method "
   ]
  },
  {
   "cell_type": "markdown",
   "id": "7761ed54-4044-4f6c-988b-320757ee50ad",
   "metadata": {},
   "source": [
    "Facade Method is a Structural Design pattern that provides a simpler unified interface to a more complex system. The word Facade means the face of a building or particularly an outer lying interface of a complex system, consists of several sub-systems. It is an essential part Gang of Four design patterns. It provides an easier way to access methods of the underlying systems by providing a single entry point.\n",
    "\n",
    "Here, we create a Facade layer that helps in communicating with subsystems easily to the clients."
   ]
  },
  {
   "cell_type": "markdown",
   "id": "6360ba44-640b-43ce-83b0-ca81601b8af0",
   "metadata": {},
   "source": [
    "<div align=\"center\" style=\" font-size: 80%; text-align: center; margin: 0 auto\">\n",
    "<img src=\"Facade-Method.png\"  style=\"display: block; margin-left: auto; margin-right: auto;\";/>\n",
    "</div>"
   ]
  },
  {
   "cell_type": "markdown",
   "id": "6c5fce35-e2a7-48ef-80b1-1b24025183a4",
   "metadata": {},
   "source": [
    "__Problem without using Facade Method__       \n",
    "Imagine we have a washing machine which can wash the clothes, rinse the clothes and spin the clothes but all the tasks separately. As the whole system is quite complex, we need to abstract the complexities of the subsystems. We need a system that can automate the whole task without the disturbance or interference of us. "
   ]
  },
  {
   "cell_type": "markdown",
   "id": "427c0584-c42e-4aeb-b139-8a6d76f6c538",
   "metadata": {},
   "source": [
    "__Solution using Facade Method__                                \n",
    "To solve the above-described problem, we would like to hire the Facade Method. It will help us to hide or abstract the complexities of the subsystems as follows. "
   ]
  },
  {
   "cell_type": "code",
   "execution_count": 1,
   "id": "5251806b-e6f6-45fa-a54a-402650c8aaa7",
   "metadata": {},
   "outputs": [
    {
     "name": "stdout",
     "output_type": "stream",
     "text": [
      "Washing...\n",
      "Rinsing...\n",
      "Spinning...\n"
     ]
    }
   ],
   "source": [
    "\"\"\"Facade pattern with an example of WashingMachine\"\"\"\n",
    "\n",
    "class Washing: \n",
    "\t'''Subsystem # 1'''\n",
    "\n",
    "\tdef wash(self): \n",
    "\t\tprint(\"Washing...\") \n",
    "\n",
    "\n",
    "class Rinsing: \n",
    "\t'''Subsystem # 2'''\n",
    "\n",
    "\tdef rinse(self): \n",
    "\t\tprint(\"Rinsing...\") \n",
    "\n",
    "\n",
    "class Spinning: \n",
    "\t'''Subsystem # 3'''\n",
    "\n",
    "\tdef spin(self): \n",
    "\t\tprint(\"Spinning...\") \n",
    "\n",
    "\n",
    "class WashingMachine: \n",
    "\t'''Facade'''\n",
    "\n",
    "\tdef __init__(self): \n",
    "\t\tself.washing = Washing() \n",
    "\t\tself.rinsing = Rinsing() \n",
    "\t\tself.spinning = Spinning() \n",
    "\n",
    "\tdef startWashing(self): \n",
    "\t\tself.washing.wash() \n",
    "\t\tself.rinsing.rinse() \n",
    "\t\tself.spinning.spin() \n",
    "\n",
    "\"\"\" main method \"\"\"\n",
    "if __name__ == \"__main__\": \n",
    "\n",
    "\twashingMachine = WashingMachine() \n",
    "\twashingMachine.startWashing() \n"
   ]
  },
  {
   "cell_type": "markdown",
   "id": "1b37aa66-40ac-463c-b397-25a85a0b310e",
   "metadata": {},
   "source": [
    "## Proxy Method"
   ]
  },
  {
   "cell_type": "markdown",
   "id": "1fe2ab72-1001-48ea-9ef4-d45745c93fd2",
   "metadata": {},
   "source": [
    "The Proxy method is Structural design pattern that allows you to provide the replacement for an another object. Here, we use different classes to represent the functionalities of another class. The most important part is that here we create an object having original object functionality to provide to the outer world.\n",
    "The meaning of word Proxy is “in place of” or “on behalf of” that directly explains the Proxy Method.\n",
    "\n",
    "Proxies are also called surrogates, handles, and wrappers. They are closely related in structure, but not purpose, to Adapters and Decorators."
   ]
  },
  {
   "cell_type": "markdown",
   "id": "4b22db65-454d-48e0-b367-0a24b420c112",
   "metadata": {},
   "source": [
    "<div align=\"center\" style=\" font-size: 80%; text-align: center; margin: 0 auto\">\n",
    "<img src=\"proxy-front-image.png\"  style=\"display: block; margin-left: auto; margin-right: auto;\";/>\n",
    "</div>"
   ]
  },
  {
   "cell_type": "markdown",
   "id": "f9e9107c-63c1-4fe5-ac17-1cd5f99a5a2b",
   "metadata": {},
   "source": [
    "A real-world example can be a cheque or credit card is a proxy for what is in our bank account. It can be used in place of cash and provides a means of accessing that cash when required. And that’s exactly what the Proxy pattern does – “Controls and manage access to the object they are protecting“."
   ]
  },
  {
   "cell_type": "markdown",
   "id": "cfa442f1-6cbd-4452-a272-0dfff4c80b95",
   "metadata": {},
   "source": [
    "__Problem Without Using Proxy method__             \n",
    "Let’s understand the problem by considering the example of the College’s Database which takes care of all the student’s records. For e.g., we need to find the name of those students from Database whose balance fee if greater than 500. So, if we traverse the whole list of students and for each student object if we make a separate connection to the database then it will be proved as an expensive task."
   ]
  },
  {
   "cell_type": "markdown",
   "id": "069c3ec2-efca-4814-810e-e7a79fac9f88",
   "metadata": {},
   "source": [
    "<div align=\"center\" style=\" font-size: 80%; text-align: center; margin: 0 auto\">\n",
    "<img src=\"Proxy-method-problem.png\"  style=\"display: block; margin-left: auto; margin-right: auto;\";/>\n",
    "</div>"
   ]
  },
  {
   "cell_type": "markdown",
   "id": "da09d749-0480-49ba-b46e-00b1a3a1d4f6",
   "metadata": {},
   "source": [
    "__Solution using Proxy Method__                      \n",
    "Here comes the Proxy Method to solve the above-discussed problem. We will create a proxy server or maybe a proxy connection to the database and after that, we don’t have to create separate connections to the database for each student object.\n",
    "We will simply get our needed data using the proxy without wasting a huge amount of memory for the creation of the object."
   ]
  },
  {
   "cell_type": "markdown",
   "id": "616c10d1-443e-4596-b795-afd5f28e7b7e",
   "metadata": {},
   "source": [
    "<div align=\"center\" style=\" font-size: 80%; text-align: center; margin: 0 auto\">\n",
    "<img src=\"Proxy-method-Solution.png\"  style=\"display: block; margin-left: auto; margin-right: auto;\";/>\n",
    "</div>"
   ]
  },
  {
   "cell_type": "code",
   "execution_count": 2,
   "id": "d060b341-bf31-4edb-86df-3d5a419c5933",
   "metadata": {},
   "outputs": [
    {
     "name": "stdout",
     "output_type": "stream",
     "text": [
      "Proxy in action. Checking to see if the balance of student is clear or not...\n",
      "Your fee balance is greater than 500, first pay the fee\n",
      "Proxy in action. Checking to see if the balance of student is clear or not...\n",
      "Studying In College....\n"
     ]
    }
   ],
   "source": [
    "class College: \n",
    "\t'''Resource-intensive object'''\n",
    "\n",
    "\tdef studyingInCollege(self): \n",
    "\t\tprint(\"Studying In College....\") \n",
    "\n",
    "\n",
    "class CollegeProxy: \n",
    "\t'''Relatively less resource-intensive proxy acting as middleman. \n",
    "\tInstantiates a College object only if there is no fee due.'''\n",
    "\n",
    "\tdef __init__(self): \n",
    "\n",
    "\t\tself.feeBalance = 1000\n",
    "\t\tself.college = None\n",
    "\n",
    "\tdef studyingInCollege(self): \n",
    "\n",
    "\t\tprint(\"Proxy in action. Checking to see if the balance of student is clear or not...\") \n",
    "\t\tif self.feeBalance <= 500: \n",
    "\t\t\t# If the balance is less than 500, let him study. \n",
    "\t\t\tself.college = College() \n",
    "\t\t\tself.college.studyingInCollege() \n",
    "\t\telse: \n",
    "\n",
    "\t\t\t# Otherwise, don't instantiate the college object. \n",
    "\t\t\tprint(\"Your fee balance is greater than 500, first pay the fee\") \n",
    "\n",
    "\"\"\"main method\"\"\"\n",
    "\n",
    "if __name__ == \"__main__\": \n",
    "\t\n",
    "\t# Instantiate the Proxy \n",
    "\tcollegeProxy = CollegeProxy() \n",
    "\t\n",
    "\t# Client attempting to study in the college at the default balance of 1000. \n",
    "\t# Logically, since he / she cannot study with such balance, \n",
    "\t# there is no need to make the college object. \n",
    "\tcollegeProxy.studyingInCollege() \n",
    "\n",
    "\t# Altering the balance of the student \n",
    "\tcollegeProxy.feeBalance = 100\n",
    "\t\n",
    "\t# Client attempting to study in college at the balance of 100. Should succeed. \n",
    "\tcollegeProxy.studyingInCollege() \n"
   ]
  },
  {
   "cell_type": "markdown",
   "id": "ef9cec38-bf34-4766-a4da-6896e441bf63",
   "metadata": {},
   "source": [
    "------------------------------------------------"
   ]
  },
  {
   "cell_type": "markdown",
   "id": "89356cf4-1c00-4de8-9101-e844b2d82cf4",
   "metadata": {},
   "source": [
    "# Behavioral design pattern"
   ]
  },
  {
   "cell_type": "markdown",
   "id": "22f29d7d-e13c-4705-a00a-112895dd9471",
   "metadata": {},
   "source": [
    "<a id=\"chain-of-responsibility-method\"></a>\n",
    "## Chain of Responsibility"
   ]
  },
  {
   "cell_type": "markdown",
   "id": "11abbc15-eba7-4b46-bccb-c9d1082a0a68",
   "metadata": {},
   "source": [
    "Chain of Responsibility method is Behavioral design pattern and it is the object-oriented version of if … elif … elif … else and make us capable to rearrange the condition-action blocks dynamically at the run-time. It allows us to pass the requests along the chain of handlers. The processing is simple, whenever any handler received the request it has two choices either to process it or pass it to the next handler in the chain. \r\n",
    "This pattern aims to decouple the senders of a request from its receivers by allowing the request to move through chained receivers until it is handled. "
   ]
  },
  {
   "cell_type": "markdown",
   "id": "bd3915b5-5954-4c31-9853-80faa00fd1f7",
   "metadata": {},
   "source": [
    "<div align=\"center\" style=\" font-size: 80%; text-align: center; margin: 0 auto\">\n",
    "<img src=\"chain1 (1).jpg\"  style=\"display: block; margin-left: auto; margin-right: auto;\";/>\n",
    "</div>"
   ]
  },
  {
   "cell_type": "markdown",
   "id": "fa7ef5c2-1a37-4f26-a823-14f0991ee81f",
   "metadata": {},
   "source": [
    "__Problem without using Chain of Responsibility Method__                    \n",
    "Imagine you are building a simple website that takes input strings and tells about the various properties of the strings such as is the string palindrome? is string upperCase? is string lowerCase? and many other properties too. After the complete planning, you decide that these checks for the input string should be performed sequentially. So, here the problem arises for the developer that he/she has to implement such an application that can decide on run-time which action should be performed next."
   ]
  },
  {
   "cell_type": "markdown",
   "id": "0ef86e56-b3a4-4730-9f9f-8597cc938162",
   "metadata": {},
   "source": [
    "__Solution using Chain of Responsibility Method__           \r\n",
    "Chain of Responsibility Method provides the solution for the above-described problem. It creates a separate Abstract handler which is used to handle the sequential operations which should be performed dynamically. For eg., we create four handlers named as FirstConcreteHandler, SecondConcreteHandler, ThirdConcreteHandler, and Defaulthandler and calls them sequentially from the user class."
   ]
  },
  {
   "cell_type": "code",
   "execution_count": 22,
   "id": "70227a02-abdc-4461-84b7-644f79bc2e94",
   "metadata": {},
   "outputs": [
    {
     "name": "stdout",
     "output_type": "stream",
     "text": [
      "This is DefaultHandler telling you that request 'G' has no handler right now.\n",
      "This is FirstConcreteHandler handling request 'e'\n",
      "This is FirstConcreteHandler handling request 'e'\n",
      "This is SecondConcreteHandler handling request 'k'\n",
      "This is ThirdConcreteHandler handling request 's'\n",
      "This is SecondConcreteHandler handling request 'f'\n",
      "This is ThirdConcreteHandler handling request 'o'\n",
      "This is ThirdConcreteHandler handling request 'r'\n",
      "This is DefaultHandler telling you that request 'G' has no handler right now.\n",
      "This is FirstConcreteHandler handling request 'e'\n",
      "This is FirstConcreteHandler handling request 'e'\n",
      "This is SecondConcreteHandler handling request 'k'\n",
      "This is ThirdConcreteHandler handling request 's'\n"
     ]
    }
   ],
   "source": [
    "class AbstractHandler(object):\n",
    "\n",
    "\t\"\"\"Parent class of all concrete handlers\"\"\"\n",
    "\n",
    "\tdef __init__(self, nxt):\n",
    "\n",
    "\t\t\"\"\"change or increase the local variable using nxt\"\"\"\n",
    "\n",
    "\t\tself._nxt = nxt\n",
    "\n",
    "\tdef handle(self, request):\n",
    "\n",
    "\t\t\"\"\"It calls the processRequest through given request\"\"\"\n",
    "\n",
    "\t\thandled = self.processRequest(request)\n",
    "\n",
    "\t\t\"\"\"case when it is not handled\"\"\"\n",
    "\n",
    "\t\tif not handled:\n",
    "\t\t\tself._nxt.handle(request)\n",
    "\n",
    "\tdef processRequest(self, request):\n",
    "\n",
    "\t\t\"\"\"throws a NotImplementedError\"\"\"\n",
    "\n",
    "\t\traise NotImplementedError('First implement it !')\n",
    "\n",
    "\n",
    "class FirstConcreteHandler(AbstractHandler):\n",
    "\n",
    "\t\"\"\"Concrete Handler # 1: Child class of AbstractHandler\"\"\"\n",
    "\n",
    "\tdef processRequest(self, request):\n",
    "\n",
    "\t\t'''return True if request is handled '''\n",
    "\n",
    "\t\tif 'a' < request <= 'e':\n",
    "\t\t\tprint(\"This is {} handling request '{}'\".format(self.__class__.__name__, request))\n",
    "\t\t\treturn True\n",
    "\n",
    "\n",
    "class SecondConcreteHandler(AbstractHandler):\n",
    "\n",
    "\t\"\"\"Concrete Handler # 2: Child class of AbstractHandler\"\"\"\n",
    "\n",
    "\tdef processRequest(self, request):\n",
    "\n",
    "\t\t'''return True if the request is handled'''\n",
    "\n",
    "\t\tif 'e' < request <= 'l':\n",
    "\t\t\tprint(\"This is {} handling request '{}'\".format(self.__class__.__name__, request))\n",
    "\t\t\treturn True\n",
    "\n",
    "class ThirdConcreteHandler(AbstractHandler):\n",
    "\n",
    "\t\"\"\"Concrete Handler # 3: Child class of AbstractHandler\"\"\"\n",
    "\n",
    "\tdef processRequest(self, request):\n",
    "\n",
    "\t\t'''return True if the request is handled'''\n",
    "\n",
    "\t\tif 'l' < request <= 'z':\n",
    "\t\t\tprint(\"This is {} handling request '{}'\".format(self.__class__.__name__, request))\n",
    "\t\t\treturn True\n",
    "\n",
    "class DefaultHandler(AbstractHandler):\n",
    "\n",
    "\t\"\"\"Default Handler: child class from AbstractHandler\"\"\"\n",
    "\n",
    "\tdef processRequest(self, request):\n",
    "\n",
    "\t\t\"\"\"Gives the message that the request is not handled and returns true\"\"\"\n",
    "\n",
    "\t\tprint(\"This is {} telling you that request '{}' has no handler right now.\".format(self.__class__.__name__,\n",
    "\t\t\t\t\t\t\t\t\t\t\t\t\t\t\t\t\t\t\t\t\t\trequest))\n",
    "\t\treturn True\n",
    "\n",
    "\n",
    "class User:\n",
    "\n",
    "\t\"\"\"User Class\"\"\"\n",
    "\n",
    "\tdef __init__(self):\n",
    "\n",
    "\t\t\"\"\"Provides the sequence of handles for the users\"\"\"\n",
    "\n",
    "\t\tinitial = None\n",
    "\n",
    "\t\tself.handler = FirstConcreteHandler(SecondConcreteHandler(ThirdConcreteHandler(DefaultHandler(initial))))\n",
    "\n",
    "\tdef agent(self, user_request):\n",
    "\n",
    "\t\t\"\"\"Iterates over each request and sends them to specific handles\"\"\"\n",
    "\n",
    "\t\tfor request in user_request:\n",
    "\t\t\tself.handler.handle(request)\n",
    "\n",
    "\"\"\"main method\"\"\"\n",
    "\n",
    "if __name__ == \"__main__\":\n",
    "\n",
    "\t\"\"\"Create a client object\"\"\"\n",
    "\tuser = User()\n",
    "\n",
    "\t\"\"\"Create requests to be processed\"\"\"\n",
    "\n",
    "\tstring = \"GeeksforGeeks\"\n",
    "\trequests = list(string)\n",
    "\n",
    "\t\"\"\"Send the requests one by one, to handlers as per the sequence of handlers defined in the Client class\"\"\"\n",
    "\tuser.agent(requests)\n"
   ]
  },
  {
   "cell_type": "markdown",
   "id": "67e559a4-768c-43fd-a232-6e883173e34b",
   "metadata": {},
   "source": [
    "-----------------------------------"
   ]
  },
  {
   "cell_type": "markdown",
   "id": "0b11393d-cb37-4fe6-a809-25348b3ec975",
   "metadata": {},
   "source": [
    "<a id=\"observer-method\"></a>\n",
    "## Observer method "
   ]
  },
  {
   "cell_type": "markdown",
   "id": "4ea0ddbc-0764-4551-9279-735d4590789b",
   "metadata": {},
   "source": [
    "The observer method is a Behavioral design Pattern which allows you to define or create a subscription mechanism to send the notification to the multiple objects about any new event that happens to the object that they are observing. The subject is basically observed by multiple objects. The subject needs to be monitored and whenever there is a change in the subject, the observers are being notified about the change. This pattern defines one to Many dependencies between objects so that one object changes state, all of its dependents are notified and updated automatically."
   ]
  },
  {
   "cell_type": "markdown",
   "id": "bf95c618-ac50-4174-abea-5de172335447",
   "metadata": {},
   "source": [
    "__Problem Without using Observer Method__                                                       \n",
    "Imagine you want to create a calculator application that has different features such as addition, subtraction, changing base of the numbers to hexadecimal, decimal, and many other features. But one of your friends is interested in changing the base of his favorite number to Octal base number and you are still developing the application. So, what could be the solution to it? Should your friend check the application daily just to get to know about the status? But don’t you think it would result in a lot of unnecessary visits to the application which were definitely not required. Or you may think about that each time you add the new feature and send the notification to each user. Is it OK? Sometimes yes but not every time. Might be some users get offended by a lot of unnecessary notifications which they really don’t want."
   ]
  },
  {
   "cell_type": "markdown",
   "id": "d0b02726-2502-4196-8429-3f3353ce28e9",
   "metadata": {},
   "source": [
    "__Solution using Observer Method__            \n",
    "Let’s discuss the solution to the above-described problem. Here comes the object Subject into the limelight. But it also notifies the other objects also that’s why we generally call it Publisher. All the objects that want to track changes in the publisher’s state are called subscribers."
   ]
  },
  {
   "cell_type": "markdown",
   "id": "199491fa-7997-4933-8d21-844f1ea42cb3",
   "metadata": {},
   "source": [
    "<div align=\"center\" style=\" font-size: 80%; text-align: center; margin: 0 auto\">\n",
    "<img src=\"Observer-method-solution-diagram.png\"  style=\"display: block; margin-left: auto; margin-right: auto;\";/>\n",
    "</div>"
   ]
  },
  {
   "cell_type": "code",
   "execution_count": 23,
   "id": "97f80acc-66c6-4c2f-95d1-b78e05fa62e4",
   "metadata": {},
   "outputs": [
    {
     "name": "stdout",
     "output_type": "stream",
     "text": [
      "DecimalViewer: Subject Data 1 has data  10\n",
      "HexViewer: Subject Data 1 has data 0xa\n",
      "OctalViewer: SubjectData 1has data 0o12\n",
      "DecimalViewer: Subject Data 2 has data  15\n",
      "HexViewer: Subject Data 2 has data 0xf\n",
      "OctalViewer: SubjectData 2has data 0o17\n"
     ]
    }
   ],
   "source": [
    "class Subject:\n",
    "\n",
    "\t\"\"\"Represents what is being observed\"\"\"\n",
    "\n",
    "\tdef __init__(self):\n",
    "\n",
    "\t\t\"\"\"create an empty observer list\"\"\"\n",
    "\n",
    "\t\tself._observers = []\n",
    "\n",
    "\tdef notify(self, modifier = None):\n",
    "\n",
    "\t\t\"\"\"Alert the observers\"\"\"\n",
    "\n",
    "\t\tfor observer in self._observers:\n",
    "\t\t\tif modifier != observer:\n",
    "\t\t\t\tobserver.update(self)\n",
    "\n",
    "\tdef attach(self, observer):\n",
    "\n",
    "\t\t\"\"\"If the observer is not in the list,\n",
    "\t\tappend it into the list\"\"\"\n",
    "\n",
    "\t\tif observer not in self._observers:\n",
    "\t\t\tself._observers.append(observer)\n",
    "\n",
    "\tdef detach(self, observer):\n",
    "\n",
    "\t\t\"\"\"Remove the observer from the observer list\"\"\"\n",
    "\n",
    "\t\ttry:\n",
    "\t\t\tself._observers.remove(observer)\n",
    "\t\texcept ValueError:\n",
    "\t\t\tpass\n",
    "\n",
    "\n",
    "\n",
    "class Data(Subject):\n",
    "\n",
    "\t\"\"\"monitor the object\"\"\"\n",
    "\n",
    "\tdef __init__(self, name =''):\n",
    "\t\tSubject.__init__(self)\n",
    "\t\tself.name = name\n",
    "\t\tself._data = 0\n",
    "\n",
    "\t@property\n",
    "\tdef data(self):\n",
    "\t\treturn self._data\n",
    "\n",
    "\t@data.setter\n",
    "\tdef data(self, value):\n",
    "\t\tself._data = value\n",
    "\t\tself.notify()\n",
    "\n",
    "\n",
    "class HexViewer:\n",
    "\n",
    "\t\"\"\"updates the Hexviewer\"\"\"\n",
    "\n",
    "\tdef update(self, subject):\n",
    "\t\tprint('HexViewer: Subject {} has data 0x{:x}'.format(subject.name, subject.data))\n",
    "\n",
    "class OctalViewer:\n",
    "\n",
    "\t\"\"\"updates the Octal viewer\"\"\"\n",
    "\n",
    "\tdef update(self, subject):\n",
    "\t\tprint('OctalViewer: Subject' + str(subject.name) + 'has data '+str(oct(subject.data)))\n",
    "\n",
    "\n",
    "class DecimalViewer:\n",
    "\n",
    "\t\"\"\"updates the Decimal viewer\"\"\"\n",
    "\n",
    "\tdef update(self, subject):\n",
    "\t\tprint('DecimalViewer: Subject % s has data % d' % (subject.name, subject.data))\n",
    "\n",
    "\"\"\"main function\"\"\"\n",
    "\n",
    "if __name__ == \"__main__\":\n",
    "\n",
    "\t\"\"\"provide the data\"\"\"\n",
    "\n",
    "\tobj1 = Data('Data 1')\n",
    "\tobj2 = Data('Data 2')\n",
    "\n",
    "\tview1 = DecimalViewer()\n",
    "\tview2 = HexViewer()\n",
    "\tview3 = OctalViewer()\n",
    "\n",
    "\tobj1.attach(view1)\n",
    "\tobj1.attach(view2)\n",
    "\tobj1.attach(view3)\n",
    "\n",
    "\tobj2.attach(view1)\n",
    "\tobj2.attach(view2)\n",
    "\tobj2.attach(view3)\n",
    "\n",
    "\tobj1.data = 10\n",
    "\tobj2.data = 15\n"
   ]
  },
  {
   "cell_type": "markdown",
   "id": "48731e40-23ed-4ff4-9a8e-6500d3ca50e7",
   "metadata": {},
   "source": [
    "<a id=\"state-method\"></a>\n",
    "## State Method "
   ]
  },
  {
   "cell_type": "markdown",
   "id": "b3bc5bcf-4bfe-4454-a93f-046f2592b0c0",
   "metadata": {},
   "source": [
    "State method is Behavioral Design Pattern that allows an object to change its behavior when there occurs a change in its internal state. It helps in implementing the state as a derived class of the state pattern interface. If we have to change the behavior of an object based on its state, we can have a state variable in the Object and use if-else condition block to perform different actions based on the state. It may be termed as the object-oriented state machine. It implements the state transitions by invoking methods from the pattern’s superclass."
   ]
  },
  {
   "cell_type": "markdown",
   "id": "f760468f-d4c2-4356-9a33-f69a5d52500b",
   "metadata": {},
   "source": [
    "__Problem without using State Method__            \n",
    "The State method pattern represents the Finite State Machine."
   ]
  },
  {
   "cell_type": "markdown",
   "id": "85e181b5-44ff-46f7-946d-cb960231158d",
   "metadata": {},
   "source": [
    "Finite-state-machine-diagram\n",
    "<div align=\"center\" style=\" font-size: 80%; text-align: center; margin: 0 auto\">\n",
    "<img src=\"Finite-state-machine-diagram.png\"  style=\"display: block; margin-left: auto; margin-right: auto;\";/>\n",
    "</div>             \n",
    "\n",
    "At any moment, there can be a finite no. of states that can be present in the program. Each and every state is unique in their kind of behavior and other things. Even the program can change itself from one state to another at any moment of time. A program can go from one state to another if and only if the required transition is available in rules. It will certainly become difficult when we add a large number of states. It will become difficult to handle the code as any small change in transition logic may lead to a change in state conditionals in each method. ="
   ]
  },
  {
   "cell_type": "markdown",
   "id": "28d788b1-8159-4c2c-8022-bf0df54b6d3a",
   "metadata": {},
   "source": [
    "__Solution using State Method__                     \r\n",
    "Let’s have a look at the solution to the above-described problem by considering the example of Radio. Here the radio has two states named as Am State and FM State. We can use the switch to toggle between these two states. The State method suggests that we should create a new class for all possible states of an object and extract all state-specific behaviors into these classes. Instead of implementing all behaviors on its own, the original object called context, stores a reference to one of the state objects that represents its current state, and represents all the state-related work to that object."
   ]
  },
  {
   "cell_type": "markdown",
   "id": "02bdfb49-8d60-41c2-8e22-55b5f42c8fae",
   "metadata": {},
   "source": [
    "<div align=\"center\" style=\" font-size: 80%; text-align: center; margin: 0 auto\">\n",
    "<img src=\"Untitled-Diagram-153-1.png\"  style=\"display: block; margin-left: auto; margin-right: auto;\";/>\n",
    "</div>"
   ]
  },
  {
   "cell_type": "code",
   "execution_count": 24,
   "id": "f5832562-733d-4b59-9013-588591c1f56d",
   "metadata": {},
   "outputs": [
    {
     "name": "stdout",
     "output_type": "stream",
     "text": [
      "Visiting... Station is 89.1 FM\n",
      "Visiting... Station is 103.9 FM\n",
      "Visiting... Station is 81.3 FM\n",
      "Switching to AM\n",
      "Visiting... Station is 1380 AM\n",
      "Visiting... Station is 1510 AM\n",
      "Visiting... Station is 1250 AM\n",
      "Visiting... Station is 1380 AM\n",
      "Visiting... Station is 1510 AM\n",
      "Visiting... Station is 1250 AM\n",
      "Switching to FM\n",
      "Visiting... Station is 89.1 FM\n",
      "Visiting... Station is 103.9 FM\n",
      "Visiting... Station is 81.3 FM\n"
     ]
    }
   ],
   "source": [
    "\"\"\"State class: Base State class\"\"\"\n",
    "class State:\n",
    "\n",
    "\t\"\"\"Base state. This is to share functionality\"\"\"\n",
    "\n",
    "\tdef scan(self):\n",
    "\t\t\n",
    "\t\t\"\"\"Scan the dial to the next station\"\"\"\n",
    "\t\tself.pos += 1\n",
    "\n",
    "\t\t\"\"\"check for the last station\"\"\"\n",
    "\t\tif self.pos == len(self.stations):\n",
    "\t\t\tself.pos = 0\n",
    "\t\tprint(\"Visiting... Station is {} {}\".format(self.stations[self.pos], self.name))\n",
    "\n",
    "\"\"\"Separate Class for AM state of the radio\"\"\"\n",
    "class AmState(State):\n",
    "\n",
    "\t\"\"\"constructor for AM state class\"\"\"\n",
    "\tdef __init__(self, radio):\n",
    "\t\t\n",
    "\t\tself.radio = radio\n",
    "\t\tself.stations = [\"1250\", \"1380\", \"1510\"]\n",
    "\t\tself.pos = 0\n",
    "\t\tself.name = \"AM\"\n",
    "\n",
    "\t\"\"\"method for toggling the state\"\"\"\n",
    "\tdef toggle_amfm(self):\n",
    "\t\tprint(\"Switching to FM\")\n",
    "\t\tself.radio.state = self.radio.fmstate\n",
    "\n",
    "\"\"\"Separate class for FM state\"\"\"\n",
    "class FmState(State):\n",
    "\n",
    "\t\"\"\"Constriuctor for FM state\"\"\"\n",
    "\tdef __init__(self, radio):\n",
    "\t\tself.radio = radio\n",
    "\t\tself.stations = [\"81.3\", \"89.1\", \"103.9\"]\n",
    "\t\tself.pos = 0\n",
    "\t\tself.name = \"FM\"\n",
    "\n",
    "\t\"\"\"method for toggling the state\"\"\"\n",
    "\tdef toggle_amfm(self):\n",
    "\t\tprint(\"Switching to AM\")\n",
    "\t\tself.radio.state = self.radio.amstate\n",
    "\n",
    "\"\"\"Dedicated class Radio\"\"\"\n",
    "class Radio:\n",
    "\n",
    "\t\"\"\"A radio. It has a scan button, and an AM / FM toggle switch.\"\"\"\n",
    "\n",
    "\tdef __init__(self):\n",
    "\t\t\n",
    "\t\t\"\"\"We have an AM state and an FM state\"\"\"\n",
    "\t\tself.fmstate = FmState(self)\n",
    "\t\tself.amstate = AmState(self)\n",
    "\t\tself.state = self.fmstate\n",
    "\n",
    "\t\"\"\"method to toggle the switch\"\"\"\n",
    "\tdef toggle_amfm(self):\n",
    "\t\tself.state.toggle_amfm()\n",
    "\n",
    "\t\"\"\"method to scan \"\"\"\n",
    "\tdef scan(self):\n",
    "\t\tself.state.scan()\n",
    "\n",
    "\"\"\" main method \"\"\"\n",
    "if __name__ == \"__main__\":\n",
    "\n",
    "\t\"\"\" create radio object\"\"\"\n",
    "\tradio = Radio()\n",
    "\tactions = [radio.scan] * 3 + [radio.toggle_amfm] + [radio.scan] * 3\n",
    "\tactions *= 2\n",
    "\n",
    "\tfor action in actions:\n",
    "\t\taction()\n"
   ]
  },
  {
   "cell_type": "markdown",
   "id": "ce50af0d-0b89-44d3-8571-9406a3bc3d0b",
   "metadata": {},
   "source": [
    "----------------------"
   ]
  },
  {
   "cell_type": "markdown",
   "id": "ce2ea7cc-b85d-44b4-a167-ecbc8e9df322",
   "metadata": {},
   "source": [
    "<a id=\"strategy-method\"></a>\n",
    "## Strategy Method"
   ]
  },
  {
   "cell_type": "markdown",
   "id": "12b954ec-0143-43b0-9d2e-f377b906ea0a",
   "metadata": {},
   "source": [
    "The strategy method is Behavioral Design pattern that allows you to define the complete family of algorithms, encapsulates each one and putting each of them into separate classes and also allows to interchange there objects. It is implemented in Python by dynamically replacing the content of a method defined inside a class with the contents of functions defined outside of the class. It enables selecting the algorithm at run-time. This method is also called as Policy Method."
   ]
  },
  {
   "cell_type": "markdown",
   "id": "7c15b359-9b7b-4685-8dfc-61ad5388f4db",
   "metadata": {},
   "source": [
    "__Problem without using Strategy Method__                                    \n",
    "Imagine you created an application for the departmental store. Looks simple? Initially, there was one and only one type of discount called the On-Sale-Discount. So. everything was going with ease and there was no difficulty for maintaining such a simple application for a developer but as time passes, the owner of the departmental store demands for including some other types of discount also for the customers. It is very easy to say to make these changes but definitely not very easy to implement these changes in an efficient way."
   ]
  },
  {
   "cell_type": "markdown",
   "id": "1e6255e9-c37a-4e2a-bb66-0935323bf437",
   "metadata": {},
   "source": [
    "__Solution using Strategy method__                                        \n",
    "Let’s see how can we solve the above-described problem in an efficient way. We can create a specific class that will extract all the algorithms into separate classes called Strategy. Out actual class should store the reference to one of the strategy class."
   ]
  },
  {
   "cell_type": "code",
   "execution_count": 25,
   "id": "4bc35427-840e-496f-b0bd-86c42e6f03bf",
   "metadata": {},
   "outputs": [
    {
     "name": "stdout",
     "output_type": "stream",
     "text": [
      "Price: 20000, price after discount: 20000\n",
      "Price: 20000, price after discount: 16000.0\n",
      "Price: 20000, price after discount: 14980.0\n"
     ]
    }
   ],
   "source": [
    "\"\"\"A separate class for Item\"\"\"\n",
    "class Item:\n",
    "\n",
    "\t\"\"\"Constructor function with price and discount\"\"\"\n",
    "\n",
    "\tdef __init__(self, price, discount_strategy = None):\n",
    "\t\t\n",
    "\t\t\"\"\"take price and discount strategy\"\"\"\n",
    "\t\t\n",
    "\t\tself.price = price\n",
    "\t\tself.discount_strategy = discount_strategy\n",
    "\t\t\n",
    "\t\"\"\"A separate function for price after discount\"\"\"\n",
    "\n",
    "\tdef price_after_discount(self):\n",
    "\t\t\n",
    "\t\tif self.discount_strategy:\n",
    "\t\t\tdiscount = self.discount_strategy(self)\n",
    "\t\telse:\n",
    "\t\t\tdiscount = 0\n",
    "\t\t\t\n",
    "\t\treturn self.price - discount\n",
    "\n",
    "\tdef __repr__(self):\n",
    "\t\t\n",
    "\t\tstatement = \"Price: {}, price after discount: {}\"\n",
    "\t\treturn statement.format(self.price, self.price_after_discount())\n",
    "\n",
    "\"\"\"function dedicated to On Sale Discount\"\"\"\n",
    "def on_sale_discount(order):\n",
    "\t\n",
    "\treturn order.price * 0.25 + 20\n",
    "\n",
    "\"\"\"function dedicated to 20 % discount\"\"\"\n",
    "def twenty_percent_discount(order):\n",
    "\t\n",
    "\treturn order.price * 0.20\n",
    "\n",
    "\"\"\"main function\"\"\"\n",
    "if __name__ == \"__main__\":\n",
    "\n",
    "\tprint(Item(20000))\n",
    "\t\n",
    "\t\"\"\"with discount strategy as 20 % discount\"\"\"\n",
    "\tprint(Item(20000, discount_strategy = twenty_percent_discount))\n",
    "\n",
    "\t\"\"\"with discount strategy as On Sale Discount\"\"\"\n",
    "\tprint(Item(20000, discount_strategy = on_sale_discount))\n"
   ]
  },
  {
   "cell_type": "code",
   "execution_count": null,
   "id": "613fb3b0-e82e-4cff-a694-4835dd43762d",
   "metadata": {},
   "outputs": [],
   "source": []
  }
 ],
 "metadata": {
  "kernelspec": {
   "display_name": "Python 3 (ipykernel)",
   "language": "python",
   "name": "python3"
  },
  "language_info": {
   "codemirror_mode": {
    "name": "ipython",
    "version": 3
   },
   "file_extension": ".py",
   "mimetype": "text/x-python",
   "name": "python",
   "nbconvert_exporter": "python",
   "pygments_lexer": "ipython3",
   "version": "3.11.5"
  }
 },
 "nbformat": 4,
 "nbformat_minor": 5
}
