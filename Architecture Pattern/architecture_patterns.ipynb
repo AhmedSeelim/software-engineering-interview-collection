{
 "cells": [
  {
   "cell_type": "markdown",
   "id": "64a2f43d",
   "metadata": {},
   "source": [
    "# Table of Contents\n",
    "* [Software Architecture](#software_architecture)\n",
    "    \n",
    "* [Different Software Architecture Patterns](#different_software_architecture_patterns)\n",
    "\n",
    "* [Layered Pattern](#layered_pattern)\n",
    "\n",
    "* [Client-Server Pattern](#client_server_pattern)\n",
    "\n",
    "* [Event-Driven Pattern (EDA)](#event_driven_pattern_(eda))\n",
    "\n",
    "* [Microkernel Pattern](#microkernel_pattern)\n",
    "\n",
    "* [Microservices Pattern](#microservices_pattern)\n",
    "\n",
    "* [Monolith](#monolith)\n",
    "\n",
    "* [Model-View-Controller (MVC)](#model_view_controller_(mvc))\n",
    "\n",
    "* [Master-Slave Architecture](#master-slave_architecture)\n",
    "\n",
    "* [Service-Oriented Architecture (SOA)](#service_oriented_architecture_(soa))\n",
    "\n",
    "* [Repository Pattern](#repository_pattern)\n",
    "  \n",
    "* [comparing these architectural patterns based on various aspects:](#comparing)"
   ]
  },
  {
   "cell_type": "markdown",
   "id": "3133d49a",
   "metadata": {},
   "source": [
    "<a id=\"software_architecture\"></a>\n",
    "## Software Architecture :"
   ]
  },
  {
   "cell_type": "markdown",
   "id": "96cf8ee8",
   "metadata": {},
   "source": [
    "1. Software architecture is the blueprint of building software.\n",
    "2. It shows the overall structure of the software,\n",
    "3. the collection of components in it, and how they interact with one another while hiding the implementation. \n",
    "4. This helps the software development team to clearly communicate how the software is going to be built as per the requirements of customers.  "
   ]
  },
  {
   "cell_type": "markdown",
   "id": "c23cbf0b",
   "metadata": {},
   "source": [
    "### -------------------------------------------------------------------------------------------------------------------------------------------------------"
   ]
  },
  {
   "cell_type": "markdown",
   "id": "0780647b",
   "metadata": {},
   "source": [
    "<a id=\"different_software_architecture_patterns\"></a>\n",
    "\n",
    "## Different Software Architecture Patterns :\n",
    "\n",
    "### 1. Layered Pattern\n",
    "### 2. Client-Server Pattern\n",
    "### 3. Event-Driven Pattern (EDA)\n",
    "### 4. Microkernel Pattern\n",
    "### 5. Microservices Pattern\n",
    "### 6.Monolith\n",
    "### 7.Model-View-Controller (MVC)\n",
    "### 8.Master-Slave Architecture\n",
    "### 9.Service-Oriented Architecture (SOA)\n",
    "### 10. Repository Pattern"
   ]
  },
  {
   "cell_type": "markdown",
   "id": "f6bad785",
   "metadata": {},
   "source": [
    "Each layer has unique tasks to do and all the layers are independent of one another. Since each layer is independent, one can modify the code inside a layer without affecting others."
   ]
  },
  {
   "cell_type": "markdown",
   "id": "79b3285d",
   "metadata": {},
   "source": [
    "\n",
    "\n",
    "<img src=\"1_uuBCO0D9y9BuMUQeQyCjuQ.gif\" alt=\"segment\" width=\"500\">\n",
    "<img src=\"1697370498885.gif\" alt=\"segment\" width=\"500\">\n",
    "\n",
    "\n"
   ]
  },
  {
   "cell_type": "markdown",
   "id": "4e54c9b0",
   "metadata": {},
   "source": [
    "### -------------------------------------------------------------------------------------------------------------------------------------------------------"
   ]
  },
  {
   "cell_type": "markdown",
   "id": "598165d6",
   "metadata": {},
   "source": [
    "<a id=\"layered_pattern\"></a>\n",
    "\n",
    "# 1. Layered Pattern\n",
    "##### ‘N-tier architecture’.\n",
    "Basically, this pattern has 4 layers.  \n",
    "\n",
    "#### a. Presentation layer \n",
    "The user interface layer where we see and enter data into an application.\n",
    "\n",
    "#### b. Business layer\n",
    "this layer is responsible for executing business logic as per the request.\n",
    "#### c. Application layer \n",
    "this layer acts as a medium for communication between the ‘presentation layer’ and ‘data layer’.\n",
    "#### d. Data layer\n",
    "this layer has a database for managing data.\n",
    "\n",
    "\n",
    "Ideal for:  \n",
    "\n",
    "E-commerce web applications development like Amazon"
   ]
  },
  {
   "cell_type": "markdown",
   "id": "70f538b1",
   "metadata": {},
   "source": [
    "<div align=\"center\" style=\" font-size: 80%; text-align: center; margin: 0 auto\">\n",
    "<img src=\"arch4.webp\"  style=\"display: block; margin-left: auto; margin-right: auto;\";/>\n",
    "</div>"
   ]
  },
  {
   "cell_type": "code",
   "execution_count": 9,
   "id": "2dba7e27",
   "metadata": {},
   "outputs": [
    {
     "name": "stdout",
     "output_type": "stream",
     "text": [
      "Displaying data: Sample data from the database\n"
     ]
    }
   ],
   "source": [
    "\n",
    "# Presentation Layer (UI)\n",
    "class PresentationLayer:\n",
    "    def __init__(self, business_logic):\n",
    "        self.business_logic = business_logic\n",
    "\n",
    "    def display_data(self):\n",
    "        data = self.business_logic.get_data()\n",
    "        print(f\"Displaying data: {data}\")\n",
    "\n",
    "# Business Logic Layer\n",
    "class BusinessLogicLayer:\n",
    "    def __init__(self, data_access):\n",
    "        self.data_access = data_access\n",
    "\n",
    "    def get_data(self):\n",
    "        return self.data_access.fetch_data()\n",
    "\n",
    "# Data Access Layer\n",
    "class DataAccessLayer:\n",
    "    def fetch_data(self):\n",
    "        # Simulate fetching data from a database\n",
    "        return \"Sample data from the database\"\n",
    "\n",
    "# Main function\n",
    "def main():\n",
    "    data_access = DataAccessLayer()\n",
    "    business_logic = BusinessLogicLayer(data_access)\n",
    "    presentation_layer = PresentationLayer(business_logic)\n",
    "\n",
    "    presentation_layer.display_data()\n",
    "\n",
    "if __name__ == \"__main__\":\n",
    "    main()\n"
   ]
  },
  {
   "cell_type": "markdown",
   "id": "7de55bdb",
   "metadata": {},
   "source": [
    "### -------------------------------------------------------------------------------------------------------------------------------------------------------\n"
   ]
  },
  {
   "cell_type": "markdown",
   "id": "25141856",
   "metadata": {},
   "source": [
    "<a id=\"client_server_Pattern\"></a>\n",
    "# 2. Client-Server Pattern :\n",
    "The client-server pattern has two major entities. They are a server and multiple clients.  \n",
    "\n",
    "Here the server has resources(data, files or services) \n",
    "Client requests the server for a particular resource. Then the server processes the request and responds back accordingly.\n",
    "\n",
    "Examples of software developed in this pattern:  \n",
    "\n",
    " 1. Email.\n",
    " 2. WWW.\n",
    " 3. File sharing apps.\n",
    " 4. Banking, etc\n",
    " \n",
    "So this pattern is suitable for developing the kind of software listed in the examples.  \n"
   ]
  },
  {
   "cell_type": "code",
   "execution_count": 10,
   "id": "2e9f0142",
   "metadata": {},
   "outputs": [
    {
     "name": "stdout",
     "output_type": "stream",
     "text": [
      "Alice sent: Hello from Alice!\n",
      "Alice received: Alice: Hello from Alice!\n",
      "Bob received: Alice: Hello from Alice!\n",
      "Bob sent: Hi there, Bob!\n",
      "Alice received: Bob: Hi there, Bob!\n",
      "Bob received: Bob: Hi there, Bob!\n"
     ]
    }
   ],
   "source": [
    "\n",
    "# Server\n",
    "class Server:\n",
    "    def __init__(self):\n",
    "        self.clients = []\n",
    "\n",
    "    def add_client(self, client):\n",
    "        self.clients.append(client)\n",
    "\n",
    "    def broadcast(self, message):\n",
    "        for client in self.clients:\n",
    "            client.receive(message)\n",
    "\n",
    "# Client\n",
    "class Client:\n",
    "    def __init__(self, server, name):\n",
    "        self.server = server\n",
    "        self.name = name\n",
    "\n",
    "    def send(self, message):\n",
    "        print(f\"{self.name} sent: {message}\")\n",
    "        self.server.broadcast(f\"{self.name}: {message}\")\n",
    "\n",
    "    def receive(self, message):\n",
    "        print(f\"{self.name} received: {message}\")\n",
    "\n",
    "# Main function\n",
    "def main():\n",
    "    server = Server()\n",
    "\n",
    "    client1 = Client(server, \"Alice\")\n",
    "    client2 = Client(server, \"Bob\")\n",
    "\n",
    "    server.add_client(client1)\n",
    "    server.add_client(client2)\n",
    "\n",
    "    client1.send(\"Hello from Alice!\")\n",
    "    client2.send(\"Hi there, Bob!\")\n",
    "\n",
    "if __name__ == \"__main__\":\n",
    "    main()\n"
   ]
  },
  {
   "cell_type": "markdown",
   "id": "71913151",
   "metadata": {},
   "source": [
    "### -------------------------------------------------------------------------------------------------------------------------------------------------------"
   ]
  },
  {
   "cell_type": "markdown",
   "id": "1d7ad462",
   "metadata": {},
   "source": [
    "<a id=\"event_driven_pattern\"></a>\n",
    "\n",
    "\n",
    "# 3. Event-Driven Pattern :\n",
    "Event-Driven Architecture is an Agile approach in which services (operations) of the software are triggered by events.  \n",
    "\n",
    "Well, what does an event mean?  \n",
    "\n",
    "When a user takes action in the application built using the EDA approach, a state change happens and a reaction is generated that is called an event.\n",
    "\n",
    "Eg: A new user fills the signup form and clicks the signup button on Facebook and then a FB account is created for him, which is an event.\n",
    "\n",
    "Ideal for:  \n",
    "\n",
    "Building websites with JavaScript and e-commerce websites in general.\n"
   ]
  },
  {
   "cell_type": "code",
   "execution_count": 11,
   "id": "6c1b31da",
   "metadata": {},
   "outputs": [
    {
     "name": "stdout",
     "output_type": "stream",
     "text": [
      "User logged in: user123\n",
      "Order placed: order456\n",
      "Payment received: payment789\n"
     ]
    }
   ],
   "source": [
    "\n",
    "# Event Dispatcher\n",
    "class EventDispatcher:\n",
    "    def __init__(self):\n",
    "        self.listeners = {}\n",
    "\n",
    "    def add_listener(self, event_name, listener):\n",
    "        if event_name not in self.listeners:\n",
    "            self.listeners[event_name] = []\n",
    "        self.listeners[event_name].append(listener)\n",
    "\n",
    "    def dispatch(self, event_name, data=None):\n",
    "        if event_name in self.listeners:\n",
    "            for listener in self.listeners[event_name]:\n",
    "                listener(data)\n",
    "\n",
    "# Event Handlers\n",
    "def handle_user_login(data):\n",
    "    print(f\"User logged in: {data}\")\n",
    "\n",
    "def handle_order_placed(data):\n",
    "    print(f\"Order placed: {data}\")\n",
    "\n",
    "def handle_payment_received(data):\n",
    "    print(f\"Payment received: {data}\")\n",
    "\n",
    "# Main function\n",
    "def main():\n",
    "    dispatcher = EventDispatcher()\n",
    "\n",
    "    # Register event listeners\n",
    "    dispatcher.add_listener(\"user_login\", handle_user_login)\n",
    "    dispatcher.add_listener(\"order_placed\", handle_order_placed)\n",
    "    dispatcher.add_listener(\"payment_received\", handle_payment_received)\n",
    "\n",
    "    # Simulate events\n",
    "    dispatcher.dispatch(\"user_login\", \"user123\")\n",
    "    dispatcher.dispatch(\"order_placed\", \"order456\")\n",
    "    dispatcher.dispatch(\"payment_received\", \"payment789\")\n",
    "\n",
    "if __name__ == \"__main__\":\n",
    "    main()\n"
   ]
  },
  {
   "cell_type": "markdown",
   "id": "78c50dbc",
   "metadata": {},
   "source": [
    "<div align=\"center\" style=\" font-size: 80%; text-align: center; margin: 0 auto\">\n",
    "<img src=\"arch3.webp\"  style=\"display: block; margin-left: auto; margin-right: auto;\";/>\n",
    "</div>"
   ]
  },
  {
   "cell_type": "markdown",
   "id": "52503917",
   "metadata": {},
   "source": [
    "### -------------------------------------------------------------------------------------------------------------------------------------------------------"
   ]
  },
  {
   "cell_type": "markdown",
   "id": "747021ff",
   "metadata": {},
   "source": [
    "<a id=\"microkernel_pattern\"></a>\n",
    "\n",
    "# 4. Microkernel Pattern :\n",
    "has two major components. They are a core system and plug-in modules. \n",
    "\n",
    "1. The core system handles the fundamental and minimal operations of the application.\n",
    "2. The plug-in modules handle the extended functionalities (like extra features) and customized processing."
   ]
  },
  {
   "cell_type": "markdown",
   "id": "c9efa6bc",
   "metadata": {},
   "source": [
    "Let’s imagine:\n",
    " you have successfully built a chat application. And the basic functionality of the app is that you can text with people across the world without an internet connection. After some time, you would like to add a voice messaging feature to the application, then you are adding the feature successfully. You can add that feature to the already developed application because the microkernel pattern facilitates you to add features as plug-ins.  \n",
    "\n",
    "Microkernel pattern is ideal for:  \n",
    "\n",
    "Product-based applications and scheduling applications. We love new features that keep giving dopamine boost to our brain. Such as Instagram reels, YouTube Shorts and a lot more that feasts us digitally. So this pattern is mostly preferred for app development.  "
   ]
  },
  {
   "cell_type": "code",
   "execution_count": 12,
   "id": "449c986c",
   "metadata": {},
   "outputs": [
    {
     "name": "stdout",
     "output_type": "stream",
     "text": [
      "Processed text: HELLO, WORLD!\n",
      "Sum of numbers: 15\n"
     ]
    }
   ],
   "source": [
    "\n",
    "# Microkernel (Core System)\n",
    "class Microkernel:\n",
    "    def __init__(self):\n",
    "        self.plugins = {}\n",
    "\n",
    "    def register_plugin(self, plugin_name, plugin):\n",
    "        self.plugins[plugin_name] = plugin\n",
    "\n",
    "    def execute_plugin(self, plugin_name, data):\n",
    "        if plugin_name in self.plugins:\n",
    "            return self.plugins[plugin_name].process(data)\n",
    "        else:\n",
    "            return f\"Plugin '{plugin_name}' not found.\"\n",
    "\n",
    "# Plugin: Text Processing\n",
    "class TextProcessingPlugin:\n",
    "    def process(self, text):\n",
    "        return text.upper()\n",
    "\n",
    "# Plugin: Math Operations\n",
    "class MathOperationsPlugin:\n",
    "    def process(self, numbers):\n",
    "        return sum(numbers)\n",
    "\n",
    "# Main function\n",
    "def main():\n",
    "    core_system = Microkernel()\n",
    "\n",
    "    text_plugin = TextProcessingPlugin()\n",
    "    math_plugin = MathOperationsPlugin()\n",
    "\n",
    "    core_system.register_plugin(\"text\", text_plugin)\n",
    "    core_system.register_plugin(\"math\", math_plugin)\n",
    "\n",
    "    # Execute plugins\n",
    "    processed_text = core_system.execute_plugin(\"text\", \"hello, world!\")\n",
    "    result = core_system.execute_plugin(\"math\", [1, 2, 3, 4, 5])\n",
    "\n",
    "    print(f\"Processed text: {processed_text}\")\n",
    "    print(f\"Sum of numbers: {result}\")\n",
    "\n",
    "if __name__ == \"__main__\":\n",
    "    main()\n"
   ]
  },
  {
   "cell_type": "markdown",
   "id": "b9643526",
   "metadata": {},
   "source": [
    "### -------------------------------------------------------------------------------------------------------------------------------------------------------"
   ]
  },
  {
   "cell_type": "markdown",
   "id": "6c8d1ccb",
   "metadata": {},
   "source": [
    "<a id=\"microservices_pattern\"></a>\n",
    "# 5. Microservices Pattern :\n",
    "The collection of small services that are combined to form the actual application is the concept of microservices pattern. Instead of building a bigger application, small programs are built for every service (function) of an application independently. And those small programs are bundled together to be a full-fledged application.  \n",
    "\n",
    "So adding new features and modifying existing microservices without affecting other microservices are no longer a challenge when an application is built in a microservices pattern.  \n",
    "\n",
    "Modules in the application of microservices patterns are loosely coupled. So they are easily understandable, modifiable and scalable.  \n",
    "\n",
    "Example Netflix is one of the most popular examples of software built-in microservices architecture. This pattern is most suitable for websites and web apps having small components.  "
   ]
  },
  {
   "cell_type": "markdown",
   "id": "741675f7",
   "metadata": {},
   "source": [
    "<div align=\"center\" style=\" font-size: 80%; text-align: center; margin: 0 auto\">\n",
    "<img src=\"arch6.webp\"  style=\"display: block; margin-left: auto; margin-right: auto;\";/>\n",
    "</div>"
   ]
  },
  {
   "cell_type": "markdown",
   "id": "acb0dab0",
   "metadata": {},
   "source": [
    "https://github.com/python-microservices/pyms/tree/master/examples"
   ]
  },
  {
   "cell_type": "markdown",
   "id": "1a6141b0",
   "metadata": {},
   "source": [
    "### -------------------------------------------------------------------------------------------------------------------------------------------------------"
   ]
  },
  {
   "cell_type": "markdown",
   "id": "67d6df11",
   "metadata": {},
   "source": [
    "<a id=\"monolith\"></a>\n",
    "\n",
    "# 6. Monolith:\n",
    " - A monolithic architecture is a traditional approach where all components and modules of a software application are tightly integrated into a single codebase and deployed as a single unit. This contrasts with distributed architectures like microservices.\n",
    " -  Key Characteristics: Single Codebase, Tight Integration, Single Deployment Unit.\n"
   ]
  },
  {
   "cell_type": "markdown",
   "id": "c0102648",
   "metadata": {},
   "source": [
    "<div align=\"center\" style=\" font-size: 80%; text-align: center; margin: 0 auto\">\n",
    "<img src=\"arch5.webp\"  style=\"display: block; margin-left: auto; margin-right: auto;\";/>\n",
    "</div>"
   ]
  },
  {
   "cell_type": "code",
   "execution_count": 13,
   "id": "bace6423",
   "metadata": {},
   "outputs": [
    {
     "name": "stdout",
     "output_type": "stream",
     "text": [
      "Welcome to the Monolith Calculator!\n",
      "Enter the first number: 11\n",
      "Enter the second number: 455\n",
      "Choose an operation (+ or -): +\n",
      "Result: 466.0\n"
     ]
    },
    {
     "ename": "KeyboardInterrupt",
     "evalue": "Interrupted by user",
     "output_type": "error",
     "traceback": [
      "\u001b[1;31m---------------------------------------------------------------------------\u001b[0m",
      "\u001b[1;31mKeyboardInterrupt\u001b[0m                         Traceback (most recent call last)",
      "\u001b[1;32m~\\AppData\\Local\\Temp\\ipykernel_10024\\1170770303.py\u001b[0m in \u001b[0;36m<module>\u001b[1;34m\u001b[0m\n\u001b[0;32m     31\u001b[0m \u001b[1;33m\u001b[0m\u001b[0m\n\u001b[0;32m     32\u001b[0m \u001b[1;32mif\u001b[0m \u001b[0m__name__\u001b[0m \u001b[1;33m==\u001b[0m \u001b[1;34m\"__main__\"\u001b[0m\u001b[1;33m:\u001b[0m\u001b[1;33m\u001b[0m\u001b[1;33m\u001b[0m\u001b[0m\n\u001b[1;32m---> 33\u001b[1;33m     \u001b[0mmain\u001b[0m\u001b[1;33m(\u001b[0m\u001b[1;33m)\u001b[0m\u001b[1;33m\u001b[0m\u001b[1;33m\u001b[0m\u001b[0m\n\u001b[0m",
      "\u001b[1;32m~\\AppData\\Local\\Temp\\ipykernel_10024\\1170770303.py\u001b[0m in \u001b[0;36mmain\u001b[1;34m()\u001b[0m\n\u001b[0;32m     14\u001b[0m     \u001b[1;32mwhile\u001b[0m \u001b[1;32mTrue\u001b[0m\u001b[1;33m:\u001b[0m\u001b[1;33m\u001b[0m\u001b[1;33m\u001b[0m\u001b[0m\n\u001b[0;32m     15\u001b[0m         \u001b[1;32mtry\u001b[0m\u001b[1;33m:\u001b[0m\u001b[1;33m\u001b[0m\u001b[1;33m\u001b[0m\u001b[0m\n\u001b[1;32m---> 16\u001b[1;33m             \u001b[0mnum1\u001b[0m \u001b[1;33m=\u001b[0m \u001b[0mfloat\u001b[0m\u001b[1;33m(\u001b[0m\u001b[0minput\u001b[0m\u001b[1;33m(\u001b[0m\u001b[1;34m\"Enter the first number: \"\u001b[0m\u001b[1;33m)\u001b[0m\u001b[1;33m)\u001b[0m\u001b[1;33m\u001b[0m\u001b[1;33m\u001b[0m\u001b[0m\n\u001b[0m\u001b[0;32m     17\u001b[0m             \u001b[0mnum2\u001b[0m \u001b[1;33m=\u001b[0m \u001b[0mfloat\u001b[0m\u001b[1;33m(\u001b[0m\u001b[0minput\u001b[0m\u001b[1;33m(\u001b[0m\u001b[1;34m\"Enter the second number: \"\u001b[0m\u001b[1;33m)\u001b[0m\u001b[1;33m)\u001b[0m\u001b[1;33m\u001b[0m\u001b[1;33m\u001b[0m\u001b[0m\n\u001b[0;32m     18\u001b[0m             \u001b[0moperation\u001b[0m \u001b[1;33m=\u001b[0m \u001b[0minput\u001b[0m\u001b[1;33m(\u001b[0m\u001b[1;34m\"Choose an operation (+ or -): \"\u001b[0m\u001b[1;33m)\u001b[0m\u001b[1;33m\u001b[0m\u001b[1;33m\u001b[0m\u001b[0m\n",
      "\u001b[1;32mC:\\ProgramData\\Anaconda3\\lib\\site-packages\\ipykernel\\kernelbase.py\u001b[0m in \u001b[0;36mraw_input\u001b[1;34m(self, prompt)\u001b[0m\n\u001b[0;32m   1175\u001b[0m                 \u001b[1;34m\"raw_input was called, but this frontend does not support input requests.\"\u001b[0m\u001b[1;33m\u001b[0m\u001b[1;33m\u001b[0m\u001b[0m\n\u001b[0;32m   1176\u001b[0m             )\n\u001b[1;32m-> 1177\u001b[1;33m         return self._input_request(\n\u001b[0m\u001b[0;32m   1178\u001b[0m             \u001b[0mstr\u001b[0m\u001b[1;33m(\u001b[0m\u001b[0mprompt\u001b[0m\u001b[1;33m)\u001b[0m\u001b[1;33m,\u001b[0m\u001b[1;33m\u001b[0m\u001b[1;33m\u001b[0m\u001b[0m\n\u001b[0;32m   1179\u001b[0m             \u001b[0mself\u001b[0m\u001b[1;33m.\u001b[0m\u001b[0m_parent_ident\u001b[0m\u001b[1;33m[\u001b[0m\u001b[1;34m\"shell\"\u001b[0m\u001b[1;33m]\u001b[0m\u001b[1;33m,\u001b[0m\u001b[1;33m\u001b[0m\u001b[1;33m\u001b[0m\u001b[0m\n",
      "\u001b[1;32mC:\\ProgramData\\Anaconda3\\lib\\site-packages\\ipykernel\\kernelbase.py\u001b[0m in \u001b[0;36m_input_request\u001b[1;34m(self, prompt, ident, parent, password)\u001b[0m\n\u001b[0;32m   1217\u001b[0m             \u001b[1;32mexcept\u001b[0m \u001b[0mKeyboardInterrupt\u001b[0m\u001b[1;33m:\u001b[0m\u001b[1;33m\u001b[0m\u001b[1;33m\u001b[0m\u001b[0m\n\u001b[0;32m   1218\u001b[0m                 \u001b[1;31m# re-raise KeyboardInterrupt, to truncate traceback\u001b[0m\u001b[1;33m\u001b[0m\u001b[1;33m\u001b[0m\u001b[0m\n\u001b[1;32m-> 1219\u001b[1;33m                 \u001b[1;32mraise\u001b[0m \u001b[0mKeyboardInterrupt\u001b[0m\u001b[1;33m(\u001b[0m\u001b[1;34m\"Interrupted by user\"\u001b[0m\u001b[1;33m)\u001b[0m \u001b[1;32mfrom\u001b[0m \u001b[1;32mNone\u001b[0m\u001b[1;33m\u001b[0m\u001b[1;33m\u001b[0m\u001b[0m\n\u001b[0m\u001b[0;32m   1220\u001b[0m             \u001b[1;32mexcept\u001b[0m \u001b[0mException\u001b[0m\u001b[1;33m:\u001b[0m\u001b[1;33m\u001b[0m\u001b[1;33m\u001b[0m\u001b[0m\n\u001b[0;32m   1221\u001b[0m                 \u001b[0mself\u001b[0m\u001b[1;33m.\u001b[0m\u001b[0mlog\u001b[0m\u001b[1;33m.\u001b[0m\u001b[0mwarning\u001b[0m\u001b[1;33m(\u001b[0m\u001b[1;34m\"Invalid Message:\"\u001b[0m\u001b[1;33m,\u001b[0m \u001b[0mexc_info\u001b[0m\u001b[1;33m=\u001b[0m\u001b[1;32mTrue\u001b[0m\u001b[1;33m)\u001b[0m\u001b[1;33m\u001b[0m\u001b[1;33m\u001b[0m\u001b[0m\n",
      "\u001b[1;31mKeyboardInterrupt\u001b[0m: Interrupted by user"
     ]
    }
   ],
   "source": [
    "\n",
    "# Business Logic\n",
    "class Calculator:\n",
    "    def add(self, a, b):\n",
    "        return a + b\n",
    "\n",
    "    def subtract(self, a, b):\n",
    "        return a - b\n",
    "\n",
    "# User Interface\n",
    "def main():\n",
    "    calculator = Calculator()\n",
    "\n",
    "    print(\"Welcome to the Monolith Calculator!\")\n",
    "    while True:\n",
    "        try:\n",
    "            num1 = float(input(\"Enter the first number: \"))\n",
    "            num2 = float(input(\"Enter the second number: \"))\n",
    "            operation = input(\"Choose an operation (+ or -): \")\n",
    "\n",
    "            if operation == \"+\":\n",
    "                result = calculator.add(num1, num2)\n",
    "            elif operation == \"-\":\n",
    "                result = calculator.subtract(num1, num2)\n",
    "            else:\n",
    "                print(\"Invalid operation. Please choose + or -.\")\n",
    "                continue\n",
    "\n",
    "            print(f\"Result: {result}\")\n",
    "        except ValueError:\n",
    "            print(\"Invalid input. Please enter valid numbers.\")\n",
    "\n",
    "if __name__ == \"__main__\":\n",
    "    main()\n"
   ]
  },
  {
   "cell_type": "markdown",
   "id": "48e69df1",
   "metadata": {},
   "source": [
    "### -------------------------------------------------------------------------------------------------------------------------------------------------------"
   ]
  },
  {
   "cell_type": "markdown",
   "id": "6a618667",
   "metadata": {},
   "source": [
    "<a id=\"model_view_controller_(mvc)\"></a>\n",
    "\n",
    "# 7. Model-View-Controller (MVC):\n",
    " - MVC is a design pattern that separates an application into three interconnected components: Model (data and business logic), View (user interface), and Controller (handles user input and updates the model and view accordingly).\n",
    " -  Key Components: Model, View, Controller."
   ]
  },
  {
   "cell_type": "markdown",
   "id": "f6a4ebc1",
   "metadata": {},
   "source": [
    "### Model (Data Layer):\n",
    "The model represents the data and business logic of our application.\n",
    "In this example, we’ll create a simple item catalog.\n",
    "### View (Presentation Layer):\n",
    "The view handles the user interface and presentation of data.\n",
    "We’ll use HTML templates to display our items.\n",
    "### Controller (Application Logic):\n",
    "The controller manages user input, processes requests, and interacts with the model and view.\n",
    "We’ll define routes and handle HTTP requests using Flask."
   ]
  },
  {
   "cell_type": "markdown",
   "id": "d2697d03",
   "metadata": {},
   "source": [
    "<div align=\"center\" style=\" font-size: 80%; text-align: center; margin: 0 auto\">\n",
    "<img src=\"arch7.webp\"  style=\"display: block; margin-left: auto; margin-right: auto;\";/>\n",
    "</div>"
   ]
  },
  {
   "cell_type": "markdown",
   "id": "6553ef35",
   "metadata": {},
   "source": [
    "### -------------------------------------------------------------------------------------------------------------------------------------------------------"
   ]
  },
  {
   "cell_type": "markdown",
   "id": "09503049",
   "metadata": {},
   "source": [
    "<a id=\"master_slave_architecture\"></a>\n",
    "\n",
    "# 8.Master-Slave Architecture:\n",
    " - In a master-slave architecture, one central node (the master) controls and manages one or more subordinate nodes (the slaves). The master distributes tasks to the slaves, and they report back to the master.\n",
    " -  Key Components: Master Node, Slave Nodes, Task Distribution."
   ]
  },
  {
   "cell_type": "markdown",
   "id": "97eecd86",
   "metadata": {},
   "source": [
    "<div align=\"center\" style=\" font-size: 80%; text-align: center; margin: 0 auto\">\n",
    "<img src=\"arch8.webp\"  style=\"display: block; margin-left: auto; margin-right: auto;\";/>\n",
    "</div>"
   ]
  },
  {
   "cell_type": "code",
   "execution_count": 14,
   "id": "2ce04d73",
   "metadata": {},
   "outputs": [
    {
     "name": "stdout",
     "output_type": "stream",
     "text": [
      "Slave 1 result: Processed: Some data\n",
      "Slave 2 result: Processed: Some data\n"
     ]
    }
   ],
   "source": [
    "\n",
    "# Master (Server)\n",
    "class Master:\n",
    "    def __init__(self):\n",
    "        self.slaves = []\n",
    "\n",
    "    def add_slave(self, slave):\n",
    "        self.slaves.append(slave)\n",
    "\n",
    "    def distribute_work(self, data):\n",
    "        for slave in self.slaves:\n",
    "            slave.process(data)\n",
    "\n",
    "    def collect_results(self):\n",
    "        results = []\n",
    "        for slave in self.slaves:\n",
    "            results.append(slave.get_result())\n",
    "        return results\n",
    "\n",
    "# Slave (Client)\n",
    "class Slave:\n",
    "    def process(self, data):\n",
    "        # Simulate processing work\n",
    "        result = f\"Processed: {data}\"\n",
    "        self.result = result\n",
    "\n",
    "    def get_result(self):\n",
    "        return self.result\n",
    "\n",
    "# Main function\n",
    "def main():\n",
    "    master = Master()\n",
    "\n",
    "    slave1 = Slave()\n",
    "    slave2 = Slave()\n",
    "\n",
    "    master.add_slave(slave1)\n",
    "    master.add_slave(slave2)\n",
    "\n",
    "    data_to_process = \"Some data\"\n",
    "    master.distribute_work(data_to_process)\n",
    "\n",
    "    results = master.collect_results()\n",
    "    for idx, result in enumerate(results):\n",
    "        print(f\"Slave {idx+1} result: {result}\")\n",
    "\n",
    "if __name__ == \"__main__\":\n",
    "    main()\n"
   ]
  },
  {
   "cell_type": "markdown",
   "id": "55590264",
   "metadata": {},
   "source": [
    "### ------------------------------------------------------------------------------------------------------------------------------------------------------------------"
   ]
  },
  {
   "cell_type": "markdown",
   "id": "900736ed",
   "metadata": {},
   "source": [
    "<a id=\"service_oriented_architecture_(soa)\"></a>\n",
    "\n",
    "# 9.Service-Oriented Architecture (SOA):\n",
    " is an architectural pattern that focuses on designing software systems as a collection of loosely coupled and independent services. In SOA, services are self-contained, modular units of functionality that can be accessed and invoked over a network using standardized interfaces.\n",
    " Services: SOA decomposes a software system into self-contained, well-defined units of functionality called services. Each service performs a specific business task.\n",
    "\n",
    "### Loose Coupling:\n",
    "Services in SOA are designed to have minimal dependencies on each other, promoting independence and flexibility. Changes to one service do not necessarily impact others.\n",
    "\n",
    "### Service Contract: \n",
    "Services expose their functionality through a contract, which defines the interface and communication protocols. Contracts enable interoperability and standardization.\n",
    "\n",
    "### Service Discovery:\n",
    "SOA provides mechanisms for dynamically locating and invoking services. Service discovery enables flexibility in the system and allows services to be discovered at runtime.\n",
    "\n",
    "### Service Composition:\n",
    "Services can be combined and orchestrated to create higher-level functionalities and fulfill complex business processes. Service composition enables the reuse and integration of services.\n",
    "\n",
    "### Service Autonomy:\n",
    "Services in SOA are autonomous and have control over their own implementation and data. They encapsulate their logic, allowing them to be developed using different technologies and platforms.\n",
    "\n",
    "### Service Governance: \n",
    "SOA emphasizes the need for governance to manage and control services. Governance involves defining policies, standards, and guidelines for service development, deployment, and usage.\n",
    " \n",
    " "
   ]
  },
  {
   "cell_type": "markdown",
   "id": "ea6a31c7",
   "metadata": {},
   "source": [
    "<div align=\"center\" style=\" font-size: 80%; text-align: center; margin: 0 auto\">\n",
    "<img src=\"arch9.png\"  style=\"display: block; margin-left: auto; margin-right: auto;\";/>\n",
    "</div>"
   ]
  },
  {
   "cell_type": "code",
   "execution_count": 15,
   "id": "bb5536db",
   "metadata": {},
   "outputs": [
    {
     "name": "stdout",
     "output_type": "stream",
     "text": [
      "User service endpoint: http://localhost:5000/users\n",
      "Product service endpoint: http://localhost:5000/products\n",
      "User details for ID 123\n",
      "Product details for ID 456\n"
     ]
    }
   ],
   "source": [
    "# Service Registry (Master)\n",
    "class ServiceRegistry:\n",
    "    def __init__(self):\n",
    "        self.services = {}\n",
    "\n",
    "    def register_service(self, service_name, endpoint):\n",
    "        self.services[service_name] = endpoint\n",
    "\n",
    "    def get_service_endpoint(self, service_name):\n",
    "        return self.services.get(service_name, \"Service not found\")\n",
    "\n",
    "# Services (Slaves)\n",
    "class UserService:\n",
    "    def get_user(self, user_id):\n",
    "        return f\"User details for ID {user_id}\"\n",
    "\n",
    "class ProductService:\n",
    "    def get_product(self, product_id):\n",
    "        return f\"Product details for ID {product_id}\"\n",
    "\n",
    "# Main function\n",
    "def main():\n",
    "    registry = ServiceRegistry()\n",
    "\n",
    "    # Register services\n",
    "    registry.register_service(\"users\", \"http://localhost:5000/users\")\n",
    "    registry.register_service(\"products\", \"http://localhost:5000/products\")\n",
    "\n",
    "    # Client requests\n",
    "    user_service = UserService()\n",
    "    product_service = ProductService()\n",
    "\n",
    "    user_id = 123\n",
    "    product_id = 456\n",
    "\n",
    "    user_endpoint = registry.get_service_endpoint(\"users\")\n",
    "    product_endpoint = registry.get_service_endpoint(\"products\")\n",
    "\n",
    "    user_details = user_service.get_user(user_id)\n",
    "    product_details = product_service.get_product(product_id)\n",
    "\n",
    "    print(f\"User service endpoint: {user_endpoint}\")\n",
    "    print(f\"Product service endpoint: {product_endpoint}\")\n",
    "    print(user_details)\n",
    "    print(product_details)\n",
    "\n",
    "if __name__ == \"__main__\":\n",
    "    main()\n"
   ]
  },
  {
   "cell_type": "markdown",
   "id": "3237a173",
   "metadata": {},
   "source": [
    "### -------------------------------------------------------------------------------------------------------------------------------------------------------"
   ]
  },
  {
   "cell_type": "markdown",
   "id": "e182d5af",
   "metadata": {},
   "source": [
    "<a id=\"repository_pattern\"></a>\n",
    "\n",
    "# 10. Repository Pattern: \n",
    "is a design pattern commonly used in software development to provide a consistent and structured way of accessing and managing data. It acts as a mediator between the application and the data persistence layer, such as a database, file system, or external API.\n",
    "\n",
    "The main idea behind the Repository Pattern is to abstract the data access logic from the rest of the application and provide a unified interface for working with data. This abstraction promotes modularity, separation of concerns, and improves the maintainability and testability of the codebase.\n",
    "\n",
    "#### In the Repository Pattern, the core concept revolves around two main components:\n",
    "\n",
    "### 1. Repository Interface:\n",
    "The repository interface defines a contract that specifies the operations and methods for interacting with the data. This interface typically includes common operations like querying data, adding new entities, updating existing entities, and deleting entities. The repository interface serves as a blueprint for the data access operations that the application requires.\n",
    "\n",
    "### 2. Repository Implementation:\n",
    "The repository implementation provides the actual implementation of the methods defined in the repository interface. It encapsulates the logic for interacting with the underlying data source, such as executing SQL queries, making API calls, or performing file operations. The repository implementation handles the details of data access and provides a clean and consistent API for the application to work with."
   ]
  },
  {
   "cell_type": "markdown",
   "id": "f887e1d6",
   "metadata": {},
   "source": [
    "<div align=\"center\" style=\" font-size: 80%; text-align: center; margin: 0 auto\">\n",
    "<img src=\"arch10.png\"  style=\"display: block; margin-left: auto; margin-right: auto;\";/>\n",
    "</div>"
   ]
  },
  {
   "cell_type": "markdown",
   "id": "9ff6713a",
   "metadata": {},
   "source": [
    "### Data Access Object (DAO): \n",
    "DAO is a design pattern that focuses on encapsulating the data access logic for a specific data source, such as a database or an API. It provides an abstraction layer between the application and the data source, allowing the application to interact with the data source without directly exposing the underlying implementation details. DAOs typically provide methods for CRUD operations (Create, Read, Update, Delete) and handle the translation between the data source and the application's domain model.\n",
    "\n",
    "### Data Access Layer (DAL):\n",
    "DAL refers to the layer in an application that is responsible for interacting with the data source. It encapsulates the data access logic, including the implementation of data access patterns such as DAOs or the Repository Pattern. The DAL acts as an intermediary between the business logic layer of the application and the data source, allowing the application to retrieve, manipulate, and persist data without directly interacting with the data source.\n",
    "\n",
    "### Data Mapper:\n",
    "Data Mapper is a pattern that focuses on the translation and mapping of data between different representations, such as between a database and an object-oriented domain model. It separates the concerns of data persistence and domain logic by providing a layer that maps data from one representation to another. In the context of object-relational mapping (ORM), a data mapper is responsible for converting database records into domain objects and vice versa.\n",
    "\n",
    "### Data Broker:\n",
    "Data Broker is a term used to describe a component or module that acts as an intermediary between the application and the data source. It provides a simplified and unified interface for accessing and interacting with the data source. The Data Broker abstracts the complexities of data access and may handle tasks such as connection management, query execution, and result processing. It helps decouple the application from the specific details of the data source and provides a consistent interface for the application's data access needs.\n",
    "\n",
    "### Client Business Logic:\n",
    "Client business logic refers to the logic or rules that govern the behavior and operations of the client-side of an application. It typically includes operations related to user interactions, data processing, and business rules specific to the client application. Client business logic operates on data received from the data source and may involve manipulating, validating, or transforming the data to fulfill the requirements of the application.\n",
    "\n",
    "### Data Source: \n",
    "A data source refers to the location or system from which an application retrieves data. It can be a database, a file system, an external API, or any other system that stores or provides access to data. The data source is the provider of the data that the application interacts with, and the application's data access layer is responsible for retrieving, manipulating, and persisting data to and from the data source.\n",
    "\n",
    "### Domain Model:\n",
    "The domain model represents the core entities, concepts, and relationships of a specific problem domain within an application. It defines the structure, behavior, and rules that govern the business logic of the application. The domain model encapsulates the essential concepts and logic of the problem domain and is independent of the specific implementation details of the data storage or data access mechanisms.\n",
    "\n",
    "### DTO (Data Transfer Object): \n",
    "A DTO is an object that is used to transfer or transport data between different layers or components of an application. It serves as a container for data, typically representing a subset or a transformed representation of the domain model data. DTOs are often used to optimize data transfer across different boundaries, such as between the client and server, or between different layers of an application. They help reduce the amount of data transferred and decouple the data representation from the domain model."
   ]
  },
  {
   "cell_type": "code",
   "execution_count": 16,
   "id": "c090944f",
   "metadata": {},
   "outputs": [
    {
     "name": "stdout",
     "output_type": "stream",
     "text": [
      "User with ID 1: Alice\n",
      "All users:\n",
      "ID: 1, Name: Alice\n",
      "ID: 2, Name: Bob\n"
     ]
    }
   ],
   "source": [
    "# Example of Repository Pattern in Python\n",
    "\n",
    "class UserRepository:\n",
    "    def __init__(self):\n",
    "        self.users = []  # In-memory data storage\n",
    "\n",
    "    def add_user(self, user):\n",
    "        self.users.append(user)\n",
    "\n",
    "    def get_user_by_id(self, user_id):\n",
    "        for user in self.users:\n",
    "            if user[\"id\"] == user_id:\n",
    "                return user\n",
    "        return None\n",
    "\n",
    "    def get_all_users(self):\n",
    "        return self.users\n",
    "\n",
    "# Usage\n",
    "if __name__ == \"__main__\":\n",
    "    user_repo = UserRepository()\n",
    "\n",
    "    # Add users\n",
    "    user_repo.add_user({\"id\": 1, \"name\": \"Alice\"})\n",
    "    user_repo.add_user({\"id\": 2, \"name\": \"Bob\"})\n",
    "\n",
    "    # Retrieve user by ID\n",
    "    user_id = 1\n",
    "    user = user_repo.get_user_by_id(user_id)\n",
    "    if user:\n",
    "        print(f\"User with ID {user_id}: {user['name']}\")\n",
    "    else:\n",
    "        print(f\"User with ID {user_id} not found.\")\n",
    "\n",
    "    # Get all users\n",
    "    all_users = user_repo.get_all_users()\n",
    "    print(\"All users:\")\n",
    "    for u in all_users:\n",
    "        print(f\"ID: {u['id']}, Name: {u['name']}\")\n"
   ]
  },
  {
   "cell_type": "markdown",
   "id": "18bc1acf",
   "metadata": {},
   "source": [
    "### -------------------------------------------------------------------------------------------------------------------------------------------------------"
   ]
  },
  {
   "cell_type": "markdown",
   "id": "2d2d01c1",
   "metadata": {},
   "source": [
    "<a id=\"comparing\"></a>\n",
    "\n",
    "# comparing these architectural patterns based on various aspects:"
   ]
  },
  {
   "cell_type": "markdown",
   "id": "560cb869",
   "metadata": {},
   "source": [
    "## 1. Scalability:\n",
    "### Event-Driven Architecture (EDA): \n",
    "Highly scalable due to its asynchronous nature. Can handle a large number of events concurrently.\n",
    "### Layered Architecture:\n",
    " Scalability might be limited as it can become challenging to scale individual layers independently.\n",
    "### Monolithic Architecture:\n",
    "Scaling can be complex as the entire application needs to be replicated.\n",
    "### Microservices Architecture: \n",
    "Offers excellent scalability by independently scaling services based on demand.\n",
    "### Master-Slave Architecture:\n",
    "Scalability depends on the distribution of tasks among slaves and the capabilities of the master node."
   ]
  },
  {
   "cell_type": "markdown",
   "id": "f48c4cc2",
   "metadata": {},
   "source": [
    "## 2. Maintainability:\n",
    "### Event-Driven Architecture (EDA): \n",
    "Decoupled components make it easier to maintain and update specific functionalities.\n",
    "### Layered Architecture: \n",
    "Promotes maintainability through the separation of concerns but might create dependencies between layers.\n",
    "### Monolithic Architecture: \n",
    "Can be challenging to maintain as changes may affect the entire system.\n",
    "### Microservices Architecture:\n",
    "Easier to maintain due to independent services, but managing multiple services requires efficient coordination.\n",
    "### Master-Slave Architecture:\n",
    "Maintenance is simpler as each slave can be managed independently, but the overall system’s health relies on the master."
   ]
  },
  {
   "cell_type": "markdown",
   "id": "443e9907",
   "metadata": {},
   "source": [
    "## 3. Flexibility:\n",
    "### Event-Driven Architecture (EDA):\n",
    "Highly flexible due to its loosely coupled nature, allowing easy addition or modification of components.\n",
    "### Layered Architecture: \n",
    "Offers moderate flexibility but might require changes in multiple layers for certain modifications.\n",
    "### Monolithic Architecture:\n",
    "Less flexible as changes might impact the entire system.\n",
    "### Microservices Architecture:\n",
    "Offers high flexibility as individual services can be modified, updated, or replaced without affecting others.\n",
    "### Master-Slave Architecture:\n",
    "Flexibility is limited by the structure where slaves depend on the master’s directives."
   ]
  },
  {
   "cell_type": "markdown",
   "id": "09f14354",
   "metadata": {},
   "source": [
    "## 4. Complexity:\n",
    "### Event-Driven Architecture (EDA):\n",
    "Moderately complex due to managing asynchronous events and ensuring event consistency.\n",
    "### Layered Architecture: \n",
    "Moderate complexity but can become complex if dependencies between layers aren’t managed well.\n",
    "### Monolithic Architecture: \n",
    "Simpler to develop initially but can become complex to manage and scale as it grows.\n",
    "### Microservices Architecture:\n",
    "Can be complex to set up and manage due to distributed nature and inter-service communication.\n",
    "### Master-Slave Architecture:\n",
    "Moderate complexity in managing master-slave relationships and ensuring synchronization."
   ]
  }
 ],
 "metadata": {
  "kernelspec": {
   "display_name": "Python 3 (ipykernel)",
   "language": "python",
   "name": "python3"
  },
  "language_info": {
   "codemirror_mode": {
    "name": "ipython",
    "version": 3
   },
   "file_extension": ".py",
   "mimetype": "text/x-python",
   "name": "python",
   "nbconvert_exporter": "python",
   "pygments_lexer": "ipython3",
   "version": "3.11.5"
  }
 },
 "nbformat": 4,
 "nbformat_minor": 5
}
