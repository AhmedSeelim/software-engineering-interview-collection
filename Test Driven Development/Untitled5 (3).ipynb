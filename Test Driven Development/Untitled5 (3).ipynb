{
 "cells": [
  {
   "cell_type": "markdown",
   "id": "9371e802",
   "metadata": {},
   "source": [
    "## notebook index\n",
    "* [TDD definetion]\n",
    "* [TDD cycle]\n",
    "* [TDD process of phases]\n",
    "* [pros and cons of TDD]\n",
    "* [examples by code]\n",
    "* [resourses]"
   ]
  },
  {
   "cell_type": "markdown",
   "id": "00baa1c1",
   "metadata": {},
   "source": [
    "# TDD (Test Driven Development)\n",
    "\n",
    "### what is tdd..!\n",
    "### In short, it is an iterative methodology that entails the conversion of each component of the application into a test case before it is built and then testing and tracking the component repeatedly"
   ]
  },
  {
   "cell_type": "markdown",
   "id": "fbb4f3a3",
   "metadata": {},
   "source": [
    "<div align=\"center\" style=\" font-size: 80%; text-align: center; margin: 0 auto\">\n",
    "<img src=\"pic1sw.jpg\"  style=\"display: block; margin-left: auto; margin-right: auto;\";/>\n",
    "</div>"
   ]
  },
  {
   "cell_type": "markdown",
   "id": "c3041da4",
   "metadata": {},
   "source": [
    "# TDD follows a specific cycle:\n",
    "### 1.Write a Test: \n",
    "In the TDD process, you start by writing a test case for the piece of functionality you want to implement. This test should initially fail because the code you're testing hasn't been written yet.\n",
    "\n",
    "### 2.Write the Code:\n",
    "Next, you write the code to make the test pass. You aim to write the minimum amount of code required to make the test case pass.\n",
    "\n",
    "### 3.Run the Test:\n",
    "You run the test case to check if it passes. If it passes, that means your code works as expected. If it fails, you iterate on the code until the test passes.\n",
    "\n",
    "### 4.Refactor (if needed):\n",
    "After the test passes, you can refactor the code to improve its design, performance, or any other aspects without worrying about breaking existing functionality. The tests act as a safety net to catch regressions.\n",
    "### 5.Repeat:\n",
    "You repeat this cycle for each piece of functionality you want to implement. Over time, you build up a suite of tests that ensure your software is robust and functions as expected."
   ]
  },
  {
   "cell_type": "markdown",
   "id": "089ded13",
   "metadata": {},
   "source": [
    "### TDD can be applied in both plan-driven and agile methodologies, its principles align more closely with agile practices due to its emphasis on flexibility, iterative development, and continuous feedback. However, with appropriate adaptation, TDD can still be valuable in plan-driven environments, especially for projects where requirements evolve over time or where there is a need for rigorous validation of code."
   ]
  },
  {
   "cell_type": "markdown",
   "id": "02cb5fdd",
   "metadata": {},
   "source": [
    "# Test Driven Development Process:\n",
    "### 1.The Red Phase:\n",
    "* 1-Developers create a test for the behavior to be implemented, even before writing any code.\n",
    "* 2-The initial test might not compile due to the absence of code, but this phase focuses on creating a user-friendly interface for future development.\n",
    "* 3-This phase is called the \"red\" stage because the test fails, indicating that no code has been implemented yet.\n",
    "* 4-Decisions about code usage are made based on actual needs, rather than assumptions.\n",
    "\n",
    "\n",
    "### 2.The Green Phase:\n",
    "* 1-The goal is to find a solution without worrying about the implementation details.\n",
    "* 2-Developers write the simplest code required to pass the initial test.\n",
    "* 3-Once the test passes, developers immediately start writing the next test to fail and iteratively add code to make it pass.\n",
    "* 4-Quality and efficiency of the code are secondary concerns at this stage; the focus is on passing the tests.\n",
    "\n",
    "\n",
    "### 3.The Refactoring Phase:\n",
    "* 1-Developers improve the code while ensuring that all tests continue to pass.\n",
    "* 2-The objective shifts from just making tests pass to improving the code beyond the initial solution.\n",
    "* 3-Considerations include design patterns, maintainability, readability, and overall code quality.\n",
    "* 4-The test suite is continuously updated to reflect project progress and ensure functionality is maintained.\n",
    "* 5-Developers can confidently refactor knowing that tests will verify functionality and catch any regressions.\n",
    "* 6-It'sacceptable to leave code that seems imperfect as long as it passes tests, with the intention to revisit and refine it later.\n",
    "\n",
    "Each phase builds upon the previous one, creating a cycle of writing tests, writing code, and refactoring to continually improve the codebase while ensuring functionality is maintained."
   ]
  },
  {
   "cell_type": "markdown",
   "id": "b5181143",
   "metadata": {},
   "source": [
    "# *pros of TDD*:\n",
    "### 1.Code Relevance:\n",
    "Only necessary code is written, driven by the need to pass tests, ensuring that the implemented features are truly needed.\n",
    "### 2.Modular Design:\n",
    "TDD promotes a more modular design by focusing on one microfeature at a time, resulting in clearer interfaces between components.\n",
    "### 3.Ease of Maintenance:\n",
    "With decoupled components and clear interfaces, maintaining the code becomes easier, allowing for the exchange of implementations without affecting other modules.\n",
    "### 4.Facilitates Refactoring:\n",
    "With thorough testing, developers can refactor code confidently, knowing that if tests pass, the changes haven't introduced errors.\n",
    "### 5.High Test Coverage:\n",
    "Each feature has a corresponding test, leading to comprehensive test coverage and increased confidence in the codebase.\n",
    "### 6.Documentation Through Tests:\n",
    "Tests serve as documentation for the code, showcasing how the code is meant to be used and its expected behavior.\n",
    "### 7.Reduction in Debugging Time:\n",
    "With comprehensive tests, developers spend less time debugging, as many potential issues are caught early in the development process.\n",
    "\n",
    "\n",
    "# *cons of TDD*:\n",
    "### 1.No Guarantee Against All Bugs:\n",
    "While tests help identify bugs, they can't catch all errors, especially those introduced in test or implementation code.\n",
    "### 2.Perceived Slowdown:\n",
    "Adopting TDD may initially feel slower as developers need to consider interfaces, write tests, and run them before writing code.\n",
    "### 3.Team Consistency:\n",
    "TDD is most effective when adopted uniformly by the entire team, which can be challenging to achieve.\n",
    "### 4.Maintenance of Tests:\n",
    "Tests need to be maintained alongside code, which can become cumbersome, especially when requirements change frequently.\n",
    "\n",
    "Overall, while TDD offers numerous benefits in terms of code quality, maintainability, and confidence, it requires a mindset shift and team alignment to be fully effective."
   ]
  },
  {
   "cell_type": "markdown",
   "id": "9d62192e",
   "metadata": {},
   "source": [
    "<div style=\"display: flex;\">\n",
    "  <div style=\"flex: 50%;\">\n",
    "    <img src=\"pic3sw.jpg\" style=\"width: 100%;\">\n",
    "  </div>\n",
    "  <div style=\"flex: 50%;\">\n",
    "    <img src=\"pic2sw.jpg\" style=\"width: 100%;\">\n",
    "  </div>\n",
    "</div>"
   ]
  },
  {
   "cell_type": "markdown",
   "id": "d3612a80",
   "metadata": {},
   "source": [
    "### example of testing\n",
    "\n",
    "#### how can we test code..? => exactlly by code too."
   ]
  },
  {
   "cell_type": "code",
   "execution_count": 4,
   "id": "60874c0f",
   "metadata": {},
   "outputs": [],
   "source": [
    "\"\"\"\n",
    "This is a doctest test file for python module: Adding Integers.\n",
    "\"\"\"\n",
    "\n",
    "import doctest\n",
    "\n",
    "# Import the function to be tested\n",
    "#from add_integer import add_integer\n",
    "\n",
    "# Define test cases using doctest format\n",
    "test_cases = [\n",
    "    # Test case 1: Adding two integers\n",
    "    \"\"\"\n",
    "    >>> add_integer(5, 7)\n",
    "    12\n",
    "    \"\"\",\n",
    "\n",
    "    # Test case 2: Adding an integer and a float (should cast to integer)\n",
    "    \"\"\"\n",
    "    >>> add_integer(10, 3.5)\n",
    "    13\n",
    "    \"\"\",\n",
    "\n",
    "    # Test case 3: Adding two floats (should cast to integers)\n",
    "    \"\"\"\n",
    "    >>> add_integer(1.5, 2.5)\n",
    "    3\n",
    "    \"\"\",\n",
    "\n",
    "    # Test case 4: Adding two floats where one is a negative value (cast to integers)\n",
    "    \"\"\"\n",
    "    >>> add_integer(1.5, -2.5)\n",
    "    -1\n",
    "    \"\"\",\n",
    "\n",
    "    # Test case 5: Adding two integers where one is a negative value\n",
    "    \"\"\"\n",
    "    >>> add_integer(-10, 5)\n",
    "    -5\n",
    "    \"\"\",\n",
    "\n",
    "    # Test case 6: Adding a string and an integer (should raise a TypeError)\n",
    "    \"\"\"\n",
    "    >>> add_integer(\"Hello\", 5)\n",
    "    Traceback (most recent call last):\n",
    "        ...\n",
    "    TypeError: a must be an integer\n",
    "    \"\"\"\n",
    "]\n",
    "\n",
    "# Run the doctests\n",
    "if __name__ == '__main__':\n",
    "    doctest.testmod()   "
   ]
  },
  {
   "cell_type": "code",
   "execution_count": 5,
   "id": "63865f9a",
   "metadata": {},
   "outputs": [
    {
     "data": {
      "text/plain": [
       "'\\nImporting function from the module:\\n    >>> add_integer = __import__(\\'0-add_integer\\').add_integer\\n\\nAdding 1 and 2\\n    >>> add_integer(1, 2)\\n    3\\n\\nSubtracting 100 and 2\\n    >>> add_integer(100, -2)\\n    98\\n\\nAdding 2.1 and 98\\n    >>> add_integer(2.1)\\n    100\\n\\nSubtracting 100.3 and 2\\n\\t    >>> add_integer(100.3, -2)\\n\\t    98\\n\\nAdding an integer number and a string\\n    >>> add_integer(4, \"School\")\\n    Traceback (most recent call last):\\n\\t      ...\\n    TypeError: b must be an integer\\n\\nPassing None\\n    >>> add_integer(None)\\n    Traceback (most recent call last):\\n\\t      ...\\n    TypeError: a must be an integer\\n\\nAdding a letter and a number\\n    >>> add_integer(\\'1\\', 1)\\n    Traceback (most recent call last):\\n              ...\\n    TypeError: a must be an integer\\n\\nAdding two letters\\n    >>> add_integer(\\'2\\', \\'1\\')\\n    Traceback (most recent call last):\\n              ...\\n    TypeError: a must be an integer\\n\\nAdding a tuple\\n    >>> add_integer((1, 1))\\n    Traceback (most recent call last):\\n              ...\\n    TypeError: a must be an integer\\n\\nAdding a number and a list\\n    >>> add_integer(123, [])\\n    Traceback (most recent call last):\\n\\t      ...\\n    TypeError: b must be an integer\\n\\nPassing a string\\n    >>> add_integer(\"Hello\")\\n    Traceback (most recent call last):\\n\\t      ...\\n    TypeError: a must be an integer\\n\\nAdding two float numbers\\n    >>> add_integer(2.9, 2.9)\\n    4\\n\\nSubtracting 98 and 1\\n    >>> add_integer(-1)\\n    97\\n\\nCase Overflow:\\n\\n    >>> add_integer(float(\\'inf\\'), 0)\\n    Traceback (most recent call last):\\n    \\t      ...\\n    OverflowError: cannot convert float infinity to integer\\n\\nCase Overflow 2:\\n\\n    >>> add_integer(float(\\'inf\\'), float(\\'-inf\\'))\\n    Traceback (most recent call last):\\n    \\t      ...\\n    OverflowError: cannot convert float infinity to integer\\n\\nCase NaN:\\n\\n    >>> add_integer(0, float(\\'nan\\'))\\n    Traceback (most recent call last):\\n    \\t      ...\\n    ValueError: cannot convert float NaN to integer      \\n'"
      ]
     },
     "execution_count": 5,
     "metadata": {},
     "output_type": "execute_result"
    }
   ],
   "source": [
    "\"\"\"\n",
    "Importing function from the module:\n",
    "    >>> add_integer = __import__('0-add_integer').add_integer\n",
    "\n",
    "Adding 1 and 2\n",
    "    >>> add_integer(1, 2)\n",
    "    3\n",
    "\n",
    "Subtracting 100 and 2\n",
    "    >>> add_integer(100, -2)\n",
    "    98\n",
    "\n",
    "Adding 2.1 and 98\n",
    "    >>> add_integer(2.1)\n",
    "    100\n",
    "\n",
    "Subtracting 100.3 and 2\n",
    "\t    >>> add_integer(100.3, -2)\n",
    "\t    98\n",
    "\n",
    "Adding an integer number and a string\n",
    "    >>> add_integer(4, \"School\")\n",
    "    Traceback (most recent call last):\n",
    "\t      ...\n",
    "    TypeError: b must be an integer\n",
    "\n",
    "Passing None\n",
    "    >>> add_integer(None)\n",
    "    Traceback (most recent call last):\n",
    "\t      ...\n",
    "    TypeError: a must be an integer\n",
    "\n",
    "Adding a letter and a number\n",
    "    >>> add_integer('1', 1)\n",
    "    Traceback (most recent call last):\n",
    "              ...\n",
    "    TypeError: a must be an integer\n",
    "\n",
    "Adding two letters\n",
    "    >>> add_integer('2', '1')\n",
    "    Traceback (most recent call last):\n",
    "              ...\n",
    "    TypeError: a must be an integer\n",
    "\n",
    "Adding a tuple\n",
    "    >>> add_integer((1, 1))\n",
    "    Traceback (most recent call last):\n",
    "              ...\n",
    "    TypeError: a must be an integer\n",
    "\n",
    "Adding a number and a list\n",
    "    >>> add_integer(123, [])\n",
    "    Traceback (most recent call last):\n",
    "\t      ...\n",
    "    TypeError: b must be an integer\n",
    "\n",
    "Passing a string\n",
    "    >>> add_integer(\"Hello\")\n",
    "    Traceback (most recent call last):\n",
    "\t      ...\n",
    "    TypeError: a must be an integer\n",
    "\n",
    "Adding two float numbers\n",
    "    >>> add_integer(2.9, 2.9)\n",
    "    4\n",
    "\n",
    "Subtracting 98 and 1\n",
    "    >>> add_integer(-1)\n",
    "    97\n",
    "\n",
    "Case Overflow:\n",
    "\n",
    "    >>> add_integer(float('inf'), 0)\n",
    "    Traceback (most recent call last):\n",
    "    \t      ...\n",
    "    OverflowError: cannot convert float infinity to integer\n",
    "\n",
    "Case Overflow 2:\n",
    "\n",
    "    >>> add_integer(float('inf'), float('-inf'))\n",
    "    Traceback (most recent call last):\n",
    "    \t      ...\n",
    "    OverflowError: cannot convert float infinity to integer\n",
    "\n",
    "Case NaN:\n",
    "\n",
    "    >>> add_integer(0, float('nan'))\n",
    "    Traceback (most recent call last):\n",
    "    \t      ...\n",
    "    ValueError: cannot convert float NaN to integer      \n",
    "\"\"\""
   ]
  },
  {
   "cell_type": "markdown",
   "id": "ee04ce22",
   "metadata": {},
   "source": [
    "### the code:\n",
    "he goal is to write a function that adds two integers in the python module 0-add_integer. Here's a breakdown of the requirements:\n",
    "1.Create a function called add_integer that takes two arguments, a and b.\n",
    "2.Both a and b must be integers or floats, and if they are not, a TypeError exception should be raised.\n",
    "3.If a or b is a float, they should be cast to integers.\n",
    "4.The function should return the integer result of adding a and b."
   ]
  },
  {
   "cell_type": "code",
   "execution_count": 2,
   "id": "282e4e1d",
   "metadata": {},
   "outputs": [],
   "source": [
    "def add_integer(a, b=98):\n",
    "    \"\"\" Function that adds two integer and/or float numbers\n",
    "    Args:\n",
    "        a: first number\n",
    "        b: second number\n",
    "    Returns:\n",
    "        The addition of the two given numbers\n",
    "    Raises:\n",
    "        TypeError: If a or b aren't integer and/or float numbers\n",
    "    \"\"\"\n",
    "\n",
    "    if not isinstance(a, int) and not isinstance(a, float):\n",
    "        raise TypeError(\"a must be an integer\")\n",
    "    if not isinstance(b, int) and not isinstance(b, float):\n",
    "        raise TypeError(\"b must be an integer\")\n",
    "    a = int(a)\n",
    "    b = int(b)\n",
    "    return (a + b)"
   ]
  },
  {
   "cell_type": "markdown",
   "id": "8e3e53fd",
   "metadata": {},
   "source": [
    "## another examples of unit testing\n",
    "### ##(notteeeee:try it as modules to get the true results)##."
   ]
  },
  {
   "cell_type": "code",
   "execution_count": 7,
   "id": "e1db4edf",
   "metadata": {},
   "outputs": [
    {
     "name": "stderr",
     "output_type": "stream",
     "text": [
      "E\n",
      "======================================================================\n",
      "ERROR: C:\\Users\\Hegazy\\AppData\\Roaming\\jupyter\\runtime\\kernel-b0627251-a1c8-4285-85ae-0e150da1bb32 (unittest.loader._FailedTest)\n",
      "----------------------------------------------------------------------\n",
      "AttributeError: module '__main__' has no attribute 'C:\\Users\\Hegazy\\AppData\\Roaming\\jupyter\\runtime\\kernel-b0627251-a1c8-4285-85ae-0e150da1bb32'\n",
      "\n",
      "----------------------------------------------------------------------\n",
      "Ran 1 test in 0.002s\n",
      "\n",
      "FAILED (errors=1)\n"
     ]
    },
    {
     "ename": "SystemExit",
     "evalue": "True",
     "output_type": "error",
     "traceback": [
      "An exception has occurred, use %tb to see the full traceback.\n",
      "\u001b[1;31mSystemExit\u001b[0m\u001b[1;31m:\u001b[0m True\n"
     ]
    },
    {
     "name": "stderr",
     "output_type": "stream",
     "text": [
      "C:\\Users\\Hegazy\\anaconda3\\lib\\site-packages\\IPython\\core\\interactiveshell.py:3465: UserWarning: To exit: use 'exit', 'quit', or Ctrl-D.\n",
      "  warn(\"To exit: use 'exit', 'quit', or Ctrl-D.\", stacklevel=1)\n"
     ]
    }
   ],
   "source": [
    "import unittest\n",
    "\n",
    "def get_greetings():\n",
    "    return 'Hello World!'\n",
    "\n",
    "class HelloworldTests(unittest.TestCase):\n",
    "    \n",
    "    def test_get_helloworld(self):\n",
    "        self.assertEqual(get_greetings(), 'Hello World!')\n",
    "\n",
    "if __name__ == '__main__':\n",
    "    unittest.main()\n",
    "\n",
    "    \n",
    "\"\"\"\n",
    "the output must be :\n",
    " E:\\python_tdd>python tests_helloworld.py -v\n",
    " test_get_helloworld (main.HelloworldTests) … ok\n",
    " -------------------------------------------------- \n",
    " Ran 1 test in 0.001s\n",
    " OK\n",
    "\"\"\""
   ]
  },
  {
   "cell_type": "code",
   "execution_count": 9,
   "id": "98c370bb",
   "metadata": {},
   "outputs": [],
   "source": [
    "def is_even(number):\n",
    "    return number % 2 == 0"
   ]
  },
  {
   "cell_type": "code",
   "execution_count": 11,
   "id": "de13b971",
   "metadata": {},
   "outputs": [
    {
     "name": "stderr",
     "output_type": "stream",
     "text": [
      "E\n",
      "======================================================================\n",
      "ERROR: C:\\Users\\Hegazy\\AppData\\Roaming\\jupyter\\runtime\\kernel-b0627251-a1c8-4285-85ae-0e150da1bb32 (unittest.loader._FailedTest)\n",
      "----------------------------------------------------------------------\n",
      "AttributeError: module '__main__' has no attribute 'C:\\Users\\Hegazy\\AppData\\Roaming\\jupyter\\runtime\\kernel-b0627251-a1c8-4285-85ae-0e150da1bb32'\n",
      "\n",
      "----------------------------------------------------------------------\n",
      "Ran 1 test in 0.001s\n",
      "\n",
      "FAILED (errors=1)\n"
     ]
    },
    {
     "ename": "SystemExit",
     "evalue": "True",
     "output_type": "error",
     "traceback": [
      "An exception has occurred, use %tb to see the full traceback.\n",
      "\u001b[1;31mSystemExit\u001b[0m\u001b[1;31m:\u001b[0m True\n"
     ]
    },
    {
     "name": "stderr",
     "output_type": "stream",
     "text": [
      "C:\\Users\\Hegazy\\anaconda3\\lib\\site-packages\\IPython\\core\\interactiveshell.py:3465: UserWarning: To exit: use 'exit', 'quit', or Ctrl-D.\n",
      "  warn(\"To exit: use 'exit', 'quit', or Ctrl-D.\", stacklevel=1)\n"
     ]
    }
   ],
   "source": [
    "import unittest\n",
    "from is_even import is_even\n",
    "\n",
    "class TestIsEven(unittest.TestCase):\n",
    "    \n",
    "    def test_even_number(self):\n",
    "        self.assertTrue(is_even(2))\n",
    "    \n",
    "    def test_odd_number(self):\n",
    "        self.assertFalse(is_even(3))\n",
    "    \n",
    "    def test_zero(self):\n",
    "        self.assertTrue(is_even(0))\n",
    "    \n",
    "    def test_negative_even_number(self):\n",
    "        self.assertTrue(is_even(-4))\n",
    "    \n",
    "    def test_negative_odd_number(self):\n",
    "        self.assertFalse(is_even(-5))\n",
    "\n",
    "if __name__ == '__main__':\n",
    "    unittest.main()\n"
   ]
  },
  {
   "cell_type": "markdown",
   "id": "59e07f69",
   "metadata": {},
   "source": [
    "#### resources:\n",
    "https://www.spiceworks.com/tech/devops/articles/what-is-tdd/amp/ .\n",
    "https://www.linkedin.com/pulse/exploring-test-driven-development-javascript-navaneethan-k-v-ngfwc?trk=public_post_feed-article-content .\n",
    "https://youtube.com/playlist?list=PLZPHP6RGS50NtpHLee-eInDbFqy3P303g&si=NDrTp61wNc5smiFs .\n",
    "https://www.linkedin.com/pulse/test-driven-development-python-fiona-githaiga-fmquf?utm_source=share&utm_medium=member_android&utm_campaign=share_via .\n",
    "https://www.geeksforgeeks.org/advantages-and-disadvantages-of-test-driven-development-tdd/ .\n",
    "https://rubikscode.net/2021/05/24/test-driven-development-tdd-with-python/ .\n",
    " and for sure by chatGPT help ."
   ]
  }
 ],
 "metadata": {
  "kernelspec": {
   "display_name": "Python 3 (ipykernel)",
   "language": "python",
   "name": "python3"
  },
  "language_info": {
   "codemirror_mode": {
    "name": "ipython",
    "version": 3
   },
   "file_extension": ".py",
   "mimetype": "text/x-python",
   "name": "python",
   "nbconvert_exporter": "python",
   "pygments_lexer": "ipython3",
   "version": "3.11.5"
  }
 },
 "nbformat": 4,
 "nbformat_minor": 5
}
