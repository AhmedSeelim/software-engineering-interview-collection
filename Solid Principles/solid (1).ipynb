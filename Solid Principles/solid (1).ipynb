{
 "cells": [
  {
   "cell_type": "markdown",
   "id": "99bfc3cf",
   "metadata": {},
   "source": [
    "## notebook index\n",
    "* [SOLID Principles]\n",
    "* [definition of each principle]\n",
    "* [illustrative image for eacn principle]\n",
    "* [examples codes (obey and violate ) for eacn principle]\n",
    "* [resources]"
   ]
  },
  {
   "cell_type": "markdown",
   "id": "0e40db10",
   "metadata": {},
   "source": [
    "# SOLID Principles:\n",
    "#### 1.Single Responsibility Principle (SRP)\n",
    "#### 2.Open-Closed Principle (OCP)\n",
    "#### 3.Liskov Substitution Principle (LSP)\n",
    "#### 4.Interface Segregation Principle (ISP)\n",
    "#### 5.Dependency Inversion Principle (DIP)"
   ]
  },
  {
   "cell_type": "markdown",
   "id": "23a6cfcd",
   "metadata": {},
   "source": [
    "<div align=\"center\" style=\" font-size: 80%; text-align: center; margin: 0 auto\">\n",
    "<img src=\"1.jpg\"  style=\"display: block; margin-left: auto; margin-right: auto;\";/>\n",
    "</div>"
   ]
  },
  {
   "cell_type": "markdown",
   "id": "da29ad3d",
   "metadata": {},
   "source": [
    "## 1.Single Responsibility Principle:\n",
    "#### A class should have a single responsibility or every class should have only one reason to change\n",
    "#### this means:\n",
    "* A class should do one thing and therefore it should have only a single reason to change.\n",
    "* A module should have one, and only one, reason to change"
   ]
  },
  {
   "cell_type": "markdown",
   "id": "6178af79",
   "metadata": {},
   "source": [
    "<div align=\"center\" style=\" font-size: 80%; text-align: center; margin: 0 auto\">\n",
    "<img src=\"s.jpg\"  style=\"display: block; margin-left: auto; margin-right: auto;\";/>\n",
    "</div>"
   ]
  },
  {
   "cell_type": "markdown",
   "id": "448f1ece",
   "metadata": {},
   "source": [
    "### code violate single responsibility"
   ]
  },
  {
   "cell_type": "code",
   "execution_count": 24,
   "id": "7bd73fc4",
   "metadata": {},
   "outputs": [],
   "source": [
    "class CalculatorAndLogger:\n",
    "    def add_and_log(self, a, b):\n",
    "        result = a + b\n",
    "        print(result)"
   ]
  },
  {
   "cell_type": "markdown",
   "id": "c6f3cd0b",
   "metadata": {},
   "source": [
    "### code obey single responsibility:"
   ]
  },
  {
   "cell_type": "code",
   "execution_count": 25,
   "id": "3c7d6ce4",
   "metadata": {},
   "outputs": [],
   "source": [
    "class Calculator:\n",
    "    def add(self, a, b):\n",
    "        return a + b\n",
    "\n",
    "class Logger:\n",
    "    def log(self, message):\n",
    "        print(message)"
   ]
  },
  {
   "cell_type": "markdown",
   "id": "3b4a9c27",
   "metadata": {},
   "source": [
    "## 2.Open-Closed Principle\n",
    "#### software entities (classes, functions, modules, etc.) should be open for extension, but closed for modification.\n",
    "#### this means:\n",
    "* You should be able to extend a module’s behaviour, without modifying it\n",
    "* We should be able to add new functionality without touching the existing code for the class. This is because                  * whenever we modify the existing code, we are taking the risk of creating potential bugs. So we should avoid                   * touching the tested and reliable (mostly) production code if possible."
   ]
  },
  {
   "cell_type": "markdown",
   "id": "265b94e4",
   "metadata": {},
   "source": [
    "<div align=\"center\" style=\" font-size: 80%; text-align: center; margin: 0 auto\">\n",
    "<img src=\"o.jpg\"  style=\"display: block; margin-left: auto; margin-right: auto;\";/>\n",
    "</div>"
   ]
  },
  {
   "cell_type": "markdown",
   "id": "103e9cb2",
   "metadata": {},
   "source": [
    "### code violate open close"
   ]
  },
  {
   "cell_type": "code",
   "execution_count": 26,
   "id": "b15baae0",
   "metadata": {},
   "outputs": [],
   "source": [
    "class Shape:\n",
    "    def area(self):\n",
    "        pass\n",
    "\n",
    "class Circle(Shape):\n",
    "    def area(self):\n",
    "        # Calculate area of circle\n",
    "        pass  # Placeholder for the method body\n",
    "\n",
    "    def perimeter(self):\n",
    "        # Adding new functionality without modifying existing code\n",
    "        pass  # Placeholder for the method body\n"
   ]
  },
  {
   "cell_type": "markdown",
   "id": "7683844c",
   "metadata": {},
   "source": [
    "### code obey open close"
   ]
  },
  {
   "cell_type": "code",
   "execution_count": 27,
   "id": "16855ee9",
   "metadata": {},
   "outputs": [],
   "source": [
    "class Shape:\n",
    "    def area(self):\n",
    "        pass\n",
    "\n",
    "class Circle(Shape):\n",
    "    def area(self):\n",
    "        pass\n",
    "        # calculate area of circle\n",
    "\n",
    "class Rectangle(Shape):\n",
    "    def area(self):\n",
    "        pass\n",
    "        # calculate area of rectangle"
   ]
  },
  {
   "cell_type": "markdown",
   "id": "4ed20707",
   "metadata": {},
   "source": [
    "## 3.Liskov Substitution Principle:\n",
    "#### Subclasses (Derived) classes must be substitutable for their base classes.\n",
    "#### this means: \n",
    "* This means that, given that class B is a subclass of class A, we should be able to pass an object of class B to                 any method that expects an object of class A and the method should not give any weird output in that case.\n",
    "* Liskov's principle is easy to understand but hard to detect in code.\n",
    "* This principles confirms that our abstraction is correct and helps us get a code that is easy reusable, and class               hierarchies that are easily understood. This principle LSP closely is related to OCP. The violation of LSP is                   actually violation of OCP in theory.\n"
   ]
  },
  {
   "cell_type": "markdown",
   "id": "417e9cd9",
   "metadata": {},
   "source": [
    "<div align=\"center\" style=\" font-size: 80%; text-align: center; margin: 0 auto\">\n",
    "<img src=\"l.jpg\"  style=\"display: block; margin-left: auto; margin-right: auto;\";/>\n",
    "</div>"
   ]
  },
  {
   "cell_type": "markdown",
   "id": "a614f7ab",
   "metadata": {},
   "source": [
    "### code violate liskove substitution"
   ]
  },
  {
   "cell_type": "code",
   "execution_count": 28,
   "id": "9eebdd2d",
   "metadata": {},
   "outputs": [],
   "source": [
    "class Bird:\n",
    "    def fly(self):\n",
    "        pass\n",
    "\n",
    "class Ostrich(Bird):  \n",
    "    # Ostriches cannot fly, violating the LSP as they do not follow the same interface as Bird class\n",
    "    pass"
   ]
  },
  {
   "cell_type": "markdown",
   "id": "63953d46",
   "metadata": {},
   "source": [
    "### code obay liskove substitution"
   ]
  },
  {
   "cell_type": "code",
   "execution_count": 29,
   "id": "5138cdc9",
   "metadata": {},
   "outputs": [],
   "source": [
    "class Bird:\n",
    "    def fly(self):\n",
    "        pass\n",
    "\n",
    "class Sparrow(Bird):\n",
    "    def fly(self):\n",
    "        # implement flying behavior for sparrow\n",
    "        pass\n",
    "\n",
    "class Penguin(Bird):  \n",
    "    # Penguins cannot fly, but still follow the same interface as Bird class\n",
    "    pass"
   ]
  },
  {
   "cell_type": "markdown",
   "id": "cae31582",
   "metadata": {},
   "source": [
    "## 4.Interface Segregation Principle:\n",
    "#### Clients should not be forced to depend on methods that they do not use.\n",
    "#### this means:\n",
    "* Segregation means keeping things separated, and the Interface Segregation Principle is about separating the                     interfaces.\n",
    "* Clients should not be forced to implement a function they do no need.\n",
    "* The interface of a program should be split in a way that the user/client would only have access to the necessary                 methods related to their needs.\n"
   ]
  },
  {
   "cell_type": "markdown",
   "id": "057f5404",
   "metadata": {},
   "source": [
    "<div align=\"center\" style=\" font-size: 80%; text-align: center; margin: 0 auto\">\n",
    "<img src=\"i.jpg\"  style=\"display: block; margin-left: auto; margin-right: auto;\";/>\n",
    "</div>"
   ]
  },
  {
   "cell_type": "markdown",
   "id": "39e9e070",
   "metadata": {},
   "source": [
    "### code violate interface segregation"
   ]
  },
  {
   "cell_type": "code",
   "execution_count": 30,
   "id": "fd755eb7",
   "metadata": {},
   "outputs": [],
   "source": [
    "from abc import ABC, abstractmethod\n",
    "\n",
    "class Printer(ABC):\n",
    "    \n",
    "    @abstractmethod\n",
    "    def functionality1(self):\n",
    "        pass\n",
    "    \n",
    "    @abstractmethod\n",
    "    def functionality2(self):\n",
    "        pass\n",
    "    \n",
    "    @abstractmethod\n",
    "    def functionality3(self):\n",
    "        pass\n",
    "\n",
    "# Implement all methods in specific classes\n",
    "\n",
    "class SimplePrinter(Printer):\n",
    "    \n",
    "    def functionality1(self):\n",
    "        print(\"Functionality1\")\n",
    "    \n",
    "    def functionality2(self):\n",
    "        print(\"Functionality2\")\n",
    "    \n",
    "    def functionality3(self):\n",
    "        raise NotImplementedError()\n",
    "\n",
    "class Photocopier(Printer):\n",
    "    \n",
    "    def functionality1(self):\n",
    "        raise NotImplementedError()\n",
    "    \n",
    "    def functionality2(self):\n",
    "        raise NotImplementedError()\n",
    "    \n",
    "    def functionality3(self):\n",
    "        raise NotImplementedError()\n",
    "\n",
    "class MultiFunctionDevice(Printer):\n",
    "    \n",
    "    def functionality1(self):\n",
    "        raise NotImplementedError()\n",
    "    \n",
    "    def functionality2(self):\n",
    "        raise NotImplementedError()\n",
    "    \n",
    "    def functionality3(self):\n",
    "        print(\"Functionality3\")\n"
   ]
  },
  {
   "cell_type": "markdown",
   "id": "2ddeb0a5",
   "metadata": {},
   "source": [
    "### code obey interface segregation"
   ]
  },
  {
   "cell_type": "code",
   "execution_count": 31,
   "id": "3773dc88",
   "metadata": {},
   "outputs": [],
   "source": [
    "from abc import ABC, abstractmethod\n",
    "\n",
    "class PrintFunctionality(ABC):\n",
    "    @abstractmethod\n",
    "    def print_document(self, document):\n",
    "        pass\n",
    "\n",
    "class ScanFunctionality(ABC):\n",
    "    @abstractmethod\n",
    "    def scan_document(self, document):\n",
    "        pass\n",
    "\n",
    "class FaxFunctionality(ABC):\n",
    "    @abstractmethod\n",
    "    def fax_document(self, document):\n",
    "        pass\n",
    "\n",
    "class SimplePrinter(PrintFunctionality):\n",
    "    def print_document(self, document):\n",
    "        print(\"Printing Document\")\n",
    "\n",
    "class Photocopier(ScanFunctionality):\n",
    "    def scan_document(self, document):\n",
    "        print(\"Scanning Document\")\n",
    "\n",
    "class MultiFunctionDevice(PrintFunctionality, ScanFunctionality, FaxFunctionality):\n",
    "    def print_document(self, document):\n",
    "        print(\"Printing Document\")\n",
    "\n",
    "    def scan_document(self, document):\n",
    "        print(\"Scanning Document\")\n",
    "\n",
    "    def fax_document(self, document):\n",
    "        print(\"Faxing Document\")"
   ]
  },
  {
   "cell_type": "markdown",
   "id": "3089ad06",
   "metadata": {},
   "source": [
    "## 5.Dependency Inversion Principle:\n",
    "#### Depend on abstractions, not on concretions.\n",
    "#### this means: \n",
    "* High-level modules should not depend on low-level  modules.\n",
    "* Both should depend on abstractions. Abstractions should not depend upon details.\n",
    "* Details should depend upon abstractions"
   ]
  },
  {
   "cell_type": "markdown",
   "id": "810fa6ce",
   "metadata": {},
   "source": [
    "<div align=\"center\" style=\" font-size: 80%; text-align: center; margin: 0 auto\">\n",
    "<img src=\"d.jpg\"  style=\"display: block; margin-left: auto; margin-right: auto;\";/>\n",
    "</div>"
   ]
  },
  {
   "cell_type": "markdown",
   "id": "965c0c3c",
   "metadata": {},
   "source": [
    "### code violate dependency inversion"
   ]
  },
  {
   "cell_type": "code",
   "execution_count": 32,
   "id": "bce9fa20",
   "metadata": {},
   "outputs": [
    {
     "name": "stdout",
     "output_type": "stream",
     "text": [
      "Saving data to MySQL database\n"
     ]
    }
   ],
   "source": [
    "class MySQLDatabase:\n",
    "    def save(self, data):\n",
    "        print(\"Saving data to MySQL database\")\n",
    "\n",
    "class App:\n",
    "    def __init__(self):  # Corrected the method name to __init__\n",
    "        self.db = MySQLDatabase()  # Initialize the db attribute\n",
    "\n",
    "    def save_data(self, data):\n",
    "        self.db.save(data)\n",
    "\n",
    "app = App()\n",
    "app.save_data(\"Some data\")"
   ]
  },
  {
   "cell_type": "markdown",
   "id": "c7a3573e",
   "metadata": {},
   "source": [
    "### code obey dependency inversion"
   ]
  },
  {
   "cell_type": "code",
   "execution_count": 33,
   "id": "5cb93bf7",
   "metadata": {},
   "outputs": [
    {
     "name": "stdout",
     "output_type": "stream",
     "text": [
      "Saving data to MySQL database\n"
     ]
    }
   ],
   "source": [
    "from abc import ABC, abstractmethod\n",
    "\n",
    "class Database(ABC):\n",
    "    @abstractmethod\n",
    "    def save(self, data):\n",
    "        pass\n",
    "\n",
    "class MySQLDatabase(Database):\n",
    "    def save(self, data):\n",
    "        print(\"Saving data to MySQL database\")\n",
    "\n",
    "class App:\n",
    "    def __init__(self, db: Database):  # Corrected the method name to __init__\n",
    "        self.db = db  # Initialize the db attribute\n",
    "\n",
    "    def save_data(self, data):\n",
    "        self.db.save(data)\n",
    "\n",
    "mysql_db = MySQLDatabase()\n",
    "app = App(mysql_db)\n",
    "app.save_data(\"Some data\")"
   ]
  },
  {
   "cell_type": "markdown",
   "id": "57020d7f",
   "metadata": {},
   "source": [
    "### pros of solid principles:\n",
    "* 1.Increased maintainability\n",
    "* 2.Improved readability\n",
    "* 3.Increased scalability\n",
    "* 4.Better testability\n",
    "* 5.Reduced coupling\n",
    "* 6.Enhanced reusability\n",
    "* 7.Better performance"
   ]
  },
  {
   "cell_type": "markdown",
   "id": "0137e292",
   "metadata": {},
   "source": [
    "### cors of solid principles:\n",
    "* 1.Increased complexity\n",
    "* 2.More classes and interfaces\n",
    "* 3.Over-engineering\n",
    "* 4.Difficulty in understanding\n",
    "* 5.Additional time and effort required\n",
    "* 6.Limited use-cases\n",
    "* 7.Limited flexibility"
   ]
  },
  {
   "cell_type": "markdown",
   "id": "b4e3b3cf",
   "metadata": {},
   "source": [
    "#### resources\n",
    "doctor lectures,\n",
    "ai help,\n",
    "https://net-informations.com/faq/oops/adv.htm ."
   ]
  }
 ],
 "metadata": {
  "kernelspec": {
   "display_name": "Python 3 (ipykernel)",
   "language": "python",
   "name": "python3"
  },
  "language_info": {
   "codemirror_mode": {
    "name": "ipython",
    "version": 3
   },
   "file_extension": ".py",
   "mimetype": "text/x-python",
   "name": "python",
   "nbconvert_exporter": "python",
   "pygments_lexer": "ipython3",
   "version": "3.9.13"
  }
 },
 "nbformat": 4,
 "nbformat_minor": 5
}
